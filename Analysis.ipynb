{
 "cells": [
  {
   "cell_type": "code",
   "execution_count": 1,
   "metadata": {},
   "outputs": [],
   "source": [
    "import requests\n",
    "import pandas as pd\n",
    "import numpy as np"
   ]
  },
  {
   "cell_type": "code",
   "execution_count": 2,
   "metadata": {},
   "outputs": [
    {
     "data": {
      "text/plain": [
       "dict_keys(['events', 'game_settings', 'phases', 'teams', 'total_players', 'elements', 'element_stats', 'element_types'])"
      ]
     },
     "execution_count": 2,
     "metadata": {},
     "output_type": "execute_result"
    }
   ],
   "source": [
    "url = 'https://fantasy.premierleague.com/api/bootstrap-static/'\n",
    "r = requests.get(url)\n",
    "json = r.json()\n",
    "json.keys()"
   ]
  },
  {
   "cell_type": "code",
   "execution_count": 3,
   "metadata": {},
   "outputs": [
    {
     "data": {
      "text/html": [
       "<div>\n",
       "<style scoped>\n",
       "    .dataframe tbody tr th:only-of-type {\n",
       "        vertical-align: middle;\n",
       "    }\n",
       "\n",
       "    .dataframe tbody tr th {\n",
       "        vertical-align: top;\n",
       "    }\n",
       "\n",
       "    .dataframe thead th {\n",
       "        text-align: right;\n",
       "    }\n",
       "</style>\n",
       "<table border=\"1\" class=\"dataframe\">\n",
       "  <thead>\n",
       "    <tr style=\"text-align: right;\">\n",
       "      <th></th>\n",
       "      <th>chance_of_playing_next_round</th>\n",
       "      <th>chance_of_playing_this_round</th>\n",
       "      <th>code</th>\n",
       "      <th>cost_change_event</th>\n",
       "      <th>cost_change_event_fall</th>\n",
       "      <th>cost_change_start</th>\n",
       "      <th>cost_change_start_fall</th>\n",
       "      <th>dreamteam_count</th>\n",
       "      <th>element_type</th>\n",
       "      <th>ep_next</th>\n",
       "      <th>...</th>\n",
       "      <th>threat</th>\n",
       "      <th>ict_index</th>\n",
       "      <th>influence_rank</th>\n",
       "      <th>influence_rank_type</th>\n",
       "      <th>creativity_rank</th>\n",
       "      <th>creativity_rank_type</th>\n",
       "      <th>threat_rank</th>\n",
       "      <th>threat_rank_type</th>\n",
       "      <th>ict_index_rank</th>\n",
       "      <th>ict_index_rank_type</th>\n",
       "    </tr>\n",
       "  </thead>\n",
       "  <tbody>\n",
       "    <tr>\n",
       "      <th>0</th>\n",
       "      <td>NaN</td>\n",
       "      <td>None</td>\n",
       "      <td>37605</td>\n",
       "      <td>0</td>\n",
       "      <td>0</td>\n",
       "      <td>0</td>\n",
       "      <td>0</td>\n",
       "      <td>0</td>\n",
       "      <td>3</td>\n",
       "      <td>3.4</td>\n",
       "      <td>...</td>\n",
       "      <td>190.0</td>\n",
       "      <td>99.8</td>\n",
       "      <td>255</td>\n",
       "      <td>110</td>\n",
       "      <td>35</td>\n",
       "      <td>29</td>\n",
       "      <td>175</td>\n",
       "      <td>96</td>\n",
       "      <td>135</td>\n",
       "      <td>72</td>\n",
       "    </tr>\n",
       "    <tr>\n",
       "      <th>1</th>\n",
       "      <td>NaN</td>\n",
       "      <td>None</td>\n",
       "      <td>39476</td>\n",
       "      <td>0</td>\n",
       "      <td>0</td>\n",
       "      <td>0</td>\n",
       "      <td>0</td>\n",
       "      <td>0</td>\n",
       "      <td>2</td>\n",
       "      <td>3.1</td>\n",
       "      <td>...</td>\n",
       "      <td>110.0</td>\n",
       "      <td>58.5</td>\n",
       "      <td>144</td>\n",
       "      <td>53</td>\n",
       "      <td>296</td>\n",
       "      <td>106</td>\n",
       "      <td>224</td>\n",
       "      <td>65</td>\n",
       "      <td>234</td>\n",
       "      <td>74</td>\n",
       "    </tr>\n",
       "    <tr>\n",
       "      <th>2</th>\n",
       "      <td>NaN</td>\n",
       "      <td>None</td>\n",
       "      <td>41270</td>\n",
       "      <td>0</td>\n",
       "      <td>0</td>\n",
       "      <td>0</td>\n",
       "      <td>0</td>\n",
       "      <td>0</td>\n",
       "      <td>2</td>\n",
       "      <td>3.5</td>\n",
       "      <td>...</td>\n",
       "      <td>211.0</td>\n",
       "      <td>102.1</td>\n",
       "      <td>50</td>\n",
       "      <td>18</td>\n",
       "      <td>222</td>\n",
       "      <td>61</td>\n",
       "      <td>161</td>\n",
       "      <td>32</td>\n",
       "      <td>130</td>\n",
       "      <td>35</td>\n",
       "    </tr>\n",
       "    <tr>\n",
       "      <th>3</th>\n",
       "      <td>NaN</td>\n",
       "      <td>None</td>\n",
       "      <td>54694</td>\n",
       "      <td>0</td>\n",
       "      <td>0</td>\n",
       "      <td>0</td>\n",
       "      <td>0</td>\n",
       "      <td>0</td>\n",
       "      <td>3</td>\n",
       "      <td>5.0</td>\n",
       "      <td>...</td>\n",
       "      <td>1369.0</td>\n",
       "      <td>285.2</td>\n",
       "      <td>8</td>\n",
       "      <td>4</td>\n",
       "      <td>54</td>\n",
       "      <td>42</td>\n",
       "      <td>9</td>\n",
       "      <td>3</td>\n",
       "      <td>11</td>\n",
       "      <td>7</td>\n",
       "    </tr>\n",
       "    <tr>\n",
       "      <th>4</th>\n",
       "      <td>NaN</td>\n",
       "      <td>None</td>\n",
       "      <td>58822</td>\n",
       "      <td>0</td>\n",
       "      <td>0</td>\n",
       "      <td>0</td>\n",
       "      <td>0</td>\n",
       "      <td>0</td>\n",
       "      <td>2</td>\n",
       "      <td>3.1</td>\n",
       "      <td>...</td>\n",
       "      <td>118.0</td>\n",
       "      <td>68.7</td>\n",
       "      <td>182</td>\n",
       "      <td>68</td>\n",
       "      <td>158</td>\n",
       "      <td>34</td>\n",
       "      <td>223</td>\n",
       "      <td>64</td>\n",
       "      <td>202</td>\n",
       "      <td>59</td>\n",
       "    </tr>\n",
       "  </tbody>\n",
       "</table>\n",
       "<p>5 rows × 61 columns</p>\n",
       "</div>"
      ],
      "text/plain": [
       "   chance_of_playing_next_round chance_of_playing_this_round   code  \\\n",
       "0                           NaN                         None  37605   \n",
       "1                           NaN                         None  39476   \n",
       "2                           NaN                         None  41270   \n",
       "3                           NaN                         None  54694   \n",
       "4                           NaN                         None  58822   \n",
       "\n",
       "   cost_change_event  cost_change_event_fall  cost_change_start  \\\n",
       "0                  0                       0                  0   \n",
       "1                  0                       0                  0   \n",
       "2                  0                       0                  0   \n",
       "3                  0                       0                  0   \n",
       "4                  0                       0                  0   \n",
       "\n",
       "   cost_change_start_fall  dreamteam_count  element_type ep_next  ...  threat  \\\n",
       "0                       0                0             3     3.4  ...   190.0   \n",
       "1                       0                0             2     3.1  ...   110.0   \n",
       "2                       0                0             2     3.5  ...   211.0   \n",
       "3                       0                0             3     5.0  ...  1369.0   \n",
       "4                       0                0             2     3.1  ...   118.0   \n",
       "\n",
       "   ict_index influence_rank influence_rank_type  creativity_rank  \\\n",
       "0       99.8            255                 110               35   \n",
       "1       58.5            144                  53              296   \n",
       "2      102.1             50                  18              222   \n",
       "3      285.2              8                   4               54   \n",
       "4       68.7            182                  68              158   \n",
       "\n",
       "   creativity_rank_type threat_rank threat_rank_type  ict_index_rank  \\\n",
       "0                    29         175               96             135   \n",
       "1                   106         224               65             234   \n",
       "2                    61         161               32             130   \n",
       "3                    42           9                3              11   \n",
       "4                    34         223               64             202   \n",
       "\n",
       "  ict_index_rank_type  \n",
       "0                  72  \n",
       "1                  74  \n",
       "2                  35  \n",
       "3                   7  \n",
       "4                  59  \n",
       "\n",
       "[5 rows x 61 columns]"
      ]
     },
     "execution_count": 3,
     "metadata": {},
     "output_type": "execute_result"
    }
   ],
   "source": [
    "elements_df = pd.DataFrame(json['elements'])\n",
    "elements_types_df = pd.DataFrame(json['element_types'])\n",
    "teams_df = pd.DataFrame(json['teams'])\n",
    "elements_df.head()"
   ]
  },
  {
   "cell_type": "code",
   "execution_count": 4,
   "metadata": {},
   "outputs": [
    {
     "data": {
      "text/html": [
       "<div>\n",
       "<style scoped>\n",
       "    .dataframe tbody tr th:only-of-type {\n",
       "        vertical-align: middle;\n",
       "    }\n",
       "\n",
       "    .dataframe tbody tr th {\n",
       "        vertical-align: top;\n",
       "    }\n",
       "\n",
       "    .dataframe thead th {\n",
       "        text-align: right;\n",
       "    }\n",
       "</style>\n",
       "<table border=\"1\" class=\"dataframe\">\n",
       "  <thead>\n",
       "    <tr style=\"text-align: right;\">\n",
       "      <th></th>\n",
       "      <th>id</th>\n",
       "      <th>plural_name</th>\n",
       "      <th>plural_name_short</th>\n",
       "      <th>singular_name</th>\n",
       "      <th>singular_name_short</th>\n",
       "      <th>squad_select</th>\n",
       "      <th>squad_min_play</th>\n",
       "      <th>squad_max_play</th>\n",
       "      <th>ui_shirt_specific</th>\n",
       "      <th>sub_positions_locked</th>\n",
       "      <th>element_count</th>\n",
       "    </tr>\n",
       "  </thead>\n",
       "  <tbody>\n",
       "    <tr>\n",
       "      <th>0</th>\n",
       "      <td>1</td>\n",
       "      <td>Goalkeepers</td>\n",
       "      <td>GKP</td>\n",
       "      <td>Goalkeeper</td>\n",
       "      <td>GKP</td>\n",
       "      <td>2</td>\n",
       "      <td>1</td>\n",
       "      <td>1</td>\n",
       "      <td>True</td>\n",
       "      <td>[12]</td>\n",
       "      <td>50</td>\n",
       "    </tr>\n",
       "    <tr>\n",
       "      <th>1</th>\n",
       "      <td>2</td>\n",
       "      <td>Defenders</td>\n",
       "      <td>DEF</td>\n",
       "      <td>Defender</td>\n",
       "      <td>DEF</td>\n",
       "      <td>5</td>\n",
       "      <td>3</td>\n",
       "      <td>5</td>\n",
       "      <td>False</td>\n",
       "      <td>[]</td>\n",
       "      <td>180</td>\n",
       "    </tr>\n",
       "    <tr>\n",
       "      <th>2</th>\n",
       "      <td>3</td>\n",
       "      <td>Midfielders</td>\n",
       "      <td>MID</td>\n",
       "      <td>Midfielder</td>\n",
       "      <td>MID</td>\n",
       "      <td>5</td>\n",
       "      <td>2</td>\n",
       "      <td>5</td>\n",
       "      <td>False</td>\n",
       "      <td>[]</td>\n",
       "      <td>206</td>\n",
       "    </tr>\n",
       "    <tr>\n",
       "      <th>3</th>\n",
       "      <td>4</td>\n",
       "      <td>Forwards</td>\n",
       "      <td>FWD</td>\n",
       "      <td>Forward</td>\n",
       "      <td>FWD</td>\n",
       "      <td>3</td>\n",
       "      <td>1</td>\n",
       "      <td>3</td>\n",
       "      <td>False</td>\n",
       "      <td>[]</td>\n",
       "      <td>62</td>\n",
       "    </tr>\n",
       "  </tbody>\n",
       "</table>\n",
       "</div>"
      ],
      "text/plain": [
       "   id  plural_name plural_name_short singular_name singular_name_short  \\\n",
       "0   1  Goalkeepers               GKP    Goalkeeper                 GKP   \n",
       "1   2    Defenders               DEF      Defender                 DEF   \n",
       "2   3  Midfielders               MID    Midfielder                 MID   \n",
       "3   4     Forwards               FWD       Forward                 FWD   \n",
       "\n",
       "   squad_select  squad_min_play  squad_max_play  ui_shirt_specific  \\\n",
       "0             2               1               1               True   \n",
       "1             5               3               5              False   \n",
       "2             5               2               5              False   \n",
       "3             3               1               3              False   \n",
       "\n",
       "  sub_positions_locked  element_count  \n",
       "0                 [12]             50  \n",
       "1                   []            180  \n",
       "2                   []            206  \n",
       "3                   []             62  "
      ]
     },
     "execution_count": 4,
     "metadata": {},
     "output_type": "execute_result"
    }
   ],
   "source": [
    "elements_types_df.head()"
   ]
  },
  {
   "cell_type": "code",
   "execution_count": 5,
   "metadata": {},
   "outputs": [
    {
     "name": "stdout",
     "output_type": "stream",
     "text": [
      "Index(['chance_of_playing_next_round', 'chance_of_playing_this_round', 'code',\n",
      "       'cost_change_event', 'cost_change_event_fall', 'cost_change_start',\n",
      "       'cost_change_start_fall', 'dreamteam_count', 'element_type', 'ep_next',\n",
      "       'ep_this', 'event_points', 'first_name', 'form', 'id', 'in_dreamteam',\n",
      "       'news', 'news_added', 'now_cost', 'photo', 'points_per_game',\n",
      "       'second_name', 'selected_by_percent', 'special', 'squad_number',\n",
      "       'status', 'team', 'team_code', 'total_points', 'transfers_in',\n",
      "       'transfers_in_event', 'transfers_out', 'transfers_out_event',\n",
      "       'value_form', 'value_season', 'web_name', 'minutes', 'goals_scored',\n",
      "       'assists', 'clean_sheets', 'goals_conceded', 'own_goals',\n",
      "       'penalties_saved', 'penalties_missed', 'yellow_cards', 'red_cards',\n",
      "       'saves', 'bonus', 'bps', 'influence', 'creativity', 'threat',\n",
      "       'ict_index', 'influence_rank', 'influence_rank_type', 'creativity_rank',\n",
      "       'creativity_rank_type', 'threat_rank', 'threat_rank_type',\n",
      "       'ict_index_rank', 'ict_index_rank_type'],\n",
      "      dtype='object')\n"
     ]
    }
   ],
   "source": [
    "print(elements_df.columns)"
   ]
  },
  {
   "cell_type": "code",
   "execution_count": 6,
   "metadata": {},
   "outputs": [],
   "source": [
    "data = elements_df[['second_name','team','element_type','selected_by_percent','now_cost','minutes','total_points','bonus']]"
   ]
  },
  {
   "cell_type": "code",
   "execution_count": 7,
   "metadata": {},
   "outputs": [
    {
     "data": {
      "text/html": [
       "<div>\n",
       "<style scoped>\n",
       "    .dataframe tbody tr th:only-of-type {\n",
       "        vertical-align: middle;\n",
       "    }\n",
       "\n",
       "    .dataframe tbody tr th {\n",
       "        vertical-align: top;\n",
       "    }\n",
       "\n",
       "    .dataframe thead th {\n",
       "        text-align: right;\n",
       "    }\n",
       "</style>\n",
       "<table border=\"1\" class=\"dataframe\">\n",
       "  <thead>\n",
       "    <tr style=\"text-align: right;\">\n",
       "      <th></th>\n",
       "      <th>second_name</th>\n",
       "      <th>team</th>\n",
       "      <th>element_type</th>\n",
       "      <th>selected_by_percent</th>\n",
       "      <th>now_cost</th>\n",
       "      <th>minutes</th>\n",
       "      <th>total_points</th>\n",
       "      <th>bonus</th>\n",
       "    </tr>\n",
       "  </thead>\n",
       "  <tbody>\n",
       "    <tr>\n",
       "      <th>0</th>\n",
       "      <td>Özil</td>\n",
       "      <td>1</td>\n",
       "      <td>3</td>\n",
       "      <td>2.1</td>\n",
       "      <td>70</td>\n",
       "      <td>1439</td>\n",
       "      <td>53</td>\n",
       "      <td>1</td>\n",
       "    </tr>\n",
       "    <tr>\n",
       "      <th>1</th>\n",
       "      <td>Papastathopoulos</td>\n",
       "      <td>1</td>\n",
       "      <td>2</td>\n",
       "      <td>0.5</td>\n",
       "      <td>50</td>\n",
       "      <td>1696</td>\n",
       "      <td>57</td>\n",
       "      <td>5</td>\n",
       "    </tr>\n",
       "    <tr>\n",
       "      <th>2</th>\n",
       "      <td>Luiz Moreira Marinho</td>\n",
       "      <td>1</td>\n",
       "      <td>2</td>\n",
       "      <td>2.6</td>\n",
       "      <td>55</td>\n",
       "      <td>2809</td>\n",
       "      <td>94</td>\n",
       "      <td>10</td>\n",
       "    </tr>\n",
       "    <tr>\n",
       "      <th>3</th>\n",
       "      <td>Aubameyang</td>\n",
       "      <td>1</td>\n",
       "      <td>3</td>\n",
       "      <td>41.5</td>\n",
       "      <td>120</td>\n",
       "      <td>3136</td>\n",
       "      <td>205</td>\n",
       "      <td>37</td>\n",
       "    </tr>\n",
       "    <tr>\n",
       "      <th>4</th>\n",
       "      <td>Soares</td>\n",
       "      <td>1</td>\n",
       "      <td>2</td>\n",
       "      <td>0.6</td>\n",
       "      <td>50</td>\n",
       "      <td>1553</td>\n",
       "      <td>61</td>\n",
       "      <td>3</td>\n",
       "    </tr>\n",
       "  </tbody>\n",
       "</table>\n",
       "</div>"
      ],
      "text/plain": [
       "            second_name  team  element_type selected_by_percent  now_cost  \\\n",
       "0                  Özil     1             3                 2.1        70   \n",
       "1      Papastathopoulos     1             2                 0.5        50   \n",
       "2  Luiz Moreira Marinho     1             2                 2.6        55   \n",
       "3            Aubameyang     1             3                41.5       120   \n",
       "4                Soares     1             2                 0.6        50   \n",
       "\n",
       "   minutes  total_points  bonus  \n",
       "0     1439            53      1  \n",
       "1     1696            57      5  \n",
       "2     2809            94     10  \n",
       "3     3136           205     37  \n",
       "4     1553            61      3  "
      ]
     },
     "execution_count": 7,
     "metadata": {},
     "output_type": "execute_result"
    }
   ],
   "source": [
    "data.head()"
   ]
  },
  {
   "cell_type": "code",
   "execution_count": 8,
   "metadata": {},
   "outputs": [],
   "source": [
    "data = data.assign(position = data.element_type.map(elements_types_df.set_index('id').singular_name_short) )\n",
    "data = data.assign(team = data.team.map(teams_df.set_index('id').name))\n",
    "data = data.drop(columns=[\"element_type\"])"
   ]
  },
  {
   "cell_type": "markdown",
   "metadata": {},
   "source": [
    "## Remove players who haven't played much or those who have just joined EPL"
   ]
  },
  {
   "cell_type": "code",
   "execution_count": 9,
   "metadata": {},
   "outputs": [],
   "source": [
    "validPlayers = (data.total_points >= 60) & (data.minutes >= 400)\n",
    "data = data.loc[validPlayers,:]"
   ]
  },
  {
   "cell_type": "markdown",
   "metadata": {},
   "source": [
    "## Linearly transform the prices to have lower range of 0 for each 4 positions separately"
   ]
  },
  {
   "cell_type": "code",
   "execution_count": 10,
   "metadata": {},
   "outputs": [],
   "source": [
    "def leastCost(x):\n",
    "    if x=='DEF':\n",
    "        return 4.0\n",
    "    if x=='MID':\n",
    "        return 4.5\n",
    "    if x=='FWD':\n",
    "        return 4.5\n",
    "    if x=='GKP':\n",
    "        return 4.0\n",
    "\n",
    "\n",
    "data = data.assign(realCost = data['now_cost']/10.0 - data['position'].apply(leastCost))"
   ]
  },
  {
   "cell_type": "markdown",
   "metadata": {},
   "source": [
    "## Approximately remove points for just being on the pitch\n",
    "Otherwise, this causes an artificial inflation in points per minutes per cost for some players <br>"
   ]
  },
  {
   "cell_type": "code",
   "execution_count": 11,
   "metadata": {},
   "outputs": [
    {
     "data": {
      "text/html": [
       "<div>\n",
       "<style scoped>\n",
       "    .dataframe tbody tr th:only-of-type {\n",
       "        vertical-align: middle;\n",
       "    }\n",
       "\n",
       "    .dataframe tbody tr th {\n",
       "        vertical-align: top;\n",
       "    }\n",
       "\n",
       "    .dataframe thead th {\n",
       "        text-align: right;\n",
       "    }\n",
       "</style>\n",
       "<table border=\"1\" class=\"dataframe\">\n",
       "  <thead>\n",
       "    <tr style=\"text-align: right;\">\n",
       "      <th></th>\n",
       "      <th>second_name</th>\n",
       "      <th>team</th>\n",
       "      <th>selected_by_percent</th>\n",
       "      <th>now_cost</th>\n",
       "      <th>minutes</th>\n",
       "      <th>total_points</th>\n",
       "      <th>bonus</th>\n",
       "      <th>position</th>\n",
       "      <th>realCost</th>\n",
       "      <th>PointRate</th>\n",
       "      <th>PointRateFixed</th>\n",
       "      <th>PointsWbp</th>\n",
       "    </tr>\n",
       "  </thead>\n",
       "  <tbody>\n",
       "    <tr>\n",
       "      <th>2</th>\n",
       "      <td>Luiz Moreira Marinho</td>\n",
       "      <td>Arsenal</td>\n",
       "      <td>2.6</td>\n",
       "      <td>55</td>\n",
       "      <td>2809</td>\n",
       "      <td>94</td>\n",
       "      <td>10</td>\n",
       "      <td>DEF</td>\n",
       "      <td>1.5</td>\n",
       "      <td>4.461849</td>\n",
       "      <td>1.518927</td>\n",
       "      <td>84</td>\n",
       "    </tr>\n",
       "    <tr>\n",
       "      <th>3</th>\n",
       "      <td>Aubameyang</td>\n",
       "      <td>Arsenal</td>\n",
       "      <td>41.5</td>\n",
       "      <td>120</td>\n",
       "      <td>3136</td>\n",
       "      <td>205</td>\n",
       "      <td>37</td>\n",
       "      <td>MID</td>\n",
       "      <td>7.5</td>\n",
       "      <td>1.743197</td>\n",
       "      <td>1.156463</td>\n",
       "      <td>168</td>\n",
       "    </tr>\n",
       "    <tr>\n",
       "      <th>4</th>\n",
       "      <td>Soares</td>\n",
       "      <td>Arsenal</td>\n",
       "      <td>0.6</td>\n",
       "      <td>50</td>\n",
       "      <td>1553</td>\n",
       "      <td>61</td>\n",
       "      <td>3</td>\n",
       "      <td>DEF</td>\n",
       "      <td>1.0</td>\n",
       "      <td>7.855763</td>\n",
       "      <td>3.477141</td>\n",
       "      <td>58</td>\n",
       "    </tr>\n",
       "    <tr>\n",
       "      <th>5</th>\n",
       "      <td>Lacazette</td>\n",
       "      <td>Arsenal</td>\n",
       "      <td>2.7</td>\n",
       "      <td>85</td>\n",
       "      <td>1867</td>\n",
       "      <td>118</td>\n",
       "      <td>16</td>\n",
       "      <td>FWD</td>\n",
       "      <td>4.0</td>\n",
       "      <td>3.160150</td>\n",
       "      <td>2.062132</td>\n",
       "      <td>102</td>\n",
       "    </tr>\n",
       "    <tr>\n",
       "      <th>7</th>\n",
       "      <td>Leno</td>\n",
       "      <td>Arsenal</td>\n",
       "      <td>6.1</td>\n",
       "      <td>50</td>\n",
       "      <td>2649</td>\n",
       "      <td>114</td>\n",
       "      <td>10</td>\n",
       "      <td>GKP</td>\n",
       "      <td>1.0</td>\n",
       "      <td>8.607022</td>\n",
       "      <td>4.228011</td>\n",
       "      <td>104</td>\n",
       "    </tr>\n",
       "  </tbody>\n",
       "</table>\n",
       "</div>"
      ],
      "text/plain": [
       "            second_name     team selected_by_percent  now_cost  minutes  \\\n",
       "2  Luiz Moreira Marinho  Arsenal                 2.6        55     2809   \n",
       "3            Aubameyang  Arsenal                41.5       120     3136   \n",
       "4                Soares  Arsenal                 0.6        50     1553   \n",
       "5             Lacazette  Arsenal                 2.7        85     1867   \n",
       "7                  Leno  Arsenal                 6.1        50     2649   \n",
       "\n",
       "   total_points  bonus position  realCost  PointRate  PointRateFixed  \\\n",
       "2            94     10      DEF       1.5   4.461849        1.518927   \n",
       "3           205     37      MID       7.5   1.743197        1.156463   \n",
       "4            61      3      DEF       1.0   7.855763        3.477141   \n",
       "5           118     16      FWD       4.0   3.160150        2.062132   \n",
       "7           114     10      GKP       1.0   8.607022        4.228011   \n",
       "\n",
       "   PointsWbp  \n",
       "2         84  \n",
       "3        168  \n",
       "4         58  \n",
       "5        102  \n",
       "7        104  "
      ]
     },
     "execution_count": 11,
     "metadata": {},
     "output_type": "execute_result"
    }
   ],
   "source": [
    "def fixPoint(x):\n",
    "    return int(x/45)\n",
    "\n",
    "data = data.assign(PointRate = 200.0*data['total_points']/(data['minutes']*data['realCost']))\n",
    "data = data.assign(PointRateFixed = 200.0*(data['total_points']-data['minutes'].apply(fixPoint))/(data['minutes']*data['realCost']))\n",
    "data = data.assign(PointsWbp = data['total_points']-data['bonus'])\n",
    "data.head()"
   ]
  },
  {
   "cell_type": "code",
   "execution_count": 29,
   "metadata": {},
   "outputs": [],
   "source": [
    "import plotly.express as px\n",
    "from plotly.subplots import make_subplots\n",
    "import plotly.graph_objects as go\n",
    "\n",
    "isGK = data.position == \"GKP\"\n",
    "GK = data.loc[isGK,:]\n",
    "\n",
    "isDEF = data.position == \"DEF\"\n",
    "DEF = data.loc[isDEF,:]\n",
    "\n",
    "isMID = data.position == \"MID\"\n",
    "MID = data.loc[isMID,:]\n",
    "\n",
    "isFWD = data.position == \"FWD\"\n",
    "FWD = data.loc[isFWD,:]"
   ]
  },
  {
   "cell_type": "code",
   "execution_count": 34,
   "metadata": {},
   "outputs": [
    {
     "data": {
      "application/vnd.plotly.v1+json": {
       "config": {
        "plotlyServerURL": "https://plot.ly"
       },
       "data": [
        {
         "customdata": [
          [
           4.461848819271389,
           84,
           1.5,
           1.518927257624303
          ],
          [
           1.7431972789115646,
           168,
           7.5,
           1.1564625850340136
          ],
          [
           7.855763039278815,
           58,
           1,
           3.477141017385705
          ],
          [
           3.160149973219068,
           102,
           4,
           2.062131762185324
          ],
          [
           8.607021517553793,
           104,
           1,
           4.228010570026425
          ],
          [
           5.645784996133024,
           71,
           1,
           1.237432327919567
          ],
          [
           3.022526375819789,
           97,
           3.5,
           1.7678927858568576
          ],
          [
           8.132875143184421,
           67,
           1,
           3.7800687285223367
          ],
          [
           3.699421965317919,
           142,
           3.5,
           2.444260941370768
          ],
          [
           7.252075141983399,
           74,
           1.5,
           4.36871996505024
          ],
          [
           3.68697803897309,
           130,
           2.5,
           1.9300958861738324
          ],
          [
           7.26643598615917,
           80,
           1,
           2.8546712802768166
          ],
          [
           10.12396694214876,
           91,
           1,
           5.681818181818182
          ],
          [
           6.202618883528601,
           81,
           1,
           1.791867677463818
          ],
          [
           13.967699694456568,
           70,
           0.5,
           5.237887385421214
          ],
          [
           6.0606060606060606,
           93,
           1.5,
           3.1280547409579667
          ],
          [
           12.757605495583906,
           61,
           0.5,
           3.9254170755642788
          ],
          [
           12.168792934249264,
           58,
           0.5,
           3.336604514229637
          ],
          [
           5.013093901982791,
           60,
           1.5,
           2.0950243172465393
          ],
          [
           13.824884792626728,
           85,
           0.5,
           5.0691244239631335
          ],
          [
           null,
           62,
           0,
           null
          ],
          [
           5.657919225758421,
           69,
           1.5,
           2.754513307277126
          ],
          [
           11.040339702760084,
           76,
           0.5,
           2.264685067232838
          ],
          [
           15.392015392015391,
           71,
           0.5,
           6.541606541606542
          ],
          [
           11.94859326154915,
           83,
           0.5,
           3.195554011809656
          ],
          [
           7.925696594427245,
           111,
           1,
           3.5294117647058822
          ],
          [
           13.10782241014799,
           59,
           0.5,
           4.2283298097251585
          ],
          [
           13.193403298350825,
           81,
           0.5,
           4.3478260869565215
          ],
          [
           4.741223307998553,
           110,
           2,
           2.5334781035106766
          ],
          [
           6.919494344644045,
           95,
           1.5,
           3.992015968063872
          ],
          [
           15.789473684210526,
           121,
           0.5,
           6.900584795321637
          ],
          [
           9.76,
           56,
           1,
           5.44
          ],
          [
           5.57504873294347,
           129,
           1.5,
           2.612085769980507
          ],
          [
           16.50793650793651,
           72,
           0.5,
           7.619047619047619
          ],
          [
           16.417910447761194,
           67,
           0.5,
           7.67590618336887
          ],
          [
           10.711553175210405,
           70,
           0.5,
           1.836266258607498
          ],
          [
           6.66000666000666,
           91,
           1.5,
           3.7296037296037294
          ],
          [
           6.0246913580246915,
           55,
           1.5,
           3.0617283950617282
          ],
          [
           7.638888888888889,
           104,
           1,
           3.1944444444444446
          ],
          [
           7.492063492063492,
           107,
           1,
           3.0476190476190474
          ],
          [
           5.582922824302135,
           115,
           2,
           3.3661740558292284
          ],
          [
           6.627680311890838,
           147,
           1.5,
           3.664717348927875
          ],
          [
           17.28395061728395,
           79,
           0.5,
           8.436213991769547
          ],
          [
           4.911650194669063,
           117,
           1.5,
           1.9566736547868624
          ],
          [
           4.026014245896563,
           114,
           2,
           1.8271910808299783
          ],
          [
           5.506072874493927,
           63,
           2.5,
           3.805668016194332
          ],
          [
           6.997900629811057,
           89,
           2,
           4.828551434569629
          ],
          [
           15.488215488215488,
           83,
           0.5,
           6.734006734006734
          ],
          [
           7.427701674277016,
           56,
           1.5,
           4.505327245053272
          ],
          [
           6.585956416464891,
           62,
           1,
           2.2276029055690074
          ],
          [
           7.368421052631579,
           58,
           1,
           2.9239766081871346
          ],
          [
           5.292360221937686,
           60,
           1,
           0.8536064874093043
          ],
          [
           6.0606060606060606,
           90,
           1,
           1.6161616161616161
          ],
          [
           4.623753399818677,
           133,
           3,
           3.1429434874584468
          ],
          [
           3.6983110075713452,
           119,
           4,
           2.591729761211415
          ],
          [
           3.825479930191972,
           126,
           2.5,
           2.0663176265270504
          ],
          [
           8.079470198675496,
           56,
           1,
           3.7086092715231787
          ],
          [
           6.402695871946083,
           106,
           1.5,
           3.4821679303566415
          ],
          [
           12.921089063221043,
           66,
           0.5,
           4.060913705583756
          ],
          [
           8.698412698412698,
           121,
           1,
           4.253968253968254
          ],
          [
           5.95276609511485,
           90,
           1,
           1.552895503073439
          ],
          [
           13.47068145800317,
           81,
           0.5,
           4.595879556259905
          ],
          [
           12.941176470588236,
           69,
           0.5,
           4.201680672268908
          ],
          [
           16.548157724628314,
           60,
           0.5,
           7.756948933419522
          ],
          [
           4.302788844621514,
           72,
           1.5,
           1.3811420982735725
          ],
          [
           5.797101449275362,
           97,
           1.5,
           2.8719585161547667
          ],
          [
           5.5908513341804325,
           113,
           1.5,
           2.6683608640406606
          ],
          [
           2.92772186642269,
           116,
           2.5,
           1.171088746569076
          ],
          [
           6.557377049180328,
           62,
           1.5,
           3.6429872495446265
          ],
          [
           2.974559686888454,
           88,
           2.5,
           1.2211350293542074
          ],
          [
           7.5650118203309695,
           66,
           1.5,
           4.623062779091148
          ],
          [
           3.9590894094358298,
           104,
           2,
           1.7485978225008247
          ],
          [
           7.042253521126761,
           81,
           1,
           2.6604068857589986
          ],
          [
           6.842105263157895,
           112,
           1,
           2.3976608187134505
          ],
          [
           4.5594037702761945,
           70,
           1.5,
           1.6367090457401725
          ],
          [
           3.84586035864174,
           111,
           2.5,
           2.075543685616177
          ],
          [
           6.920077972709552,
           65,
           1,
           2.53411306042885
          ],
          [
           3.0711959050721265,
           152,
           3.5,
           1.8054909260120986
          ],
          [
           6.081871345029239,
           146,
           1.5,
           3.1189083820662766
          ],
          [
           5.04334121355398,
           116,
           1.5,
           2.0882584712371948
          ],
          [
           2.5185895898296953,
           176,
           5.5,
           1.7150395778364116
          ],
          [
           4.880952380952381,
           112,
           2,
           2.6587301587301586
          ],
          [
           4.1445270988310305,
           112,
           2,
           1.9482819695359546
          ],
          [
           6.456456456456457,
           120,
           2,
           4.2542542542542545
          ],
          [
           3.8109756097560976,
           111,
           2.5,
           2.042682926829268
          ],
          [
           8.954179783140958,
           57,
           1.5,
           6.0160895417978315
          ],
          [
           5.127710843373494,
           124,
           2.5,
           3.3542168674698796
          ],
          [
           12.729314863347062,
           80,
           0.5,
           3.8936727817296894
          ],
          [
           5.270092226613966,
           108,
           1.5,
           2.3276240667545016
          ],
          [
           7.296283668598704,
           102,
           1,
           2.863961813842482
          ],
          [
           10.384959713518352,
           105,
           1,
           5.998209489704566
          ],
          [
           5.1525423728813555,
           74,
           2,
           2.983050847457627
          ],
          [
           2.0770519262981573,
           135,
           5,
           1.1926298157453936
          ],
          [
           4.16374269005848,
           164,
           2.5,
           2.3859649122807016
          ],
          [
           2.1469338190649667,
           194,
           7.5,
           1.554341226472374
          ],
          [
           4.797483287455761,
           111,
           2,
           2.595359811246559
          ],
          [
           7.428847081524361,
           69,
           1,
           2.9908345393150024
          ],
          [
           2.1581567673960866,
           207,
           7.5,
           1.5746208174134537
          ],
          [
           3.878709953926926,
           161,
           3,
           2.4000857173470482
          ],
          [
           18.59799713876967,
           57,
           1,
           14.30615164520744
          ],
          [
           11.117898594990837,
           84,
           1,
           6.719609040928527
          ],
          [
           3.7819098644815634,
           186,
           3.5,
           2.521273242987709
          ],
          [
           6.203101550775387,
           86,
           1.5,
           3.2683008170752044
          ],
          [
           3.036576949620428,
           118,
           6,
           2.3004370830457788
          ],
          [
           9.590643274853802,
           76,
           1,
           5.146198830409356
          ],
          [
           4.765886287625418,
           107,
           2,
           2.5501672240802677
          ],
          [
           6.461232604373757,
           61,
           1,
           2.0874751491053676
          ],
          [
           2.570404505888377,
           216,
           7,
           1.935483870967742
          ],
          [
           4.963112005365526,
           71,
           2,
           2.749832327297116
          ],
          [
           4.524301964839711,
           158,
           4,
           3.43846949327818
          ],
          [
           2.198631244274398,
           184,
           7,
           1.5735302042355985
          ],
          [
           4.330836860957343,
           131,
           2,
           2.1165744057310323
          ],
          [
           4.20828339326142,
           73,
           1.5,
           1.278465840990811
          ],
          [
           5.748175182481752,
           63,
           2,
           3.5583941605839415
          ],
          [
           3.826488537027874,
           109,
           3,
           2.375061850569025
          ],
          [
           2.8939544103072348,
           129,
           5,
           2.0218037661050543
          ],
          [
           7.77027027027027,
           65,
           2,
           5.63063063063063
          ],
          [
           7.419354838709677,
           87,
           1,
           2.9838709677419355
          ],
          [
           5.57504873294347,
           135,
           1.5,
           2.612085769980507
          ],
          [
           4.795321637426901,
           118,
           1.5,
           1.8323586744639375
          ],
          [
           7.745664739884393,
           65,
           1,
           3.352601156069364
          ],
          [
           3.2855939342881215,
           99,
           6,
           2.555461948890761
          ],
          [
           3.386243386243386,
           186,
           4.5,
           2.4042328042328043
          ],
          [
           16.23815967523681,
           59,
           0.5,
           7.577807848443843
          ],
          [
           6.584362139917696,
           144,
           1.5,
           3.6213991769547325
          ],
          [
           2.6767485822306236,
           146,
           5,
           1.7996219281663517
          ],
          [
           7.503234152652005,
           107,
           1,
           3.1047865459249677
          ],
          [
           16.770538243626063,
           68,
           0.5,
           7.932011331444759
          ],
          [
           4.164839982463832,
           93,
           2,
           1.972818939061815
          ],
          [
           5.515743756786102,
           111,
           1.5,
           2.56243213897937
          ],
          [
           5.269889997441801,
           86,
           3,
           3.837298541826554
          ],
          [
           9.91501416430595,
           90,
           1,
           5.476864966949953
          ],
          [
           22.5609756097561,
           67,
           0.5,
           13.71951219512195
          ],
          [
           7.795185326709973,
           89,
           1,
           3.3626289644631258
          ],
          [
           8.362573099415204,
           136,
           1,
           3.91812865497076
          ],
          [
           14.065510597302504,
           70,
           0.5,
           5.202312138728324
          ],
          [
           16.28052598622417,
           61,
           0.5,
           7.514088916718848
          ],
          [
           13.153153153153154,
           70,
           0.5,
           4.324324324324325
          ],
          [
           9.89247311827957,
           85,
           1,
           5.483870967741935
          ],
          [
           4.812362030905077,
           104,
           1.5,
           1.8543046357615893
          ],
          [
           3.883495145631068,
           75,
           1.5,
           0.9459795867562858
          ],
          [
           13.8860103626943,
           63,
           0.5,
           5.181347150259067
          ],
          [
           7.18232044198895,
           59,
           1,
           2.7624309392265194
          ],
          [
           7.5879086983343615,
           117,
           1,
           3.1462060456508327
          ],
          [
           5.35453943008615,
           88,
           1.5,
           2.43870112657389
          ],
          [
           5.660189337319382,
           134,
           1.5,
           2.7105132037867463
          ],
          [
           12.690191000323729,
           92,
           0.5,
           3.8847523470378764
          ],
          [
           5.5360623781676415,
           135,
           1.5,
           2.573099415204678
          ],
          [
           8.346407279573267,
           124,
           1,
           3.9535613429557577
          ],
          [
           7.615780445969126,
           105,
           1,
           3.224699828473413
          ],
          [
           11.745513866231647,
           129,
           1,
           7.3409461663947795
          ],
          [
           5.447347585114806,
           80,
           1.5,
           2.5336500395882817
          ],
          [
           9.157808667211775,
           73,
           1.5,
           6.214227309893704
          ],
          [
           7.5675675675675675,
           113,
           1,
           3.123123123123123
          ],
          [
           8.946608946608947,
           58,
           1,
           4.617604617604617
          ],
          [
           5.470459518599562,
           75,
           1,
           1.0940919037199124
          ],
          [
           16.50793650793651,
           96,
           0.5,
           7.619047619047619
          ],
          [
           3.8726022439377488,
           99,
           2,
           1.6648570394498734
          ],
          [
           3.5357142857142856,
           158,
           4,
           2.4285714285714284
          ],
          [
           6.935944512443901,
           77,
           1,
           2.5295797633618933
          ],
          [
           11.48886283704572,
           88,
           1,
           7.151230949589683
          ],
          [
           4.56140350877193,
           109,
           1.5,
           1.5984405458089668
          ],
          [
           10.991167811579981,
           79,
           0.5,
           2.2244030094864247
          ],
          [
           9.497716894977168,
           70,
           1.5,
           6.575342465753424
          ],
          [
           7.227138643067847,
           85,
           1.5,
           4.277286135693215
          ],
          [
           11.260709914320685,
           69,
           0.5,
           2.4479804161566707
          ],
          [
           4.373802277082628,
           91,
           1.5,
           1.4429038439860218
          ],
          [
           7.204211692989748,
           63,
           1.5,
           4.322527015793849
          ],
          [
           2.035033487892839,
           132,
           6,
           1.300875837197321
          ],
          [
           6.125725577374336,
           109,
           1.5,
           3.2110658268494503
          ],
          [
           3.0311182853555736,
           151,
           4.5,
           2.044659671778316
          ],
          [
           3.5794183445190155,
           97,
           2.5,
           1.825503355704698
          ],
          [
           3.6236933797909407,
           105,
           3.5,
           2.353852109949671
          ],
          [
           10.909090909090908,
           74,
           0.5,
           2.036363636363636
          ],
          [
           3.5102152749211575,
           60,
           1.5,
           0.5484711367064308
          ],
          [
           5.8885754583921015,
           152,
           2,
           3.6671368124118477
          ],
          [
           15.700934579439252,
           97,
           0.5,
           6.878504672897196
          ],
          [
           7.712765957446808,
           79,
           1.5,
           4.787234042553192
          ],
          [
           7.841284837033538,
           78,
           1,
           3.4010392064241852
          ],
          [
           5.8147882268485285,
           81,
           1,
           1.4357501794687724
          ],
          [
           5.793912724605794,
           74,
           1,
           1.3934726806013935
          ],
          [
           9.514101257220524,
           60,
           1.5,
           6.659870880054366
          ],
          [
           6.281833616298812,
           103,
           2,
           4.074702886247878
          ],
          [
           13.243847874720357,
           67,
           0.5,
           4.47427293064877
          ],
          [
           4.420629604822505,
           65,
           2,
           2.2103148024112524
          ],
          [
           4.51527224435591,
           91,
           2,
           2.3019034971226207
          ],
          [
           12.280701754385966,
           97,
           0.5,
           3.391812865497076
          ],
          [
           4.291647438855561,
           89,
           2,
           2.076603599446239
          ],
          [
           10.994575045207956,
           73,
           0.5,
           2.1699819168173597
          ],
          [
           7.278582930756844,
           101,
           1,
           2.8341384863123995
          ],
          [
           5.964912280701754,
           145,
           1.5,
           3.0019493177387915
          ],
          [
           6.531986531986532,
           87,
           1.5,
           3.569023569023569
          ],
          [
           6.900584795321637,
           111,
           1,
           2.456140350877193
          ],
          [
           2.9929034248688677,
           161,
           4,
           1.8821351434742364
          ],
          [
           7.621161672216056,
           95,
           1,
           3.1816500184979652
          ],
          [
           5.684575389948007,
           117,
           1.5,
           2.726747544771808
          ],
          [
           14.336917562724015,
           91,
           0.5,
           5.448028673835125
          ],
          [
           5.001923816852636,
           116,
           2,
           2.8087726048480186
          ],
          [
           6.354405502784147,
           90,
           1,
           1.965280052407468
          ],
          [
           4.6093064091308165,
           93,
           2,
           2.4143985952589992
          ]
         ],
         "hovertemplate": "<b>%{hovertext}</b><br><br>total_points=%{y}<br>PointRate=%{customdata[0]:.2f}<br>PointsWbp=%{customdata[1]}<br>PointRateFixed=%{customdata[3]:.2f}<extra></extra>",
         "hovertext": [
          "Luiz Moreira Marinho",
          "Aubameyang",
          "Soares",
          "Lacazette",
          "Leno",
          "Xhaka",
          "Pépé",
          "Saka",
          "Borges Da Silva",
          "Hourihane",
          "Grealish",
          "McGinn",
          "Ibrahim Hassan",
          "Mings",
          "Targett",
          "El Ghazi",
          "Konsa Ngoyo",
          "Guilbert",
          "Moraes",
          "Soares de Paulo",
          "Stephens",
          "Groß",
          "Pröpper",
          "Mooy",
          "Burn",
          "Dunk",
          "Montoya",
          "Webster",
          "Maupay",
          "Trossard",
          "Ryan",
          "Connolly",
          "Tarkowski",
          "Bardsley",
          "Pieters",
          "Cork",
          "Rodriguez",
          "Barnes",
          "Mee",
          "Westwood",
          "Wood",
          "Pope",
          "Taylor",
          "McNeil",
          "Azpilicueta",
          "Giroud",
          "Alonso",
          "Frello Filho",
          "Barkley",
          "Kovacic",
          "Rüdiger",
          "Zouma",
          "Arrizabalaga",
          "Abraham",
          "Pulisic",
          "Mount",
          "James",
          "Chilwell",
          "Cahill",
          "Guaita",
          "McArthur",
          "Kouyaté",
          "Ward",
          "Kelly",
          "Milivojevic",
          "van Aanholt",
          "Ayew",
          "Zaha",
          "Walcott",
          "Sigurdsson",
          "Anício Caldeira Duarte",
          "Digne",
          "Keane",
          "Pickford",
          "Mina",
          "Calvert-Lewin",
          "Holgate",
          "de Andrade",
          "Schmeichel",
          "Evans",
          "Vardy",
          "Barbosa Pereira",
          "Tielemans",
          "Pérez",
          "Maddison",
          "Iheanacho",
          "Barnes",
          "Ndidi",
          "Söyüncü",
          "Wijnaldum",
          "Henderson",
          "Oxlade-Chamberlain",
          "Firmino",
          "van Dijk",
          "Mané",
          "Ramses Becker",
          "Tavares",
          "Salah",
          "Robertson",
          "Origi",
          "Wilson",
          "Alexander-Arnold",
          "Gomez",
          "Agüero",
          "Otamendi",
          "Walker",
          "Gündogan",
          "De Bruyne",
          "Mendy",
          "Mahrez",
          "Sterling",
          "Santana de Moraes",
          "Aké",
          "Laporte",
          "Veiga de Carvalho e Silva",
          "de Jesus",
          "Foden",
          "Hernandez",
          "de Gea",
          "Maguire",
          "Shaw",
          "Borges Fernandes",
          "Martial",
          "Pereira",
          "Henderson",
          "Rashford",
          "Lindelöf",
          "McTominay",
          "James",
          "Wan-Bissaka",
          "Greenwood",
          "Shelvey",
          "Ritchie",
          "Fernández",
          "Dubravka",
          "Lascelles",
          "Manquillo",
          "Hayden",
          "Saint-Maximin",
          "Almirón",
          "Apolinário de Lira",
          "Hendrick",
          "McGoldrick",
          "Basham",
          "Fleck",
          "Stevens",
          "Norwood",
          "Baldock",
          "Egan",
          "O'Connell",
          "Lundstram",
          "McBurnie",
          "Mousset",
          "Ramsdale",
          "Long",
          "Bertrand",
          "McCarthy",
          "Redmond",
          "Ings",
          "Stephens",
          "Armstrong",
          "Ward-Prowse",
          "Bednarek",
          "Adams",
          "Lloris",
          "Sissoko",
          "Alderweireld",
          "Lamela",
          "Kane",
          "Aurier",
          "Son",
          "Rodrigues Moura da Silva",
          "Alli",
          "Højbjerg",
          "Sánchez",
          "Doherty",
          "Noble",
          "Snodgrass",
          "Fabianski",
          "Ogbonna",
          "Cresswell",
          "Yarmolenko",
          "Antonio",
          "Fredericks",
          "Pereira Gomes",
          "Haller",
          "Rice",
          "Fornals",
          "Diop",
          "Santos Moutinho",
          "dos Santos Patrício",
          "Boly",
          "Coady",
          "Jiménez",
          "Saïss",
          "Castro Otto",
          "Dendoncker",
          "Traoré",
          "da Silva Neves",
          "Jota"
         ],
         "legendgroup": "",
         "marker": {
          "color": "#636efa",
          "symbol": "circle"
         },
         "mode": "markers",
         "name": "",
         "orientation": "v",
         "showlegend": false,
         "type": "scatter",
         "x": [
          1.5,
          7.5,
          1,
          4,
          1,
          1,
          3.5,
          1,
          3.5,
          1.5,
          2.5,
          1,
          1,
          1,
          0.5,
          1.5,
          0.5,
          0.5,
          1.5,
          0.5,
          0,
          1.5,
          0.5,
          0.5,
          0.5,
          1,
          0.5,
          0.5,
          2,
          1.5,
          0.5,
          1,
          1.5,
          0.5,
          0.5,
          0.5,
          1.5,
          1.5,
          1,
          1,
          2,
          1.5,
          0.5,
          1.5,
          2,
          2.5,
          2,
          0.5,
          1.5,
          1,
          1,
          1,
          1,
          3,
          4,
          2.5,
          1,
          1.5,
          0.5,
          1,
          1,
          0.5,
          0.5,
          0.5,
          1.5,
          1.5,
          1.5,
          2.5,
          1.5,
          2.5,
          1.5,
          2,
          1,
          1,
          1.5,
          2.5,
          1,
          3.5,
          1.5,
          1.5,
          5.5,
          2,
          2,
          2,
          2.5,
          1.5,
          2.5,
          0.5,
          1.5,
          1,
          1,
          2,
          5,
          2.5,
          7.5,
          2,
          1,
          7.5,
          3,
          1,
          1,
          3.5,
          1.5,
          6,
          1,
          2,
          1,
          7,
          2,
          4,
          7,
          2,
          1.5,
          2,
          3,
          5,
          2,
          1,
          1.5,
          1.5,
          1,
          6,
          4.5,
          0.5,
          1.5,
          5,
          1,
          0.5,
          2,
          1.5,
          3,
          1,
          0.5,
          1,
          1,
          0.5,
          0.5,
          0.5,
          1,
          1.5,
          1.5,
          0.5,
          1,
          1,
          1.5,
          1.5,
          0.5,
          1.5,
          1,
          1,
          1,
          1.5,
          1.5,
          1,
          1,
          1,
          0.5,
          2,
          4,
          1,
          1,
          1.5,
          0.5,
          1.5,
          1.5,
          0.5,
          1.5,
          1.5,
          6,
          1.5,
          4.5,
          2.5,
          3.5,
          0.5,
          1.5,
          2,
          0.5,
          1.5,
          1,
          1,
          1,
          1.5,
          2,
          0.5,
          2,
          2,
          0.5,
          2,
          0.5,
          1,
          1.5,
          1.5,
          1,
          4,
          1,
          1.5,
          0.5,
          2,
          1,
          2
         ],
         "xaxis": "x",
         "y": [
          94,
          205,
          61,
          118,
          114,
          73,
          106,
          71,
          168,
          83,
          149,
          84,
          98,
          90,
          80,
          93,
          65,
          62,
          67,
          90,
          63,
          76,
          78,
          80,
          86,
          128,
          62,
          88,
          131,
          104,
          135,
          61,
          143,
          78,
          77,
          70,
          100,
          61,
          110,
          118,
          136,
          170,
          84,
          123,
          130,
          68,
          100,
          92,
          61,
          68,
          63,
          62,
          90,
          153,
          127,
          137,
          61,
          114,
          70,
          137,
          92,
          85,
          77,
          64,
          81,
          109,
          132,
          120,
          63,
          95,
          72,
          120,
          90,
          117,
          78,
          126,
          71,
          165,
          156,
          128,
          210,
          123,
          117,
          129,
          125,
          64,
          133,
          85,
          120,
          107,
          116,
          76,
          155,
          178,
          221,
          122,
          77,
          233,
          181,
          65,
          91,
          210,
          93,
          132,
          82,
          114,
          65,
          251,
          74,
          175,
          204,
          133,
          79,
          63,
          116,
          146,
          69,
          92,
          143,
          123,
          67,
          117,
          200,
          60,
          160,
          177,
          116,
          74,
          95,
          127,
          103,
          105,
          74,
          102,
          143,
          73,
          65,
          73,
          92,
          109,
          78,
          67,
          65,
          123,
          101,
          142,
          98,
          142,
          133,
          111,
          144,
          86,
          84,
          126,
          62,
          75,
          104,
          107,
          198,
          85,
          98,
          117,
          84,
          78,
          98,
          69,
          97,
          65,
          158,
          124,
          169,
          100,
          117,
          75,
          64,
          167,
          105,
          87,
          83,
          81,
          79,
          70,
          111,
          74,
          66,
          102,
          105,
          93,
          76,
          113,
          153,
          97,
          118,
          194,
          103,
          123,
          100,
          130,
          97,
          105
         ],
         "yaxis": "y"
        },
        {
         "hovertemplate": "<b>OLS trendline</b><br>total_points = 19.3911 * realCost + 73.1976<br>R<sup>2</sup>=0.532936<br><br>total_points=%{y} <b>(trend)</b><extra></extra>",
         "legendgroup": "",
         "marker": {
          "color": "#636efa",
          "symbol": "circle"
         },
         "mode": "lines",
         "name": "",
         "showlegend": false,
         "type": "scatter",
         "x": [
          0,
          0.5,
          0.5,
          0.5,
          0.5,
          0.5,
          0.5,
          0.5,
          0.5,
          0.5,
          0.5,
          0.5,
          0.5,
          0.5,
          0.5,
          0.5,
          0.5,
          0.5,
          0.5,
          0.5,
          0.5,
          0.5,
          0.5,
          0.5,
          0.5,
          0.5,
          0.5,
          0.5,
          0.5,
          0.5,
          0.5,
          0.5,
          0.5,
          0.5,
          0.5,
          0.5,
          0.5,
          0.5,
          1,
          1,
          1,
          1,
          1,
          1,
          1,
          1,
          1,
          1,
          1,
          1,
          1,
          1,
          1,
          1,
          1,
          1,
          1,
          1,
          1,
          1,
          1,
          1,
          1,
          1,
          1,
          1,
          1,
          1,
          1,
          1,
          1,
          1,
          1,
          1,
          1,
          1,
          1,
          1,
          1,
          1,
          1,
          1,
          1,
          1,
          1,
          1,
          1,
          1,
          1,
          1,
          1.5,
          1.5,
          1.5,
          1.5,
          1.5,
          1.5,
          1.5,
          1.5,
          1.5,
          1.5,
          1.5,
          1.5,
          1.5,
          1.5,
          1.5,
          1.5,
          1.5,
          1.5,
          1.5,
          1.5,
          1.5,
          1.5,
          1.5,
          1.5,
          1.5,
          1.5,
          1.5,
          1.5,
          1.5,
          1.5,
          1.5,
          1.5,
          1.5,
          1.5,
          1.5,
          1.5,
          1.5,
          1.5,
          1.5,
          1.5,
          1.5,
          1.5,
          1.5,
          1.5,
          1.5,
          1.5,
          1.5,
          1.5,
          2,
          2,
          2,
          2,
          2,
          2,
          2,
          2,
          2,
          2,
          2,
          2,
          2,
          2,
          2,
          2,
          2,
          2,
          2,
          2,
          2,
          2,
          2,
          2,
          2.5,
          2.5,
          2.5,
          2.5,
          2.5,
          2.5,
          2.5,
          2.5,
          2.5,
          2.5,
          3,
          3,
          3,
          3,
          3.5,
          3.5,
          3.5,
          3.5,
          3.5,
          4,
          4,
          4,
          4,
          4,
          4.5,
          4.5,
          5,
          5,
          5,
          5.5,
          6,
          6,
          6,
          7,
          7,
          7.5,
          7.5,
          7.5
         ],
         "xaxis": "x",
         "y": [
          73.1975774018895,
          82.89311396295267,
          82.89311396295267,
          82.89311396295267,
          82.89311396295267,
          82.89311396295267,
          82.89311396295267,
          82.89311396295267,
          82.89311396295267,
          82.89311396295267,
          82.89311396295267,
          82.89311396295267,
          82.89311396295267,
          82.89311396295267,
          82.89311396295267,
          82.89311396295267,
          82.89311396295267,
          82.89311396295267,
          82.89311396295267,
          82.89311396295267,
          82.89311396295267,
          82.89311396295267,
          82.89311396295267,
          82.89311396295267,
          82.89311396295267,
          82.89311396295267,
          82.89311396295267,
          82.89311396295267,
          82.89311396295267,
          82.89311396295267,
          82.89311396295267,
          82.89311396295267,
          82.89311396295267,
          82.89311396295267,
          82.89311396295267,
          82.89311396295267,
          82.89311396295267,
          82.89311396295267,
          92.58865052401585,
          92.58865052401585,
          92.58865052401585,
          92.58865052401585,
          92.58865052401585,
          92.58865052401585,
          92.58865052401585,
          92.58865052401585,
          92.58865052401585,
          92.58865052401585,
          92.58865052401585,
          92.58865052401585,
          92.58865052401585,
          92.58865052401585,
          92.58865052401585,
          92.58865052401585,
          92.58865052401585,
          92.58865052401585,
          92.58865052401585,
          92.58865052401585,
          92.58865052401585,
          92.58865052401585,
          92.58865052401585,
          92.58865052401585,
          92.58865052401585,
          92.58865052401585,
          92.58865052401585,
          92.58865052401585,
          92.58865052401585,
          92.58865052401585,
          92.58865052401585,
          92.58865052401585,
          92.58865052401585,
          92.58865052401585,
          92.58865052401585,
          92.58865052401585,
          92.58865052401585,
          92.58865052401585,
          92.58865052401585,
          92.58865052401585,
          92.58865052401585,
          92.58865052401585,
          92.58865052401585,
          92.58865052401585,
          92.58865052401585,
          92.58865052401585,
          92.58865052401585,
          92.58865052401585,
          92.58865052401585,
          92.58865052401585,
          92.58865052401585,
          92.58865052401585,
          102.28418708507903,
          102.28418708507903,
          102.28418708507903,
          102.28418708507903,
          102.28418708507903,
          102.28418708507903,
          102.28418708507903,
          102.28418708507903,
          102.28418708507903,
          102.28418708507903,
          102.28418708507903,
          102.28418708507903,
          102.28418708507903,
          102.28418708507903,
          102.28418708507903,
          102.28418708507903,
          102.28418708507903,
          102.28418708507903,
          102.28418708507903,
          102.28418708507903,
          102.28418708507903,
          102.28418708507903,
          102.28418708507903,
          102.28418708507903,
          102.28418708507903,
          102.28418708507903,
          102.28418708507903,
          102.28418708507903,
          102.28418708507903,
          102.28418708507903,
          102.28418708507903,
          102.28418708507903,
          102.28418708507903,
          102.28418708507903,
          102.28418708507903,
          102.28418708507903,
          102.28418708507903,
          102.28418708507903,
          102.28418708507903,
          102.28418708507903,
          102.28418708507903,
          102.28418708507903,
          102.28418708507903,
          102.28418708507903,
          102.28418708507903,
          102.28418708507903,
          102.28418708507903,
          102.28418708507903,
          111.97972364614219,
          111.97972364614219,
          111.97972364614219,
          111.97972364614219,
          111.97972364614219,
          111.97972364614219,
          111.97972364614219,
          111.97972364614219,
          111.97972364614219,
          111.97972364614219,
          111.97972364614219,
          111.97972364614219,
          111.97972364614219,
          111.97972364614219,
          111.97972364614219,
          111.97972364614219,
          111.97972364614219,
          111.97972364614219,
          111.97972364614219,
          111.97972364614219,
          111.97972364614219,
          111.97972364614219,
          111.97972364614219,
          111.97972364614219,
          121.67526020720535,
          121.67526020720535,
          121.67526020720535,
          121.67526020720535,
          121.67526020720535,
          121.67526020720535,
          121.67526020720535,
          121.67526020720535,
          121.67526020720535,
          121.67526020720535,
          131.37079676826852,
          131.37079676826852,
          131.37079676826852,
          131.37079676826852,
          141.0663333293317,
          141.0663333293317,
          141.0663333293317,
          141.0663333293317,
          141.0663333293317,
          150.76186989039488,
          150.76186989039488,
          150.76186989039488,
          150.76186989039488,
          150.76186989039488,
          160.45740645145804,
          160.45740645145804,
          170.15294301252123,
          170.15294301252123,
          170.15294301252123,
          179.8484795735844,
          189.54401613464756,
          189.54401613464756,
          189.54401613464756,
          208.93508925677392,
          208.93508925677392,
          218.63062581783709,
          218.63062581783709,
          218.63062581783709
         ],
         "yaxis": "y"
        }
       ],
       "layout": {
        "legend": {
         "tracegroupgap": 0
        },
        "margin": {
         "t": 60
        },
        "template": {
         "data": {
          "bar": [
           {
            "error_x": {
             "color": "#f2f5fa"
            },
            "error_y": {
             "color": "#f2f5fa"
            },
            "marker": {
             "line": {
              "color": "rgb(17,17,17)",
              "width": 0.5
             }
            },
            "type": "bar"
           }
          ],
          "barpolar": [
           {
            "marker": {
             "line": {
              "color": "rgb(17,17,17)",
              "width": 0.5
             }
            },
            "type": "barpolar"
           }
          ],
          "carpet": [
           {
            "aaxis": {
             "endlinecolor": "#A2B1C6",
             "gridcolor": "#506784",
             "linecolor": "#506784",
             "minorgridcolor": "#506784",
             "startlinecolor": "#A2B1C6"
            },
            "baxis": {
             "endlinecolor": "#A2B1C6",
             "gridcolor": "#506784",
             "linecolor": "#506784",
             "minorgridcolor": "#506784",
             "startlinecolor": "#A2B1C6"
            },
            "type": "carpet"
           }
          ],
          "choropleth": [
           {
            "colorbar": {
             "outlinewidth": 0,
             "ticks": ""
            },
            "type": "choropleth"
           }
          ],
          "contour": [
           {
            "colorbar": {
             "outlinewidth": 0,
             "ticks": ""
            },
            "colorscale": [
             [
              0,
              "#0d0887"
             ],
             [
              0.1111111111111111,
              "#46039f"
             ],
             [
              0.2222222222222222,
              "#7201a8"
             ],
             [
              0.3333333333333333,
              "#9c179e"
             ],
             [
              0.4444444444444444,
              "#bd3786"
             ],
             [
              0.5555555555555556,
              "#d8576b"
             ],
             [
              0.6666666666666666,
              "#ed7953"
             ],
             [
              0.7777777777777778,
              "#fb9f3a"
             ],
             [
              0.8888888888888888,
              "#fdca26"
             ],
             [
              1,
              "#f0f921"
             ]
            ],
            "type": "contour"
           }
          ],
          "contourcarpet": [
           {
            "colorbar": {
             "outlinewidth": 0,
             "ticks": ""
            },
            "type": "contourcarpet"
           }
          ],
          "heatmap": [
           {
            "colorbar": {
             "outlinewidth": 0,
             "ticks": ""
            },
            "colorscale": [
             [
              0,
              "#0d0887"
             ],
             [
              0.1111111111111111,
              "#46039f"
             ],
             [
              0.2222222222222222,
              "#7201a8"
             ],
             [
              0.3333333333333333,
              "#9c179e"
             ],
             [
              0.4444444444444444,
              "#bd3786"
             ],
             [
              0.5555555555555556,
              "#d8576b"
             ],
             [
              0.6666666666666666,
              "#ed7953"
             ],
             [
              0.7777777777777778,
              "#fb9f3a"
             ],
             [
              0.8888888888888888,
              "#fdca26"
             ],
             [
              1,
              "#f0f921"
             ]
            ],
            "type": "heatmap"
           }
          ],
          "heatmapgl": [
           {
            "colorbar": {
             "outlinewidth": 0,
             "ticks": ""
            },
            "colorscale": [
             [
              0,
              "#0d0887"
             ],
             [
              0.1111111111111111,
              "#46039f"
             ],
             [
              0.2222222222222222,
              "#7201a8"
             ],
             [
              0.3333333333333333,
              "#9c179e"
             ],
             [
              0.4444444444444444,
              "#bd3786"
             ],
             [
              0.5555555555555556,
              "#d8576b"
             ],
             [
              0.6666666666666666,
              "#ed7953"
             ],
             [
              0.7777777777777778,
              "#fb9f3a"
             ],
             [
              0.8888888888888888,
              "#fdca26"
             ],
             [
              1,
              "#f0f921"
             ]
            ],
            "type": "heatmapgl"
           }
          ],
          "histogram": [
           {
            "marker": {
             "colorbar": {
              "outlinewidth": 0,
              "ticks": ""
             }
            },
            "type": "histogram"
           }
          ],
          "histogram2d": [
           {
            "colorbar": {
             "outlinewidth": 0,
             "ticks": ""
            },
            "colorscale": [
             [
              0,
              "#0d0887"
             ],
             [
              0.1111111111111111,
              "#46039f"
             ],
             [
              0.2222222222222222,
              "#7201a8"
             ],
             [
              0.3333333333333333,
              "#9c179e"
             ],
             [
              0.4444444444444444,
              "#bd3786"
             ],
             [
              0.5555555555555556,
              "#d8576b"
             ],
             [
              0.6666666666666666,
              "#ed7953"
             ],
             [
              0.7777777777777778,
              "#fb9f3a"
             ],
             [
              0.8888888888888888,
              "#fdca26"
             ],
             [
              1,
              "#f0f921"
             ]
            ],
            "type": "histogram2d"
           }
          ],
          "histogram2dcontour": [
           {
            "colorbar": {
             "outlinewidth": 0,
             "ticks": ""
            },
            "colorscale": [
             [
              0,
              "#0d0887"
             ],
             [
              0.1111111111111111,
              "#46039f"
             ],
             [
              0.2222222222222222,
              "#7201a8"
             ],
             [
              0.3333333333333333,
              "#9c179e"
             ],
             [
              0.4444444444444444,
              "#bd3786"
             ],
             [
              0.5555555555555556,
              "#d8576b"
             ],
             [
              0.6666666666666666,
              "#ed7953"
             ],
             [
              0.7777777777777778,
              "#fb9f3a"
             ],
             [
              0.8888888888888888,
              "#fdca26"
             ],
             [
              1,
              "#f0f921"
             ]
            ],
            "type": "histogram2dcontour"
           }
          ],
          "mesh3d": [
           {
            "colorbar": {
             "outlinewidth": 0,
             "ticks": ""
            },
            "type": "mesh3d"
           }
          ],
          "parcoords": [
           {
            "line": {
             "colorbar": {
              "outlinewidth": 0,
              "ticks": ""
             }
            },
            "type": "parcoords"
           }
          ],
          "pie": [
           {
            "automargin": true,
            "type": "pie"
           }
          ],
          "scatter": [
           {
            "marker": {
             "line": {
              "color": "#283442"
             }
            },
            "type": "scatter"
           }
          ],
          "scatter3d": [
           {
            "line": {
             "colorbar": {
              "outlinewidth": 0,
              "ticks": ""
             }
            },
            "marker": {
             "colorbar": {
              "outlinewidth": 0,
              "ticks": ""
             }
            },
            "type": "scatter3d"
           }
          ],
          "scattercarpet": [
           {
            "marker": {
             "colorbar": {
              "outlinewidth": 0,
              "ticks": ""
             }
            },
            "type": "scattercarpet"
           }
          ],
          "scattergeo": [
           {
            "marker": {
             "colorbar": {
              "outlinewidth": 0,
              "ticks": ""
             }
            },
            "type": "scattergeo"
           }
          ],
          "scattergl": [
           {
            "marker": {
             "line": {
              "color": "#283442"
             }
            },
            "type": "scattergl"
           }
          ],
          "scattermapbox": [
           {
            "marker": {
             "colorbar": {
              "outlinewidth": 0,
              "ticks": ""
             }
            },
            "type": "scattermapbox"
           }
          ],
          "scatterpolar": [
           {
            "marker": {
             "colorbar": {
              "outlinewidth": 0,
              "ticks": ""
             }
            },
            "type": "scatterpolar"
           }
          ],
          "scatterpolargl": [
           {
            "marker": {
             "colorbar": {
              "outlinewidth": 0,
              "ticks": ""
             }
            },
            "type": "scatterpolargl"
           }
          ],
          "scatterternary": [
           {
            "marker": {
             "colorbar": {
              "outlinewidth": 0,
              "ticks": ""
             }
            },
            "type": "scatterternary"
           }
          ],
          "surface": [
           {
            "colorbar": {
             "outlinewidth": 0,
             "ticks": ""
            },
            "colorscale": [
             [
              0,
              "#0d0887"
             ],
             [
              0.1111111111111111,
              "#46039f"
             ],
             [
              0.2222222222222222,
              "#7201a8"
             ],
             [
              0.3333333333333333,
              "#9c179e"
             ],
             [
              0.4444444444444444,
              "#bd3786"
             ],
             [
              0.5555555555555556,
              "#d8576b"
             ],
             [
              0.6666666666666666,
              "#ed7953"
             ],
             [
              0.7777777777777778,
              "#fb9f3a"
             ],
             [
              0.8888888888888888,
              "#fdca26"
             ],
             [
              1,
              "#f0f921"
             ]
            ],
            "type": "surface"
           }
          ],
          "table": [
           {
            "cells": {
             "fill": {
              "color": "#506784"
             },
             "line": {
              "color": "rgb(17,17,17)"
             }
            },
            "header": {
             "fill": {
              "color": "#2a3f5f"
             },
             "line": {
              "color": "rgb(17,17,17)"
             }
            },
            "type": "table"
           }
          ]
         },
         "layout": {
          "annotationdefaults": {
           "arrowcolor": "#f2f5fa",
           "arrowhead": 0,
           "arrowwidth": 1
          },
          "coloraxis": {
           "colorbar": {
            "outlinewidth": 0,
            "ticks": ""
           }
          },
          "colorscale": {
           "diverging": [
            [
             0,
             "#8e0152"
            ],
            [
             0.1,
             "#c51b7d"
            ],
            [
             0.2,
             "#de77ae"
            ],
            [
             0.3,
             "#f1b6da"
            ],
            [
             0.4,
             "#fde0ef"
            ],
            [
             0.5,
             "#f7f7f7"
            ],
            [
             0.6,
             "#e6f5d0"
            ],
            [
             0.7,
             "#b8e186"
            ],
            [
             0.8,
             "#7fbc41"
            ],
            [
             0.9,
             "#4d9221"
            ],
            [
             1,
             "#276419"
            ]
           ],
           "sequential": [
            [
             0,
             "#0d0887"
            ],
            [
             0.1111111111111111,
             "#46039f"
            ],
            [
             0.2222222222222222,
             "#7201a8"
            ],
            [
             0.3333333333333333,
             "#9c179e"
            ],
            [
             0.4444444444444444,
             "#bd3786"
            ],
            [
             0.5555555555555556,
             "#d8576b"
            ],
            [
             0.6666666666666666,
             "#ed7953"
            ],
            [
             0.7777777777777778,
             "#fb9f3a"
            ],
            [
             0.8888888888888888,
             "#fdca26"
            ],
            [
             1,
             "#f0f921"
            ]
           ],
           "sequentialminus": [
            [
             0,
             "#0d0887"
            ],
            [
             0.1111111111111111,
             "#46039f"
            ],
            [
             0.2222222222222222,
             "#7201a8"
            ],
            [
             0.3333333333333333,
             "#9c179e"
            ],
            [
             0.4444444444444444,
             "#bd3786"
            ],
            [
             0.5555555555555556,
             "#d8576b"
            ],
            [
             0.6666666666666666,
             "#ed7953"
            ],
            [
             0.7777777777777778,
             "#fb9f3a"
            ],
            [
             0.8888888888888888,
             "#fdca26"
            ],
            [
             1,
             "#f0f921"
            ]
           ]
          },
          "colorway": [
           "#636efa",
           "#EF553B",
           "#00cc96",
           "#ab63fa",
           "#FFA15A",
           "#19d3f3",
           "#FF6692",
           "#B6E880",
           "#FF97FF",
           "#FECB52"
          ],
          "font": {
           "color": "#f2f5fa"
          },
          "geo": {
           "bgcolor": "rgb(17,17,17)",
           "lakecolor": "rgb(17,17,17)",
           "landcolor": "rgb(17,17,17)",
           "showlakes": true,
           "showland": true,
           "subunitcolor": "#506784"
          },
          "hoverlabel": {
           "align": "left"
          },
          "hovermode": "closest",
          "mapbox": {
           "style": "dark"
          },
          "paper_bgcolor": "rgb(17,17,17)",
          "plot_bgcolor": "rgb(17,17,17)",
          "polar": {
           "angularaxis": {
            "gridcolor": "#506784",
            "linecolor": "#506784",
            "ticks": ""
           },
           "bgcolor": "rgb(17,17,17)",
           "radialaxis": {
            "gridcolor": "#506784",
            "linecolor": "#506784",
            "ticks": ""
           }
          },
          "scene": {
           "xaxis": {
            "backgroundcolor": "rgb(17,17,17)",
            "gridcolor": "#506784",
            "gridwidth": 2,
            "linecolor": "#506784",
            "showbackground": true,
            "ticks": "",
            "zerolinecolor": "#C8D4E3"
           },
           "yaxis": {
            "backgroundcolor": "rgb(17,17,17)",
            "gridcolor": "#506784",
            "gridwidth": 2,
            "linecolor": "#506784",
            "showbackground": true,
            "ticks": "",
            "zerolinecolor": "#C8D4E3"
           },
           "zaxis": {
            "backgroundcolor": "rgb(17,17,17)",
            "gridcolor": "#506784",
            "gridwidth": 2,
            "linecolor": "#506784",
            "showbackground": true,
            "ticks": "",
            "zerolinecolor": "#C8D4E3"
           }
          },
          "shapedefaults": {
           "line": {
            "color": "#f2f5fa"
           }
          },
          "sliderdefaults": {
           "bgcolor": "#C8D4E3",
           "bordercolor": "rgb(17,17,17)",
           "borderwidth": 1,
           "tickwidth": 0
          },
          "ternary": {
           "aaxis": {
            "gridcolor": "#506784",
            "linecolor": "#506784",
            "ticks": ""
           },
           "baxis": {
            "gridcolor": "#506784",
            "linecolor": "#506784",
            "ticks": ""
           },
           "bgcolor": "rgb(17,17,17)",
           "caxis": {
            "gridcolor": "#506784",
            "linecolor": "#506784",
            "ticks": ""
           }
          },
          "title": {
           "x": 0.05
          },
          "updatemenudefaults": {
           "bgcolor": "#506784",
           "borderwidth": 0
          },
          "xaxis": {
           "automargin": true,
           "gridcolor": "#283442",
           "linecolor": "#506784",
           "ticks": "",
           "title": {
            "standoff": 15
           },
           "zerolinecolor": "#283442",
           "zerolinewidth": 2
          },
          "yaxis": {
           "automargin": true,
           "gridcolor": "#283442",
           "linecolor": "#506784",
           "ticks": "",
           "title": {
            "standoff": 15
           },
           "zerolinecolor": "#283442",
           "zerolinewidth": 2
          }
         }
        },
        "title": {
         "text": "Points vs Real Cost"
        },
        "xaxis": {
         "anchor": "y",
         "domain": [
          0,
          1
         ],
         "dtick": 0.5,
         "tick0": 0,
         "title": {
          "text": "Real Cost"
         }
        },
        "yaxis": {
         "anchor": "x",
         "domain": [
          0,
          1
         ],
         "title": {
          "text": "Points"
         }
        }
       }
      },
      "text/html": [
       "<div>\n",
       "        \n",
       "        \n",
       "            <div id=\"2d43cdda-9552-459c-81f6-404405a0e76e\" class=\"plotly-graph-div\" style=\"height:525px; width:100%;\"></div>\n",
       "            <script type=\"text/javascript\">\n",
       "                require([\"plotly\"], function(Plotly) {\n",
       "                    window.PLOTLYENV=window.PLOTLYENV || {};\n",
       "                    \n",
       "                if (document.getElementById(\"2d43cdda-9552-459c-81f6-404405a0e76e\")) {\n",
       "                    Plotly.newPlot(\n",
       "                        '2d43cdda-9552-459c-81f6-404405a0e76e',\n",
       "                        [{\"customdata\": [[4.461848819271389, 84.0, 1.5, 1.518927257624303], [1.7431972789115646, 168.0, 7.5, 1.1564625850340136], [7.855763039278815, 58.0, 1.0, 3.477141017385705], [3.160149973219068, 102.0, 4.0, 2.062131762185324], [8.607021517553793, 104.0, 1.0, 4.228010570026425], [5.645784996133024, 71.0, 1.0, 1.237432327919567], [3.022526375819789, 97.0, 3.5, 1.7678927858568576], [8.132875143184421, 67.0, 1.0, 3.7800687285223367], [3.699421965317919, 142.0, 3.5, 2.444260941370768], [7.252075141983399, 74.0, 1.5, 4.36871996505024], [3.68697803897309, 130.0, 2.5, 1.9300958861738324], [7.26643598615917, 80.0, 1.0, 2.8546712802768166], [10.12396694214876, 91.0, 1.0, 5.681818181818182], [6.202618883528601, 81.0, 1.0, 1.791867677463818], [13.967699694456568, 70.0, 0.5, 5.237887385421214], [6.0606060606060606, 93.0, 1.5, 3.1280547409579667], [12.757605495583906, 61.0, 0.5, 3.9254170755642788], [12.168792934249264, 58.0, 0.5, 3.336604514229637], [5.013093901982791, 60.0, 1.5, 2.0950243172465393], [13.824884792626728, 85.0, 0.5, 5.0691244239631335], [null, 62.0, 0.0, null], [5.657919225758421, 69.0, 1.5, 2.754513307277126], [11.040339702760084, 76.0, 0.5, 2.264685067232838], [15.392015392015391, 71.0, 0.5, 6.541606541606542], [11.94859326154915, 83.0, 0.5, 3.195554011809656], [7.925696594427245, 111.0, 1.0, 3.5294117647058822], [13.10782241014799, 59.0, 0.5, 4.2283298097251585], [13.193403298350825, 81.0, 0.5, 4.3478260869565215], [4.741223307998553, 110.0, 2.0, 2.5334781035106766], [6.919494344644045, 95.0, 1.5, 3.992015968063872], [15.789473684210526, 121.0, 0.5, 6.900584795321637], [9.76, 56.0, 1.0, 5.44], [5.57504873294347, 129.0, 1.5, 2.612085769980507], [16.50793650793651, 72.0, 0.5, 7.619047619047619], [16.417910447761194, 67.0, 0.5, 7.67590618336887], [10.711553175210405, 70.0, 0.5, 1.836266258607498], [6.66000666000666, 91.0, 1.5, 3.7296037296037294], [6.0246913580246915, 55.0, 1.5, 3.0617283950617282], [7.638888888888889, 104.0, 1.0, 3.1944444444444446], [7.492063492063492, 107.0, 1.0, 3.0476190476190474], [5.582922824302135, 115.0, 2.0, 3.3661740558292284], [6.627680311890838, 147.0, 1.5, 3.664717348927875], [17.28395061728395, 79.0, 0.5, 8.436213991769547], [4.911650194669063, 117.0, 1.5, 1.9566736547868624], [4.026014245896563, 114.0, 2.0, 1.8271910808299783], [5.506072874493927, 63.0, 2.5, 3.805668016194332], [6.997900629811057, 89.0, 2.0, 4.828551434569629], [15.488215488215488, 83.0, 0.5, 6.734006734006734], [7.427701674277016, 56.0, 1.5, 4.505327245053272], [6.585956416464891, 62.0, 1.0, 2.2276029055690074], [7.368421052631579, 58.0, 1.0, 2.9239766081871346], [5.292360221937686, 60.0, 1.0, 0.8536064874093043], [6.0606060606060606, 90.0, 1.0, 1.6161616161616161], [4.623753399818677, 133.0, 3.0, 3.1429434874584468], [3.6983110075713452, 119.0, 4.0, 2.591729761211415], [3.825479930191972, 126.0, 2.5, 2.0663176265270504], [8.079470198675496, 56.0, 1.0, 3.7086092715231787], [6.402695871946083, 106.0, 1.5, 3.4821679303566415], [12.921089063221043, 66.0, 0.5, 4.060913705583756], [8.698412698412698, 121.0, 1.0, 4.253968253968254], [5.95276609511485, 90.0, 1.0, 1.552895503073439], [13.47068145800317, 81.0, 0.5, 4.595879556259905], [12.941176470588236, 69.0, 0.5, 4.201680672268908], [16.548157724628314, 60.0, 0.5, 7.756948933419522], [4.302788844621514, 72.0, 1.5, 1.3811420982735725], [5.797101449275362, 97.0, 1.5, 2.8719585161547667], [5.5908513341804325, 113.0, 1.5, 2.6683608640406606], [2.92772186642269, 116.0, 2.5, 1.171088746569076], [6.557377049180328, 62.0, 1.5, 3.6429872495446265], [2.974559686888454, 88.0, 2.5, 1.2211350293542074], [7.5650118203309695, 66.0, 1.5, 4.623062779091148], [3.9590894094358298, 104.0, 2.0, 1.7485978225008247], [7.042253521126761, 81.0, 1.0, 2.6604068857589986], [6.842105263157895, 112.0, 1.0, 2.3976608187134505], [4.5594037702761945, 70.0, 1.5, 1.6367090457401725], [3.84586035864174, 111.0, 2.5, 2.075543685616177], [6.920077972709552, 65.0, 1.0, 2.53411306042885], [3.0711959050721265, 152.0, 3.5, 1.8054909260120986], [6.081871345029239, 146.0, 1.5, 3.1189083820662766], [5.04334121355398, 116.0, 1.5, 2.0882584712371948], [2.5185895898296953, 176.0, 5.5, 1.7150395778364116], [4.880952380952381, 112.0, 2.0, 2.6587301587301586], [4.1445270988310305, 112.0, 2.0, 1.9482819695359546], [6.456456456456457, 120.0, 2.0, 4.2542542542542545], [3.8109756097560976, 111.0, 2.5, 2.042682926829268], [8.954179783140958, 57.0, 1.5, 6.0160895417978315], [5.127710843373494, 124.0, 2.5, 3.3542168674698796], [12.729314863347062, 80.0, 0.5, 3.8936727817296894], [5.270092226613966, 108.0, 1.5, 2.3276240667545016], [7.296283668598704, 102.0, 1.0, 2.863961813842482], [10.384959713518352, 105.0, 1.0, 5.998209489704566], [5.1525423728813555, 74.0, 2.0, 2.983050847457627], [2.0770519262981573, 135.0, 5.0, 1.1926298157453936], [4.16374269005848, 164.0, 2.5, 2.3859649122807016], [2.1469338190649667, 194.0, 7.5, 1.554341226472374], [4.797483287455761, 111.0, 2.0, 2.595359811246559], [7.428847081524361, 69.0, 1.0, 2.9908345393150024], [2.1581567673960866, 207.0, 7.5, 1.5746208174134537], [3.878709953926926, 161.0, 3.0, 2.4000857173470482], [18.59799713876967, 57.0, 1.0, 14.30615164520744], [11.117898594990837, 84.0, 1.0, 6.719609040928527], [3.7819098644815634, 186.0, 3.5, 2.521273242987709], [6.203101550775387, 86.0, 1.5, 3.2683008170752044], [3.036576949620428, 118.0, 6.0, 2.3004370830457788], [9.590643274853802, 76.0, 1.0, 5.146198830409356], [4.765886287625418, 107.0, 2.0, 2.5501672240802677], [6.461232604373757, 61.0, 1.0, 2.0874751491053676], [2.570404505888377, 216.0, 7.0, 1.935483870967742], [4.963112005365526, 71.0, 2.0, 2.749832327297116], [4.524301964839711, 158.0, 4.0, 3.43846949327818], [2.198631244274398, 184.0, 7.0, 1.5735302042355985], [4.330836860957343, 131.0, 2.0, 2.1165744057310323], [4.20828339326142, 73.0, 1.5, 1.278465840990811], [5.748175182481752, 63.0, 2.0, 3.5583941605839415], [3.826488537027874, 109.0, 3.0, 2.375061850569025], [2.8939544103072348, 129.0, 5.0, 2.0218037661050543], [7.77027027027027, 65.0, 2.0, 5.63063063063063], [7.419354838709677, 87.0, 1.0, 2.9838709677419355], [5.57504873294347, 135.0, 1.5, 2.612085769980507], [4.795321637426901, 118.0, 1.5, 1.8323586744639375], [7.745664739884393, 65.0, 1.0, 3.352601156069364], [3.2855939342881215, 99.0, 6.0, 2.555461948890761], [3.386243386243386, 186.0, 4.5, 2.4042328042328043], [16.23815967523681, 59.0, 0.5, 7.577807848443843], [6.584362139917696, 144.0, 1.5, 3.6213991769547325], [2.6767485822306236, 146.0, 5.0, 1.7996219281663517], [7.503234152652005, 107.0, 1.0, 3.1047865459249677], [16.770538243626063, 68.0, 0.5, 7.932011331444759], [4.164839982463832, 93.0, 2.0, 1.972818939061815], [5.515743756786102, 111.0, 1.5, 2.56243213897937], [5.269889997441801, 86.0, 3.0, 3.837298541826554], [9.91501416430595, 90.0, 1.0, 5.476864966949953], [22.5609756097561, 67.0, 0.5, 13.71951219512195], [7.795185326709973, 89.0, 1.0, 3.3626289644631258], [8.362573099415204, 136.0, 1.0, 3.91812865497076], [14.065510597302504, 70.0, 0.5, 5.202312138728324], [16.28052598622417, 61.0, 0.5, 7.514088916718848], [13.153153153153154, 70.0, 0.5, 4.324324324324325], [9.89247311827957, 85.0, 1.0, 5.483870967741935], [4.812362030905077, 104.0, 1.5, 1.8543046357615893], [3.883495145631068, 75.0, 1.5, 0.9459795867562858], [13.8860103626943, 63.0, 0.5, 5.181347150259067], [7.18232044198895, 59.0, 1.0, 2.7624309392265194], [7.5879086983343615, 117.0, 1.0, 3.1462060456508327], [5.35453943008615, 88.0, 1.5, 2.43870112657389], [5.660189337319382, 134.0, 1.5, 2.7105132037867463], [12.690191000323729, 92.0, 0.5, 3.8847523470378764], [5.5360623781676415, 135.0, 1.5, 2.573099415204678], [8.346407279573267, 124.0, 1.0, 3.9535613429557577], [7.615780445969126, 105.0, 1.0, 3.224699828473413], [11.745513866231647, 129.0, 1.0, 7.3409461663947795], [5.447347585114806, 80.0, 1.5, 2.5336500395882817], [9.157808667211775, 73.0, 1.5, 6.214227309893704], [7.5675675675675675, 113.0, 1.0, 3.123123123123123], [8.946608946608947, 58.0, 1.0, 4.617604617604617], [5.470459518599562, 75.0, 1.0, 1.0940919037199124], [16.50793650793651, 96.0, 0.5, 7.619047619047619], [3.8726022439377488, 99.0, 2.0, 1.6648570394498734], [3.5357142857142856, 158.0, 4.0, 2.4285714285714284], [6.935944512443901, 77.0, 1.0, 2.5295797633618933], [11.48886283704572, 88.0, 1.0, 7.151230949589683], [4.56140350877193, 109.0, 1.5, 1.5984405458089668], [10.991167811579981, 79.0, 0.5, 2.2244030094864247], [9.497716894977168, 70.0, 1.5, 6.575342465753424], [7.227138643067847, 85.0, 1.5, 4.277286135693215], [11.260709914320685, 69.0, 0.5, 2.4479804161566707], [4.373802277082628, 91.0, 1.5, 1.4429038439860218], [7.204211692989748, 63.0, 1.5, 4.322527015793849], [2.035033487892839, 132.0, 6.0, 1.300875837197321], [6.125725577374336, 109.0, 1.5, 3.2110658268494503], [3.0311182853555736, 151.0, 4.5, 2.044659671778316], [3.5794183445190155, 97.0, 2.5, 1.825503355704698], [3.6236933797909407, 105.0, 3.5, 2.353852109949671], [10.909090909090908, 74.0, 0.5, 2.036363636363636], [3.5102152749211575, 60.0, 1.5, 0.5484711367064308], [5.8885754583921015, 152.0, 2.0, 3.6671368124118477], [15.700934579439252, 97.0, 0.5, 6.878504672897196], [7.712765957446808, 79.0, 1.5, 4.787234042553192], [7.841284837033538, 78.0, 1.0, 3.4010392064241852], [5.8147882268485285, 81.0, 1.0, 1.4357501794687724], [5.793912724605794, 74.0, 1.0, 1.3934726806013935], [9.514101257220524, 60.0, 1.5, 6.659870880054366], [6.281833616298812, 103.0, 2.0, 4.074702886247878], [13.243847874720357, 67.0, 0.5, 4.47427293064877], [4.420629604822505, 65.0, 2.0, 2.2103148024112524], [4.51527224435591, 91.0, 2.0, 2.3019034971226207], [12.280701754385966, 97.0, 0.5, 3.391812865497076], [4.291647438855561, 89.0, 2.0, 2.076603599446239], [10.994575045207956, 73.0, 0.5, 2.1699819168173597], [7.278582930756844, 101.0, 1.0, 2.8341384863123995], [5.964912280701754, 145.0, 1.5, 3.0019493177387915], [6.531986531986532, 87.0, 1.5, 3.569023569023569], [6.900584795321637, 111.0, 1.0, 2.456140350877193], [2.9929034248688677, 161.0, 4.0, 1.8821351434742364], [7.621161672216056, 95.0, 1.0, 3.1816500184979652], [5.684575389948007, 117.0, 1.5, 2.726747544771808], [14.336917562724015, 91.0, 0.5, 5.448028673835125], [5.001923816852636, 116.0, 2.0, 2.8087726048480186], [6.354405502784147, 90.0, 1.0, 1.965280052407468], [4.6093064091308165, 93.0, 2.0, 2.4143985952589992]], \"hovertemplate\": \"<b>%{hovertext}</b><br><br>total_points=%{y}<br>PointRate=%{customdata[0]:.2f}<br>PointsWbp=%{customdata[1]}<br>PointRateFixed=%{customdata[3]:.2f}<extra></extra>\", \"hovertext\": [\"Luiz Moreira Marinho\", \"Aubameyang\", \"Soares\", \"Lacazette\", \"Leno\", \"Xhaka\", \"P\\u00e9p\\u00e9\", \"Saka\", \"Borges Da Silva\", \"Hourihane\", \"Grealish\", \"McGinn\", \"Ibrahim Hassan\", \"Mings\", \"Targett\", \"El Ghazi\", \"Konsa Ngoyo\", \"Guilbert\", \"Moraes\", \"Soares de Paulo\", \"Stephens\", \"Gro\\u00df\", \"Pr\\u00f6pper\", \"Mooy\", \"Burn\", \"Dunk\", \"Montoya\", \"Webster\", \"Maupay\", \"Trossard\", \"Ryan\", \"Connolly\", \"Tarkowski\", \"Bardsley\", \"Pieters\", \"Cork\", \"Rodriguez\", \"Barnes\", \"Mee\", \"Westwood\", \"Wood\", \"Pope\", \"Taylor\", \"McNeil\", \"Azpilicueta\", \"Giroud\", \"Alonso\", \"Frello Filho\", \"Barkley\", \"Kovacic\", \"R\\u00fcdiger\", \"Zouma\", \"Arrizabalaga\", \"Abraham\", \"Pulisic\", \"Mount\", \"James\", \"Chilwell\", \"Cahill\", \"Guaita\", \"McArthur\", \"Kouyat\\u00e9\", \"Ward\", \"Kelly\", \"Milivojevic\", \"van Aanholt\", \"Ayew\", \"Zaha\", \"Walcott\", \"Sigurdsson\", \"An\\u00edcio Caldeira Duarte\", \"Digne\", \"Keane\", \"Pickford\", \"Mina\", \"Calvert-Lewin\", \"Holgate\", \"de Andrade\", \"Schmeichel\", \"Evans\", \"Vardy\", \"Barbosa Pereira\", \"Tielemans\", \"P\\u00e9rez\", \"Maddison\", \"Iheanacho\", \"Barnes\", \"Ndidi\", \"S\\u00f6y\\u00fcnc\\u00fc\", \"Wijnaldum\", \"Henderson\", \"Oxlade-Chamberlain\", \"Firmino\", \"van Dijk\", \"Man\\u00e9\", \"Ramses Becker\", \"Tavares\", \"Salah\", \"Robertson\", \"Origi\", \"Wilson\", \"Alexander-Arnold\", \"Gomez\", \"Ag\\u00fcero\", \"Otamendi\", \"Walker\", \"G\\u00fcndogan\", \"De Bruyne\", \"Mendy\", \"Mahrez\", \"Sterling\", \"Santana de Moraes\", \"Ak\\u00e9\", \"Laporte\", \"Veiga de Carvalho e Silva\", \"de Jesus\", \"Foden\", \"Hernandez\", \"de Gea\", \"Maguire\", \"Shaw\", \"Borges Fernandes\", \"Martial\", \"Pereira\", \"Henderson\", \"Rashford\", \"Lindel\\u00f6f\", \"McTominay\", \"James\", \"Wan-Bissaka\", \"Greenwood\", \"Shelvey\", \"Ritchie\", \"Fern\\u00e1ndez\", \"Dubravka\", \"Lascelles\", \"Manquillo\", \"Hayden\", \"Saint-Maximin\", \"Almir\\u00f3n\", \"Apolin\\u00e1rio de Lira\", \"Hendrick\", \"McGoldrick\", \"Basham\", \"Fleck\", \"Stevens\", \"Norwood\", \"Baldock\", \"Egan\", \"O'Connell\", \"Lundstram\", \"McBurnie\", \"Mousset\", \"Ramsdale\", \"Long\", \"Bertrand\", \"McCarthy\", \"Redmond\", \"Ings\", \"Stephens\", \"Armstrong\", \"Ward-Prowse\", \"Bednarek\", \"Adams\", \"Lloris\", \"Sissoko\", \"Alderweireld\", \"Lamela\", \"Kane\", \"Aurier\", \"Son\", \"Rodrigues Moura da Silva\", \"Alli\", \"H\\u00f8jbjerg\", \"S\\u00e1nchez\", \"Doherty\", \"Noble\", \"Snodgrass\", \"Fabianski\", \"Ogbonna\", \"Cresswell\", \"Yarmolenko\", \"Antonio\", \"Fredericks\", \"Pereira Gomes\", \"Haller\", \"Rice\", \"Fornals\", \"Diop\", \"Santos Moutinho\", \"dos Santos Patr\\u00edcio\", \"Boly\", \"Coady\", \"Jim\\u00e9nez\", \"Sa\\u00efss\", \"Castro Otto\", \"Dendoncker\", \"Traor\\u00e9\", \"da Silva Neves\", \"Jota\"], \"legendgroup\": \"\", \"marker\": {\"color\": \"#636efa\", \"symbol\": \"circle\"}, \"mode\": \"markers\", \"name\": \"\", \"orientation\": \"v\", \"showlegend\": false, \"type\": \"scatter\", \"x\": [1.5, 7.5, 1.0, 4.0, 1.0, 1.0, 3.5, 1.0, 3.5, 1.5, 2.5, 1.0, 1.0, 1.0, 0.5, 1.5, 0.5, 0.5, 1.5, 0.5, 0.0, 1.5, 0.5, 0.5, 0.5, 1.0, 0.5, 0.5, 2.0, 1.5, 0.5, 1.0, 1.5, 0.5, 0.5, 0.5, 1.5, 1.5, 1.0, 1.0, 2.0, 1.5, 0.5, 1.5, 2.0, 2.5, 2.0, 0.5, 1.5, 1.0, 1.0, 1.0, 1.0, 3.0, 4.0, 2.5, 1.0, 1.5, 0.5, 1.0, 1.0, 0.5, 0.5, 0.5, 1.5, 1.5, 1.5, 2.5, 1.5, 2.5, 1.5, 2.0, 1.0, 1.0, 1.5, 2.5, 1.0, 3.5, 1.5, 1.5, 5.5, 2.0, 2.0, 2.0, 2.5, 1.5, 2.5, 0.5, 1.5, 1.0, 1.0, 2.0, 5.0, 2.5, 7.5, 2.0, 1.0, 7.5, 3.0, 1.0, 1.0, 3.5, 1.5, 6.0, 1.0, 2.0, 1.0, 7.0, 2.0, 4.0, 7.0, 2.0, 1.5, 2.0, 3.0, 5.0, 2.0, 1.0, 1.5, 1.5, 1.0, 6.0, 4.5, 0.5, 1.5, 5.0, 1.0, 0.5, 2.0, 1.5, 3.0, 1.0, 0.5, 1.0, 1.0, 0.5, 0.5, 0.5, 1.0, 1.5, 1.5, 0.5, 1.0, 1.0, 1.5, 1.5, 0.5, 1.5, 1.0, 1.0, 1.0, 1.5, 1.5, 1.0, 1.0, 1.0, 0.5, 2.0, 4.0, 1.0, 1.0, 1.5, 0.5, 1.5, 1.5, 0.5, 1.5, 1.5, 6.0, 1.5, 4.5, 2.5, 3.5, 0.5, 1.5, 2.0, 0.5, 1.5, 1.0, 1.0, 1.0, 1.5, 2.0, 0.5, 2.0, 2.0, 0.5, 2.0, 0.5, 1.0, 1.5, 1.5, 1.0, 4.0, 1.0, 1.5, 0.5, 2.0, 1.0, 2.0], \"xaxis\": \"x\", \"y\": [94, 205, 61, 118, 114, 73, 106, 71, 168, 83, 149, 84, 98, 90, 80, 93, 65, 62, 67, 90, 63, 76, 78, 80, 86, 128, 62, 88, 131, 104, 135, 61, 143, 78, 77, 70, 100, 61, 110, 118, 136, 170, 84, 123, 130, 68, 100, 92, 61, 68, 63, 62, 90, 153, 127, 137, 61, 114, 70, 137, 92, 85, 77, 64, 81, 109, 132, 120, 63, 95, 72, 120, 90, 117, 78, 126, 71, 165, 156, 128, 210, 123, 117, 129, 125, 64, 133, 85, 120, 107, 116, 76, 155, 178, 221, 122, 77, 233, 181, 65, 91, 210, 93, 132, 82, 114, 65, 251, 74, 175, 204, 133, 79, 63, 116, 146, 69, 92, 143, 123, 67, 117, 200, 60, 160, 177, 116, 74, 95, 127, 103, 105, 74, 102, 143, 73, 65, 73, 92, 109, 78, 67, 65, 123, 101, 142, 98, 142, 133, 111, 144, 86, 84, 126, 62, 75, 104, 107, 198, 85, 98, 117, 84, 78, 98, 69, 97, 65, 158, 124, 169, 100, 117, 75, 64, 167, 105, 87, 83, 81, 79, 70, 111, 74, 66, 102, 105, 93, 76, 113, 153, 97, 118, 194, 103, 123, 100, 130, 97, 105], \"yaxis\": \"y\"}, {\"hovertemplate\": \"<b>OLS trendline</b><br>total_points = 19.3911 * realCost + 73.1976<br>R<sup>2</sup>=0.532936<br><br>total_points=%{y} <b>(trend)</b><extra></extra>\", \"legendgroup\": \"\", \"marker\": {\"color\": \"#636efa\", \"symbol\": \"circle\"}, \"mode\": \"lines\", \"name\": \"\", \"showlegend\": false, \"type\": \"scatter\", \"x\": [0.0, 0.5, 0.5, 0.5, 0.5, 0.5, 0.5, 0.5, 0.5, 0.5, 0.5, 0.5, 0.5, 0.5, 0.5, 0.5, 0.5, 0.5, 0.5, 0.5, 0.5, 0.5, 0.5, 0.5, 0.5, 0.5, 0.5, 0.5, 0.5, 0.5, 0.5, 0.5, 0.5, 0.5, 0.5, 0.5, 0.5, 0.5, 1.0, 1.0, 1.0, 1.0, 1.0, 1.0, 1.0, 1.0, 1.0, 1.0, 1.0, 1.0, 1.0, 1.0, 1.0, 1.0, 1.0, 1.0, 1.0, 1.0, 1.0, 1.0, 1.0, 1.0, 1.0, 1.0, 1.0, 1.0, 1.0, 1.0, 1.0, 1.0, 1.0, 1.0, 1.0, 1.0, 1.0, 1.0, 1.0, 1.0, 1.0, 1.0, 1.0, 1.0, 1.0, 1.0, 1.0, 1.0, 1.0, 1.0, 1.0, 1.0, 1.5, 1.5, 1.5, 1.5, 1.5, 1.5, 1.5, 1.5, 1.5, 1.5, 1.5, 1.5, 1.5, 1.5, 1.5, 1.5, 1.5, 1.5, 1.5, 1.5, 1.5, 1.5, 1.5, 1.5, 1.5, 1.5, 1.5, 1.5, 1.5, 1.5, 1.5, 1.5, 1.5, 1.5, 1.5, 1.5, 1.5, 1.5, 1.5, 1.5, 1.5, 1.5, 1.5, 1.5, 1.5, 1.5, 1.5, 1.5, 2.0, 2.0, 2.0, 2.0, 2.0, 2.0, 2.0, 2.0, 2.0, 2.0, 2.0, 2.0, 2.0, 2.0, 2.0, 2.0, 2.0, 2.0, 2.0, 2.0, 2.0, 2.0, 2.0, 2.0, 2.5, 2.5, 2.5, 2.5, 2.5, 2.5, 2.5, 2.5, 2.5, 2.5, 3.0, 3.0, 3.0, 3.0, 3.5, 3.5, 3.5, 3.5, 3.5, 4.0, 4.0, 4.0, 4.0, 4.0, 4.5, 4.5, 5.0, 5.0, 5.0, 5.5, 6.0, 6.0, 6.0, 7.0, 7.0, 7.5, 7.5, 7.5], \"xaxis\": \"x\", \"y\": [73.1975774018895, 82.89311396295267, 82.89311396295267, 82.89311396295267, 82.89311396295267, 82.89311396295267, 82.89311396295267, 82.89311396295267, 82.89311396295267, 82.89311396295267, 82.89311396295267, 82.89311396295267, 82.89311396295267, 82.89311396295267, 82.89311396295267, 82.89311396295267, 82.89311396295267, 82.89311396295267, 82.89311396295267, 82.89311396295267, 82.89311396295267, 82.89311396295267, 82.89311396295267, 82.89311396295267, 82.89311396295267, 82.89311396295267, 82.89311396295267, 82.89311396295267, 82.89311396295267, 82.89311396295267, 82.89311396295267, 82.89311396295267, 82.89311396295267, 82.89311396295267, 82.89311396295267, 82.89311396295267, 82.89311396295267, 82.89311396295267, 92.58865052401585, 92.58865052401585, 92.58865052401585, 92.58865052401585, 92.58865052401585, 92.58865052401585, 92.58865052401585, 92.58865052401585, 92.58865052401585, 92.58865052401585, 92.58865052401585, 92.58865052401585, 92.58865052401585, 92.58865052401585, 92.58865052401585, 92.58865052401585, 92.58865052401585, 92.58865052401585, 92.58865052401585, 92.58865052401585, 92.58865052401585, 92.58865052401585, 92.58865052401585, 92.58865052401585, 92.58865052401585, 92.58865052401585, 92.58865052401585, 92.58865052401585, 92.58865052401585, 92.58865052401585, 92.58865052401585, 92.58865052401585, 92.58865052401585, 92.58865052401585, 92.58865052401585, 92.58865052401585, 92.58865052401585, 92.58865052401585, 92.58865052401585, 92.58865052401585, 92.58865052401585, 92.58865052401585, 92.58865052401585, 92.58865052401585, 92.58865052401585, 92.58865052401585, 92.58865052401585, 92.58865052401585, 92.58865052401585, 92.58865052401585, 92.58865052401585, 92.58865052401585, 102.28418708507903, 102.28418708507903, 102.28418708507903, 102.28418708507903, 102.28418708507903, 102.28418708507903, 102.28418708507903, 102.28418708507903, 102.28418708507903, 102.28418708507903, 102.28418708507903, 102.28418708507903, 102.28418708507903, 102.28418708507903, 102.28418708507903, 102.28418708507903, 102.28418708507903, 102.28418708507903, 102.28418708507903, 102.28418708507903, 102.28418708507903, 102.28418708507903, 102.28418708507903, 102.28418708507903, 102.28418708507903, 102.28418708507903, 102.28418708507903, 102.28418708507903, 102.28418708507903, 102.28418708507903, 102.28418708507903, 102.28418708507903, 102.28418708507903, 102.28418708507903, 102.28418708507903, 102.28418708507903, 102.28418708507903, 102.28418708507903, 102.28418708507903, 102.28418708507903, 102.28418708507903, 102.28418708507903, 102.28418708507903, 102.28418708507903, 102.28418708507903, 102.28418708507903, 102.28418708507903, 102.28418708507903, 111.97972364614219, 111.97972364614219, 111.97972364614219, 111.97972364614219, 111.97972364614219, 111.97972364614219, 111.97972364614219, 111.97972364614219, 111.97972364614219, 111.97972364614219, 111.97972364614219, 111.97972364614219, 111.97972364614219, 111.97972364614219, 111.97972364614219, 111.97972364614219, 111.97972364614219, 111.97972364614219, 111.97972364614219, 111.97972364614219, 111.97972364614219, 111.97972364614219, 111.97972364614219, 111.97972364614219, 121.67526020720535, 121.67526020720535, 121.67526020720535, 121.67526020720535, 121.67526020720535, 121.67526020720535, 121.67526020720535, 121.67526020720535, 121.67526020720535, 121.67526020720535, 131.37079676826852, 131.37079676826852, 131.37079676826852, 131.37079676826852, 141.0663333293317, 141.0663333293317, 141.0663333293317, 141.0663333293317, 141.0663333293317, 150.76186989039488, 150.76186989039488, 150.76186989039488, 150.76186989039488, 150.76186989039488, 160.45740645145804, 160.45740645145804, 170.15294301252123, 170.15294301252123, 170.15294301252123, 179.8484795735844, 189.54401613464756, 189.54401613464756, 189.54401613464756, 208.93508925677392, 208.93508925677392, 218.63062581783709, 218.63062581783709, 218.63062581783709], \"yaxis\": \"y\"}],\n",
       "                        {\"legend\": {\"tracegroupgap\": 0}, \"margin\": {\"t\": 60}, \"template\": {\"data\": {\"bar\": [{\"error_x\": {\"color\": \"#f2f5fa\"}, \"error_y\": {\"color\": \"#f2f5fa\"}, \"marker\": {\"line\": {\"color\": \"rgb(17,17,17)\", \"width\": 0.5}}, \"type\": \"bar\"}], \"barpolar\": [{\"marker\": {\"line\": {\"color\": \"rgb(17,17,17)\", \"width\": 0.5}}, \"type\": \"barpolar\"}], \"carpet\": [{\"aaxis\": {\"endlinecolor\": \"#A2B1C6\", \"gridcolor\": \"#506784\", \"linecolor\": \"#506784\", \"minorgridcolor\": \"#506784\", \"startlinecolor\": \"#A2B1C6\"}, \"baxis\": {\"endlinecolor\": \"#A2B1C6\", \"gridcolor\": \"#506784\", \"linecolor\": \"#506784\", \"minorgridcolor\": \"#506784\", \"startlinecolor\": \"#A2B1C6\"}, \"type\": \"carpet\"}], \"choropleth\": [{\"colorbar\": {\"outlinewidth\": 0, \"ticks\": \"\"}, \"type\": \"choropleth\"}], \"contour\": [{\"colorbar\": {\"outlinewidth\": 0, \"ticks\": \"\"}, \"colorscale\": [[0.0, \"#0d0887\"], [0.1111111111111111, \"#46039f\"], [0.2222222222222222, \"#7201a8\"], [0.3333333333333333, \"#9c179e\"], [0.4444444444444444, \"#bd3786\"], [0.5555555555555556, \"#d8576b\"], [0.6666666666666666, \"#ed7953\"], [0.7777777777777778, \"#fb9f3a\"], [0.8888888888888888, \"#fdca26\"], [1.0, \"#f0f921\"]], \"type\": \"contour\"}], \"contourcarpet\": [{\"colorbar\": {\"outlinewidth\": 0, \"ticks\": \"\"}, \"type\": \"contourcarpet\"}], \"heatmap\": [{\"colorbar\": {\"outlinewidth\": 0, \"ticks\": \"\"}, \"colorscale\": [[0.0, \"#0d0887\"], [0.1111111111111111, \"#46039f\"], [0.2222222222222222, \"#7201a8\"], [0.3333333333333333, \"#9c179e\"], [0.4444444444444444, \"#bd3786\"], [0.5555555555555556, \"#d8576b\"], [0.6666666666666666, \"#ed7953\"], [0.7777777777777778, \"#fb9f3a\"], [0.8888888888888888, \"#fdca26\"], [1.0, \"#f0f921\"]], \"type\": \"heatmap\"}], \"heatmapgl\": [{\"colorbar\": {\"outlinewidth\": 0, \"ticks\": \"\"}, \"colorscale\": [[0.0, \"#0d0887\"], [0.1111111111111111, \"#46039f\"], [0.2222222222222222, \"#7201a8\"], [0.3333333333333333, \"#9c179e\"], [0.4444444444444444, \"#bd3786\"], [0.5555555555555556, \"#d8576b\"], [0.6666666666666666, \"#ed7953\"], [0.7777777777777778, \"#fb9f3a\"], [0.8888888888888888, \"#fdca26\"], [1.0, \"#f0f921\"]], \"type\": \"heatmapgl\"}], \"histogram\": [{\"marker\": {\"colorbar\": {\"outlinewidth\": 0, \"ticks\": \"\"}}, \"type\": \"histogram\"}], \"histogram2d\": [{\"colorbar\": {\"outlinewidth\": 0, \"ticks\": \"\"}, \"colorscale\": [[0.0, \"#0d0887\"], [0.1111111111111111, \"#46039f\"], [0.2222222222222222, \"#7201a8\"], [0.3333333333333333, \"#9c179e\"], [0.4444444444444444, \"#bd3786\"], [0.5555555555555556, \"#d8576b\"], [0.6666666666666666, \"#ed7953\"], [0.7777777777777778, \"#fb9f3a\"], [0.8888888888888888, \"#fdca26\"], [1.0, \"#f0f921\"]], \"type\": \"histogram2d\"}], \"histogram2dcontour\": [{\"colorbar\": {\"outlinewidth\": 0, \"ticks\": \"\"}, \"colorscale\": [[0.0, \"#0d0887\"], [0.1111111111111111, \"#46039f\"], [0.2222222222222222, \"#7201a8\"], [0.3333333333333333, \"#9c179e\"], [0.4444444444444444, \"#bd3786\"], [0.5555555555555556, \"#d8576b\"], [0.6666666666666666, \"#ed7953\"], [0.7777777777777778, \"#fb9f3a\"], [0.8888888888888888, \"#fdca26\"], [1.0, \"#f0f921\"]], \"type\": \"histogram2dcontour\"}], \"mesh3d\": [{\"colorbar\": {\"outlinewidth\": 0, \"ticks\": \"\"}, \"type\": \"mesh3d\"}], \"parcoords\": [{\"line\": {\"colorbar\": {\"outlinewidth\": 0, \"ticks\": \"\"}}, \"type\": \"parcoords\"}], \"pie\": [{\"automargin\": true, \"type\": \"pie\"}], \"scatter\": [{\"marker\": {\"line\": {\"color\": \"#283442\"}}, \"type\": \"scatter\"}], \"scatter3d\": [{\"line\": {\"colorbar\": {\"outlinewidth\": 0, \"ticks\": \"\"}}, \"marker\": {\"colorbar\": {\"outlinewidth\": 0, \"ticks\": \"\"}}, \"type\": \"scatter3d\"}], \"scattercarpet\": [{\"marker\": {\"colorbar\": {\"outlinewidth\": 0, \"ticks\": \"\"}}, \"type\": \"scattercarpet\"}], \"scattergeo\": [{\"marker\": {\"colorbar\": {\"outlinewidth\": 0, \"ticks\": \"\"}}, \"type\": \"scattergeo\"}], \"scattergl\": [{\"marker\": {\"line\": {\"color\": \"#283442\"}}, \"type\": \"scattergl\"}], \"scattermapbox\": [{\"marker\": {\"colorbar\": {\"outlinewidth\": 0, \"ticks\": \"\"}}, \"type\": \"scattermapbox\"}], \"scatterpolar\": [{\"marker\": {\"colorbar\": {\"outlinewidth\": 0, \"ticks\": \"\"}}, \"type\": \"scatterpolar\"}], \"scatterpolargl\": [{\"marker\": {\"colorbar\": {\"outlinewidth\": 0, \"ticks\": \"\"}}, \"type\": \"scatterpolargl\"}], \"scatterternary\": [{\"marker\": {\"colorbar\": {\"outlinewidth\": 0, \"ticks\": \"\"}}, \"type\": \"scatterternary\"}], \"surface\": [{\"colorbar\": {\"outlinewidth\": 0, \"ticks\": \"\"}, \"colorscale\": [[0.0, \"#0d0887\"], [0.1111111111111111, \"#46039f\"], [0.2222222222222222, \"#7201a8\"], [0.3333333333333333, \"#9c179e\"], [0.4444444444444444, \"#bd3786\"], [0.5555555555555556, \"#d8576b\"], [0.6666666666666666, \"#ed7953\"], [0.7777777777777778, \"#fb9f3a\"], [0.8888888888888888, \"#fdca26\"], [1.0, \"#f0f921\"]], \"type\": \"surface\"}], \"table\": [{\"cells\": {\"fill\": {\"color\": \"#506784\"}, \"line\": {\"color\": \"rgb(17,17,17)\"}}, \"header\": {\"fill\": {\"color\": \"#2a3f5f\"}, \"line\": {\"color\": \"rgb(17,17,17)\"}}, \"type\": \"table\"}]}, \"layout\": {\"annotationdefaults\": {\"arrowcolor\": \"#f2f5fa\", \"arrowhead\": 0, \"arrowwidth\": 1}, \"coloraxis\": {\"colorbar\": {\"outlinewidth\": 0, \"ticks\": \"\"}}, \"colorscale\": {\"diverging\": [[0, \"#8e0152\"], [0.1, \"#c51b7d\"], [0.2, \"#de77ae\"], [0.3, \"#f1b6da\"], [0.4, \"#fde0ef\"], [0.5, \"#f7f7f7\"], [0.6, \"#e6f5d0\"], [0.7, \"#b8e186\"], [0.8, \"#7fbc41\"], [0.9, \"#4d9221\"], [1, \"#276419\"]], \"sequential\": [[0.0, \"#0d0887\"], [0.1111111111111111, \"#46039f\"], [0.2222222222222222, \"#7201a8\"], [0.3333333333333333, \"#9c179e\"], [0.4444444444444444, \"#bd3786\"], [0.5555555555555556, \"#d8576b\"], [0.6666666666666666, \"#ed7953\"], [0.7777777777777778, \"#fb9f3a\"], [0.8888888888888888, \"#fdca26\"], [1.0, \"#f0f921\"]], \"sequentialminus\": [[0.0, \"#0d0887\"], [0.1111111111111111, \"#46039f\"], [0.2222222222222222, \"#7201a8\"], [0.3333333333333333, \"#9c179e\"], [0.4444444444444444, \"#bd3786\"], [0.5555555555555556, \"#d8576b\"], [0.6666666666666666, \"#ed7953\"], [0.7777777777777778, \"#fb9f3a\"], [0.8888888888888888, \"#fdca26\"], [1.0, \"#f0f921\"]]}, \"colorway\": [\"#636efa\", \"#EF553B\", \"#00cc96\", \"#ab63fa\", \"#FFA15A\", \"#19d3f3\", \"#FF6692\", \"#B6E880\", \"#FF97FF\", \"#FECB52\"], \"font\": {\"color\": \"#f2f5fa\"}, \"geo\": {\"bgcolor\": \"rgb(17,17,17)\", \"lakecolor\": \"rgb(17,17,17)\", \"landcolor\": \"rgb(17,17,17)\", \"showlakes\": true, \"showland\": true, \"subunitcolor\": \"#506784\"}, \"hoverlabel\": {\"align\": \"left\"}, \"hovermode\": \"closest\", \"mapbox\": {\"style\": \"dark\"}, \"paper_bgcolor\": \"rgb(17,17,17)\", \"plot_bgcolor\": \"rgb(17,17,17)\", \"polar\": {\"angularaxis\": {\"gridcolor\": \"#506784\", \"linecolor\": \"#506784\", \"ticks\": \"\"}, \"bgcolor\": \"rgb(17,17,17)\", \"radialaxis\": {\"gridcolor\": \"#506784\", \"linecolor\": \"#506784\", \"ticks\": \"\"}}, \"scene\": {\"xaxis\": {\"backgroundcolor\": \"rgb(17,17,17)\", \"gridcolor\": \"#506784\", \"gridwidth\": 2, \"linecolor\": \"#506784\", \"showbackground\": true, \"ticks\": \"\", \"zerolinecolor\": \"#C8D4E3\"}, \"yaxis\": {\"backgroundcolor\": \"rgb(17,17,17)\", \"gridcolor\": \"#506784\", \"gridwidth\": 2, \"linecolor\": \"#506784\", \"showbackground\": true, \"ticks\": \"\", \"zerolinecolor\": \"#C8D4E3\"}, \"zaxis\": {\"backgroundcolor\": \"rgb(17,17,17)\", \"gridcolor\": \"#506784\", \"gridwidth\": 2, \"linecolor\": \"#506784\", \"showbackground\": true, \"ticks\": \"\", \"zerolinecolor\": \"#C8D4E3\"}}, \"shapedefaults\": {\"line\": {\"color\": \"#f2f5fa\"}}, \"sliderdefaults\": {\"bgcolor\": \"#C8D4E3\", \"bordercolor\": \"rgb(17,17,17)\", \"borderwidth\": 1, \"tickwidth\": 0}, \"ternary\": {\"aaxis\": {\"gridcolor\": \"#506784\", \"linecolor\": \"#506784\", \"ticks\": \"\"}, \"baxis\": {\"gridcolor\": \"#506784\", \"linecolor\": \"#506784\", \"ticks\": \"\"}, \"bgcolor\": \"rgb(17,17,17)\", \"caxis\": {\"gridcolor\": \"#506784\", \"linecolor\": \"#506784\", \"ticks\": \"\"}}, \"title\": {\"x\": 0.05}, \"updatemenudefaults\": {\"bgcolor\": \"#506784\", \"borderwidth\": 0}, \"xaxis\": {\"automargin\": true, \"gridcolor\": \"#283442\", \"linecolor\": \"#506784\", \"ticks\": \"\", \"title\": {\"standoff\": 15}, \"zerolinecolor\": \"#283442\", \"zerolinewidth\": 2}, \"yaxis\": {\"automargin\": true, \"gridcolor\": \"#283442\", \"linecolor\": \"#506784\", \"ticks\": \"\", \"title\": {\"standoff\": 15}, \"zerolinecolor\": \"#283442\", \"zerolinewidth\": 2}}}, \"title\": {\"text\": \"Points vs Real Cost\"}, \"xaxis\": {\"anchor\": \"y\", \"domain\": [0.0, 1.0], \"dtick\": 0.5, \"tick0\": 0, \"title\": {\"text\": \"Real Cost\"}}, \"yaxis\": {\"anchor\": \"x\", \"domain\": [0.0, 1.0], \"title\": {\"text\": \"Points\"}}},\n",
       "                        {\"responsive\": true}\n",
       "                    ).then(function(){\n",
       "                            \n",
       "var gd = document.getElementById('2d43cdda-9552-459c-81f6-404405a0e76e');\n",
       "var x = new MutationObserver(function (mutations, observer) {{\n",
       "        var display = window.getComputedStyle(gd).display;\n",
       "        if (!display || display === 'none') {{\n",
       "            console.log([gd, 'removed!']);\n",
       "            Plotly.purge(gd);\n",
       "            observer.disconnect();\n",
       "        }}\n",
       "}});\n",
       "\n",
       "// Listen for the removal of the full notebook cells\n",
       "var notebookContainer = gd.closest('#notebook-container');\n",
       "if (notebookContainer) {{\n",
       "    x.observe(notebookContainer, {childList: true});\n",
       "}}\n",
       "\n",
       "// Listen for the clearing of the current output cell\n",
       "var outputEl = gd.closest('.output');\n",
       "if (outputEl) {{\n",
       "    x.observe(outputEl, {childList: true});\n",
       "}}\n",
       "\n",
       "                        })\n",
       "                };\n",
       "                });\n",
       "            </script>\n",
       "        </div>"
      ]
     },
     "metadata": {},
     "output_type": "display_data"
    }
   ],
   "source": [
    "fig = px.scatter(data, x=\"realCost\", y=\"total_points\", \n",
    "                 template='plotly_dark', #facet_col=\"position\",\n",
    "                 hover_name=\"second_name\", #color=\"position\",\n",
    "                 #color_discrete_sequence=[\"blue\", \"red\", \"goldenrod\", \"white\"],\n",
    "                 trendline=\"ols\",\n",
    "                 hover_data= {'PointRate':':.2f',\n",
    "                              'PointsWbp': True,\n",
    "                              'realCost':False,\n",
    "                              'PointRateFixed':':.2f'\n",
    "                             })\n",
    "fig.update_xaxes(tick0=0, dtick=0.5)\n",
    "fig.update_xaxes(title_text='Real Cost')\n",
    "fig.update_yaxes(title_text='Points')\n",
    "fig.update_layout(title_text=\"Points vs Real Cost\")\n",
    "fig.show()"
   ]
  },
  {
   "cell_type": "code",
   "execution_count": 18,
   "metadata": {},
   "outputs": [
    {
     "data": {
      "application/vnd.plotly.v1+json": {
       "config": {
        "plotlyServerURL": "https://plot.ly"
       },
       "data": [
        {
         "customdata": [
          [
           8.607021517553793,
           104,
           1,
           4.228010570026425
          ],
          [
           15.789473684210526,
           121,
           0.5,
           6.900584795321637
          ],
          [
           6.627680311890838,
           147,
           1.5,
           3.664717348927875
          ],
          [
           6.0606060606060606,
           90,
           1,
           1.6161616161616161
          ],
          [
           8.698412698412698,
           121,
           1,
           4.253968253968254
          ],
          [
           6.842105263157895,
           112,
           1,
           2.3976608187134505
          ],
          [
           6.081871345029239,
           146,
           1.5,
           3.1189083820662766
          ],
          [
           4.797483287455761,
           111,
           2,
           2.595359811246559
          ],
          [
           4.330836860957343,
           131,
           2,
           2.1165744057310323
          ],
          [
           5.57504873294347,
           135,
           1.5,
           2.612085769980507
          ],
          [
           6.584362139917696,
           144,
           1.5,
           3.6213991769547325
          ],
          [
           8.362573099415204,
           136,
           1,
           3.91812865497076
          ],
          [
           7.5675675675675675,
           113,
           1,
           3.123123123123123
          ],
          [
           16.50793650793651,
           96,
           0.5,
           7.619047619047619
          ],
          [
           7.227138643067847,
           85,
           1.5,
           4.277286135693215
          ],
          [
           7.841284837033538,
           78,
           1,
           3.4010392064241852
          ],
          [
           5.964912280701754,
           145,
           1.5,
           3.0019493177387915
          ]
         ],
         "hovertemplate": "<b>%{hovertext}</b><br><br>PointRate=%{customdata[0]:.2f}<br>PointsWbp=%{customdata[1]}<br>PointRateFixed=%{customdata[3]:.2f}<extra></extra>",
         "hovertext": [
          "Leno",
          "Ryan",
          "Pope",
          "Arrizabalaga",
          "Guaita",
          "Pickford",
          "Schmeichel",
          "Ramses Becker",
          "Santana de Moraes",
          "de Gea",
          "Henderson",
          "Dubravka",
          "Ramsdale",
          "McCarthy",
          "Lloris",
          "Fabianski",
          "dos Santos Patrício"
         ],
         "legendgroup": "",
         "marker": {
          "color": "#636efa",
          "symbol": "circle"
         },
         "mode": "markers",
         "name": "",
         "orientation": "v",
         "showlegend": false,
         "type": "scatter",
         "x": [
          1,
          0.5,
          1.5,
          1,
          1,
          1,
          1.5,
          2,
          2,
          1.5,
          1.5,
          1,
          1,
          0.5,
          1.5,
          1,
          1.5
         ],
         "xaxis": "x",
         "y": [
          8.607021517553793,
          15.789473684210526,
          6.627680311890838,
          6.0606060606060606,
          8.698412698412698,
          6.842105263157895,
          6.081871345029239,
          4.797483287455761,
          4.330836860957343,
          5.57504873294347,
          6.584362139917696,
          8.362573099415204,
          7.5675675675675675,
          16.50793650793651,
          7.227138643067847,
          7.841284837033538,
          5.964912280701754
         ],
         "yaxis": "y"
        },
        {
         "hovertemplate": "<b>OLS trendline</b><br>PointRate = -6.34025 * realCost + 15.683<br>R<sup>2</sup>=0.679757<br><br>PointRate=%{y:.2f} <b>(trend)</b><extra></extra>",
         "legendgroup": "",
         "marker": {
          "color": "#636efa",
          "symbol": "circle"
         },
         "mode": "lines",
         "name": "",
         "showlegend": false,
         "type": "scatter",
         "x": [
          0.5,
          0.5,
          1,
          1,
          1,
          1,
          1,
          1,
          1,
          1.5,
          1.5,
          1.5,
          1.5,
          1.5,
          1.5,
          2,
          2
         ],
         "xaxis": "x",
         "y": [
          12.512910899773248,
          12.512910899773248,
          9.342784081441753,
          9.342784081441753,
          9.342784081441753,
          9.342784081441753,
          9.342784081441753,
          9.342784081441753,
          9.342784081441753,
          6.172657263110256,
          6.172657263110256,
          6.172657263110256,
          6.172657263110256,
          6.172657263110256,
          6.172657263110256,
          3.0025304447787615,
          3.0025304447787615
         ],
         "yaxis": "y"
        }
       ],
       "layout": {
        "legend": {
         "tracegroupgap": 0
        },
        "margin": {
         "t": 60
        },
        "template": {
         "data": {
          "bar": [
           {
            "error_x": {
             "color": "#f2f5fa"
            },
            "error_y": {
             "color": "#f2f5fa"
            },
            "marker": {
             "line": {
              "color": "rgb(17,17,17)",
              "width": 0.5
             }
            },
            "type": "bar"
           }
          ],
          "barpolar": [
           {
            "marker": {
             "line": {
              "color": "rgb(17,17,17)",
              "width": 0.5
             }
            },
            "type": "barpolar"
           }
          ],
          "carpet": [
           {
            "aaxis": {
             "endlinecolor": "#A2B1C6",
             "gridcolor": "#506784",
             "linecolor": "#506784",
             "minorgridcolor": "#506784",
             "startlinecolor": "#A2B1C6"
            },
            "baxis": {
             "endlinecolor": "#A2B1C6",
             "gridcolor": "#506784",
             "linecolor": "#506784",
             "minorgridcolor": "#506784",
             "startlinecolor": "#A2B1C6"
            },
            "type": "carpet"
           }
          ],
          "choropleth": [
           {
            "colorbar": {
             "outlinewidth": 0,
             "ticks": ""
            },
            "type": "choropleth"
           }
          ],
          "contour": [
           {
            "colorbar": {
             "outlinewidth": 0,
             "ticks": ""
            },
            "colorscale": [
             [
              0,
              "#0d0887"
             ],
             [
              0.1111111111111111,
              "#46039f"
             ],
             [
              0.2222222222222222,
              "#7201a8"
             ],
             [
              0.3333333333333333,
              "#9c179e"
             ],
             [
              0.4444444444444444,
              "#bd3786"
             ],
             [
              0.5555555555555556,
              "#d8576b"
             ],
             [
              0.6666666666666666,
              "#ed7953"
             ],
             [
              0.7777777777777778,
              "#fb9f3a"
             ],
             [
              0.8888888888888888,
              "#fdca26"
             ],
             [
              1,
              "#f0f921"
             ]
            ],
            "type": "contour"
           }
          ],
          "contourcarpet": [
           {
            "colorbar": {
             "outlinewidth": 0,
             "ticks": ""
            },
            "type": "contourcarpet"
           }
          ],
          "heatmap": [
           {
            "colorbar": {
             "outlinewidth": 0,
             "ticks": ""
            },
            "colorscale": [
             [
              0,
              "#0d0887"
             ],
             [
              0.1111111111111111,
              "#46039f"
             ],
             [
              0.2222222222222222,
              "#7201a8"
             ],
             [
              0.3333333333333333,
              "#9c179e"
             ],
             [
              0.4444444444444444,
              "#bd3786"
             ],
             [
              0.5555555555555556,
              "#d8576b"
             ],
             [
              0.6666666666666666,
              "#ed7953"
             ],
             [
              0.7777777777777778,
              "#fb9f3a"
             ],
             [
              0.8888888888888888,
              "#fdca26"
             ],
             [
              1,
              "#f0f921"
             ]
            ],
            "type": "heatmap"
           }
          ],
          "heatmapgl": [
           {
            "colorbar": {
             "outlinewidth": 0,
             "ticks": ""
            },
            "colorscale": [
             [
              0,
              "#0d0887"
             ],
             [
              0.1111111111111111,
              "#46039f"
             ],
             [
              0.2222222222222222,
              "#7201a8"
             ],
             [
              0.3333333333333333,
              "#9c179e"
             ],
             [
              0.4444444444444444,
              "#bd3786"
             ],
             [
              0.5555555555555556,
              "#d8576b"
             ],
             [
              0.6666666666666666,
              "#ed7953"
             ],
             [
              0.7777777777777778,
              "#fb9f3a"
             ],
             [
              0.8888888888888888,
              "#fdca26"
             ],
             [
              1,
              "#f0f921"
             ]
            ],
            "type": "heatmapgl"
           }
          ],
          "histogram": [
           {
            "marker": {
             "colorbar": {
              "outlinewidth": 0,
              "ticks": ""
             }
            },
            "type": "histogram"
           }
          ],
          "histogram2d": [
           {
            "colorbar": {
             "outlinewidth": 0,
             "ticks": ""
            },
            "colorscale": [
             [
              0,
              "#0d0887"
             ],
             [
              0.1111111111111111,
              "#46039f"
             ],
             [
              0.2222222222222222,
              "#7201a8"
             ],
             [
              0.3333333333333333,
              "#9c179e"
             ],
             [
              0.4444444444444444,
              "#bd3786"
             ],
             [
              0.5555555555555556,
              "#d8576b"
             ],
             [
              0.6666666666666666,
              "#ed7953"
             ],
             [
              0.7777777777777778,
              "#fb9f3a"
             ],
             [
              0.8888888888888888,
              "#fdca26"
             ],
             [
              1,
              "#f0f921"
             ]
            ],
            "type": "histogram2d"
           }
          ],
          "histogram2dcontour": [
           {
            "colorbar": {
             "outlinewidth": 0,
             "ticks": ""
            },
            "colorscale": [
             [
              0,
              "#0d0887"
             ],
             [
              0.1111111111111111,
              "#46039f"
             ],
             [
              0.2222222222222222,
              "#7201a8"
             ],
             [
              0.3333333333333333,
              "#9c179e"
             ],
             [
              0.4444444444444444,
              "#bd3786"
             ],
             [
              0.5555555555555556,
              "#d8576b"
             ],
             [
              0.6666666666666666,
              "#ed7953"
             ],
             [
              0.7777777777777778,
              "#fb9f3a"
             ],
             [
              0.8888888888888888,
              "#fdca26"
             ],
             [
              1,
              "#f0f921"
             ]
            ],
            "type": "histogram2dcontour"
           }
          ],
          "mesh3d": [
           {
            "colorbar": {
             "outlinewidth": 0,
             "ticks": ""
            },
            "type": "mesh3d"
           }
          ],
          "parcoords": [
           {
            "line": {
             "colorbar": {
              "outlinewidth": 0,
              "ticks": ""
             }
            },
            "type": "parcoords"
           }
          ],
          "pie": [
           {
            "automargin": true,
            "type": "pie"
           }
          ],
          "scatter": [
           {
            "marker": {
             "line": {
              "color": "#283442"
             }
            },
            "type": "scatter"
           }
          ],
          "scatter3d": [
           {
            "line": {
             "colorbar": {
              "outlinewidth": 0,
              "ticks": ""
             }
            },
            "marker": {
             "colorbar": {
              "outlinewidth": 0,
              "ticks": ""
             }
            },
            "type": "scatter3d"
           }
          ],
          "scattercarpet": [
           {
            "marker": {
             "colorbar": {
              "outlinewidth": 0,
              "ticks": ""
             }
            },
            "type": "scattercarpet"
           }
          ],
          "scattergeo": [
           {
            "marker": {
             "colorbar": {
              "outlinewidth": 0,
              "ticks": ""
             }
            },
            "type": "scattergeo"
           }
          ],
          "scattergl": [
           {
            "marker": {
             "line": {
              "color": "#283442"
             }
            },
            "type": "scattergl"
           }
          ],
          "scattermapbox": [
           {
            "marker": {
             "colorbar": {
              "outlinewidth": 0,
              "ticks": ""
             }
            },
            "type": "scattermapbox"
           }
          ],
          "scatterpolar": [
           {
            "marker": {
             "colorbar": {
              "outlinewidth": 0,
              "ticks": ""
             }
            },
            "type": "scatterpolar"
           }
          ],
          "scatterpolargl": [
           {
            "marker": {
             "colorbar": {
              "outlinewidth": 0,
              "ticks": ""
             }
            },
            "type": "scatterpolargl"
           }
          ],
          "scatterternary": [
           {
            "marker": {
             "colorbar": {
              "outlinewidth": 0,
              "ticks": ""
             }
            },
            "type": "scatterternary"
           }
          ],
          "surface": [
           {
            "colorbar": {
             "outlinewidth": 0,
             "ticks": ""
            },
            "colorscale": [
             [
              0,
              "#0d0887"
             ],
             [
              0.1111111111111111,
              "#46039f"
             ],
             [
              0.2222222222222222,
              "#7201a8"
             ],
             [
              0.3333333333333333,
              "#9c179e"
             ],
             [
              0.4444444444444444,
              "#bd3786"
             ],
             [
              0.5555555555555556,
              "#d8576b"
             ],
             [
              0.6666666666666666,
              "#ed7953"
             ],
             [
              0.7777777777777778,
              "#fb9f3a"
             ],
             [
              0.8888888888888888,
              "#fdca26"
             ],
             [
              1,
              "#f0f921"
             ]
            ],
            "type": "surface"
           }
          ],
          "table": [
           {
            "cells": {
             "fill": {
              "color": "#506784"
             },
             "line": {
              "color": "rgb(17,17,17)"
             }
            },
            "header": {
             "fill": {
              "color": "#2a3f5f"
             },
             "line": {
              "color": "rgb(17,17,17)"
             }
            },
            "type": "table"
           }
          ]
         },
         "layout": {
          "annotationdefaults": {
           "arrowcolor": "#f2f5fa",
           "arrowhead": 0,
           "arrowwidth": 1
          },
          "coloraxis": {
           "colorbar": {
            "outlinewidth": 0,
            "ticks": ""
           }
          },
          "colorscale": {
           "diverging": [
            [
             0,
             "#8e0152"
            ],
            [
             0.1,
             "#c51b7d"
            ],
            [
             0.2,
             "#de77ae"
            ],
            [
             0.3,
             "#f1b6da"
            ],
            [
             0.4,
             "#fde0ef"
            ],
            [
             0.5,
             "#f7f7f7"
            ],
            [
             0.6,
             "#e6f5d0"
            ],
            [
             0.7,
             "#b8e186"
            ],
            [
             0.8,
             "#7fbc41"
            ],
            [
             0.9,
             "#4d9221"
            ],
            [
             1,
             "#276419"
            ]
           ],
           "sequential": [
            [
             0,
             "#0d0887"
            ],
            [
             0.1111111111111111,
             "#46039f"
            ],
            [
             0.2222222222222222,
             "#7201a8"
            ],
            [
             0.3333333333333333,
             "#9c179e"
            ],
            [
             0.4444444444444444,
             "#bd3786"
            ],
            [
             0.5555555555555556,
             "#d8576b"
            ],
            [
             0.6666666666666666,
             "#ed7953"
            ],
            [
             0.7777777777777778,
             "#fb9f3a"
            ],
            [
             0.8888888888888888,
             "#fdca26"
            ],
            [
             1,
             "#f0f921"
            ]
           ],
           "sequentialminus": [
            [
             0,
             "#0d0887"
            ],
            [
             0.1111111111111111,
             "#46039f"
            ],
            [
             0.2222222222222222,
             "#7201a8"
            ],
            [
             0.3333333333333333,
             "#9c179e"
            ],
            [
             0.4444444444444444,
             "#bd3786"
            ],
            [
             0.5555555555555556,
             "#d8576b"
            ],
            [
             0.6666666666666666,
             "#ed7953"
            ],
            [
             0.7777777777777778,
             "#fb9f3a"
            ],
            [
             0.8888888888888888,
             "#fdca26"
            ],
            [
             1,
             "#f0f921"
            ]
           ]
          },
          "colorway": [
           "#636efa",
           "#EF553B",
           "#00cc96",
           "#ab63fa",
           "#FFA15A",
           "#19d3f3",
           "#FF6692",
           "#B6E880",
           "#FF97FF",
           "#FECB52"
          ],
          "font": {
           "color": "#f2f5fa"
          },
          "geo": {
           "bgcolor": "rgb(17,17,17)",
           "lakecolor": "rgb(17,17,17)",
           "landcolor": "rgb(17,17,17)",
           "showlakes": true,
           "showland": true,
           "subunitcolor": "#506784"
          },
          "hoverlabel": {
           "align": "left"
          },
          "hovermode": "closest",
          "mapbox": {
           "style": "dark"
          },
          "paper_bgcolor": "rgb(17,17,17)",
          "plot_bgcolor": "rgb(17,17,17)",
          "polar": {
           "angularaxis": {
            "gridcolor": "#506784",
            "linecolor": "#506784",
            "ticks": ""
           },
           "bgcolor": "rgb(17,17,17)",
           "radialaxis": {
            "gridcolor": "#506784",
            "linecolor": "#506784",
            "ticks": ""
           }
          },
          "scene": {
           "xaxis": {
            "backgroundcolor": "rgb(17,17,17)",
            "gridcolor": "#506784",
            "gridwidth": 2,
            "linecolor": "#506784",
            "showbackground": true,
            "ticks": "",
            "zerolinecolor": "#C8D4E3"
           },
           "yaxis": {
            "backgroundcolor": "rgb(17,17,17)",
            "gridcolor": "#506784",
            "gridwidth": 2,
            "linecolor": "#506784",
            "showbackground": true,
            "ticks": "",
            "zerolinecolor": "#C8D4E3"
           },
           "zaxis": {
            "backgroundcolor": "rgb(17,17,17)",
            "gridcolor": "#506784",
            "gridwidth": 2,
            "linecolor": "#506784",
            "showbackground": true,
            "ticks": "",
            "zerolinecolor": "#C8D4E3"
           }
          },
          "shapedefaults": {
           "line": {
            "color": "#f2f5fa"
           }
          },
          "sliderdefaults": {
           "bgcolor": "#C8D4E3",
           "bordercolor": "rgb(17,17,17)",
           "borderwidth": 1,
           "tickwidth": 0
          },
          "ternary": {
           "aaxis": {
            "gridcolor": "#506784",
            "linecolor": "#506784",
            "ticks": ""
           },
           "baxis": {
            "gridcolor": "#506784",
            "linecolor": "#506784",
            "ticks": ""
           },
           "bgcolor": "rgb(17,17,17)",
           "caxis": {
            "gridcolor": "#506784",
            "linecolor": "#506784",
            "ticks": ""
           }
          },
          "title": {
           "x": 0.05
          },
          "updatemenudefaults": {
           "bgcolor": "#506784",
           "borderwidth": 0
          },
          "xaxis": {
           "automargin": true,
           "gridcolor": "#283442",
           "linecolor": "#506784",
           "ticks": "",
           "title": {
            "standoff": 15
           },
           "zerolinecolor": "#283442",
           "zerolinewidth": 2
          },
          "yaxis": {
           "automargin": true,
           "gridcolor": "#283442",
           "linecolor": "#506784",
           "ticks": "",
           "title": {
            "standoff": 15
           },
           "zerolinecolor": "#283442",
           "zerolinewidth": 2
          }
         }
        },
        "title": {
         "text": "Points Rate vs Real Cost"
        },
        "xaxis": {
         "anchor": "y",
         "domain": [
          0,
          1
         ],
         "dtick": 0.5,
         "tick0": 0,
         "title": {
          "text": "Real Cost"
         }
        },
        "yaxis": {
         "anchor": "x",
         "domain": [
          0,
          1
         ],
         "title": {
          "text": "Points Rate"
         }
        }
       }
      },
      "text/html": [
       "<div>\n",
       "        \n",
       "        \n",
       "            <div id=\"0baa7fe2-a865-434f-b7ad-8c067fa067f1\" class=\"plotly-graph-div\" style=\"height:525px; width:100%;\"></div>\n",
       "            <script type=\"text/javascript\">\n",
       "                require([\"plotly\"], function(Plotly) {\n",
       "                    window.PLOTLYENV=window.PLOTLYENV || {};\n",
       "                    \n",
       "                if (document.getElementById(\"0baa7fe2-a865-434f-b7ad-8c067fa067f1\")) {\n",
       "                    Plotly.newPlot(\n",
       "                        '0baa7fe2-a865-434f-b7ad-8c067fa067f1',\n",
       "                        [{\"customdata\": [[8.607021517553793, 104.0, 1.0, 4.228010570026425], [15.789473684210526, 121.0, 0.5, 6.900584795321637], [6.627680311890838, 147.0, 1.5, 3.664717348927875], [6.0606060606060606, 90.0, 1.0, 1.6161616161616161], [8.698412698412698, 121.0, 1.0, 4.253968253968254], [6.842105263157895, 112.0, 1.0, 2.3976608187134505], [6.081871345029239, 146.0, 1.5, 3.1189083820662766], [4.797483287455761, 111.0, 2.0, 2.595359811246559], [4.330836860957343, 131.0, 2.0, 2.1165744057310323], [5.57504873294347, 135.0, 1.5, 2.612085769980507], [6.584362139917696, 144.0, 1.5, 3.6213991769547325], [8.362573099415204, 136.0, 1.0, 3.91812865497076], [7.5675675675675675, 113.0, 1.0, 3.123123123123123], [16.50793650793651, 96.0, 0.5, 7.619047619047619], [7.227138643067847, 85.0, 1.5, 4.277286135693215], [7.841284837033538, 78.0, 1.0, 3.4010392064241852], [5.964912280701754, 145.0, 1.5, 3.0019493177387915]], \"hovertemplate\": \"<b>%{hovertext}</b><br><br>PointRate=%{customdata[0]:.2f}<br>PointsWbp=%{customdata[1]}<br>PointRateFixed=%{customdata[3]:.2f}<extra></extra>\", \"hovertext\": [\"Leno\", \"Ryan\", \"Pope\", \"Arrizabalaga\", \"Guaita\", \"Pickford\", \"Schmeichel\", \"Ramses Becker\", \"Santana de Moraes\", \"de Gea\", \"Henderson\", \"Dubravka\", \"Ramsdale\", \"McCarthy\", \"Lloris\", \"Fabianski\", \"dos Santos Patr\\u00edcio\"], \"legendgroup\": \"\", \"marker\": {\"color\": \"#636efa\", \"symbol\": \"circle\"}, \"mode\": \"markers\", \"name\": \"\", \"orientation\": \"v\", \"showlegend\": false, \"type\": \"scatter\", \"x\": [1.0, 0.5, 1.5, 1.0, 1.0, 1.0, 1.5, 2.0, 2.0, 1.5, 1.5, 1.0, 1.0, 0.5, 1.5, 1.0, 1.5], \"xaxis\": \"x\", \"y\": [8.607021517553793, 15.789473684210526, 6.627680311890838, 6.0606060606060606, 8.698412698412698, 6.842105263157895, 6.081871345029239, 4.797483287455761, 4.330836860957343, 5.57504873294347, 6.584362139917696, 8.362573099415204, 7.5675675675675675, 16.50793650793651, 7.227138643067847, 7.841284837033538, 5.964912280701754], \"yaxis\": \"y\"}, {\"hovertemplate\": \"<b>OLS trendline</b><br>PointRate = -6.34025 * realCost + 15.683<br>R<sup>2</sup>=0.679757<br><br>PointRate=%{y:.2f} <b>(trend)</b><extra></extra>\", \"legendgroup\": \"\", \"marker\": {\"color\": \"#636efa\", \"symbol\": \"circle\"}, \"mode\": \"lines\", \"name\": \"\", \"showlegend\": false, \"type\": \"scatter\", \"x\": [0.5, 0.5, 1.0, 1.0, 1.0, 1.0, 1.0, 1.0, 1.0, 1.5, 1.5, 1.5, 1.5, 1.5, 1.5, 2.0, 2.0], \"xaxis\": \"x\", \"y\": [12.512910899773248, 12.512910899773248, 9.342784081441753, 9.342784081441753, 9.342784081441753, 9.342784081441753, 9.342784081441753, 9.342784081441753, 9.342784081441753, 6.172657263110256, 6.172657263110256, 6.172657263110256, 6.172657263110256, 6.172657263110256, 6.172657263110256, 3.0025304447787615, 3.0025304447787615], \"yaxis\": \"y\"}],\n",
       "                        {\"legend\": {\"tracegroupgap\": 0}, \"margin\": {\"t\": 60}, \"template\": {\"data\": {\"bar\": [{\"error_x\": {\"color\": \"#f2f5fa\"}, \"error_y\": {\"color\": \"#f2f5fa\"}, \"marker\": {\"line\": {\"color\": \"rgb(17,17,17)\", \"width\": 0.5}}, \"type\": \"bar\"}], \"barpolar\": [{\"marker\": {\"line\": {\"color\": \"rgb(17,17,17)\", \"width\": 0.5}}, \"type\": \"barpolar\"}], \"carpet\": [{\"aaxis\": {\"endlinecolor\": \"#A2B1C6\", \"gridcolor\": \"#506784\", \"linecolor\": \"#506784\", \"minorgridcolor\": \"#506784\", \"startlinecolor\": \"#A2B1C6\"}, \"baxis\": {\"endlinecolor\": \"#A2B1C6\", \"gridcolor\": \"#506784\", \"linecolor\": \"#506784\", \"minorgridcolor\": \"#506784\", \"startlinecolor\": \"#A2B1C6\"}, \"type\": \"carpet\"}], \"choropleth\": [{\"colorbar\": {\"outlinewidth\": 0, \"ticks\": \"\"}, \"type\": \"choropleth\"}], \"contour\": [{\"colorbar\": {\"outlinewidth\": 0, \"ticks\": \"\"}, \"colorscale\": [[0.0, \"#0d0887\"], [0.1111111111111111, \"#46039f\"], [0.2222222222222222, \"#7201a8\"], [0.3333333333333333, \"#9c179e\"], [0.4444444444444444, \"#bd3786\"], [0.5555555555555556, \"#d8576b\"], [0.6666666666666666, \"#ed7953\"], [0.7777777777777778, \"#fb9f3a\"], [0.8888888888888888, \"#fdca26\"], [1.0, \"#f0f921\"]], \"type\": \"contour\"}], \"contourcarpet\": [{\"colorbar\": {\"outlinewidth\": 0, \"ticks\": \"\"}, \"type\": \"contourcarpet\"}], \"heatmap\": [{\"colorbar\": {\"outlinewidth\": 0, \"ticks\": \"\"}, \"colorscale\": [[0.0, \"#0d0887\"], [0.1111111111111111, \"#46039f\"], [0.2222222222222222, \"#7201a8\"], [0.3333333333333333, \"#9c179e\"], [0.4444444444444444, \"#bd3786\"], [0.5555555555555556, \"#d8576b\"], [0.6666666666666666, \"#ed7953\"], [0.7777777777777778, \"#fb9f3a\"], [0.8888888888888888, \"#fdca26\"], [1.0, \"#f0f921\"]], \"type\": \"heatmap\"}], \"heatmapgl\": [{\"colorbar\": {\"outlinewidth\": 0, \"ticks\": \"\"}, \"colorscale\": [[0.0, \"#0d0887\"], [0.1111111111111111, \"#46039f\"], [0.2222222222222222, \"#7201a8\"], [0.3333333333333333, \"#9c179e\"], [0.4444444444444444, \"#bd3786\"], [0.5555555555555556, \"#d8576b\"], [0.6666666666666666, \"#ed7953\"], [0.7777777777777778, \"#fb9f3a\"], [0.8888888888888888, \"#fdca26\"], [1.0, \"#f0f921\"]], \"type\": \"heatmapgl\"}], \"histogram\": [{\"marker\": {\"colorbar\": {\"outlinewidth\": 0, \"ticks\": \"\"}}, \"type\": \"histogram\"}], \"histogram2d\": [{\"colorbar\": {\"outlinewidth\": 0, \"ticks\": \"\"}, \"colorscale\": [[0.0, \"#0d0887\"], [0.1111111111111111, \"#46039f\"], [0.2222222222222222, \"#7201a8\"], [0.3333333333333333, \"#9c179e\"], [0.4444444444444444, \"#bd3786\"], [0.5555555555555556, \"#d8576b\"], [0.6666666666666666, \"#ed7953\"], [0.7777777777777778, \"#fb9f3a\"], [0.8888888888888888, \"#fdca26\"], [1.0, \"#f0f921\"]], \"type\": \"histogram2d\"}], \"histogram2dcontour\": [{\"colorbar\": {\"outlinewidth\": 0, \"ticks\": \"\"}, \"colorscale\": [[0.0, \"#0d0887\"], [0.1111111111111111, \"#46039f\"], [0.2222222222222222, \"#7201a8\"], [0.3333333333333333, \"#9c179e\"], [0.4444444444444444, \"#bd3786\"], [0.5555555555555556, \"#d8576b\"], [0.6666666666666666, \"#ed7953\"], [0.7777777777777778, \"#fb9f3a\"], [0.8888888888888888, \"#fdca26\"], [1.0, \"#f0f921\"]], \"type\": \"histogram2dcontour\"}], \"mesh3d\": [{\"colorbar\": {\"outlinewidth\": 0, \"ticks\": \"\"}, \"type\": \"mesh3d\"}], \"parcoords\": [{\"line\": {\"colorbar\": {\"outlinewidth\": 0, \"ticks\": \"\"}}, \"type\": \"parcoords\"}], \"pie\": [{\"automargin\": true, \"type\": \"pie\"}], \"scatter\": [{\"marker\": {\"line\": {\"color\": \"#283442\"}}, \"type\": \"scatter\"}], \"scatter3d\": [{\"line\": {\"colorbar\": {\"outlinewidth\": 0, \"ticks\": \"\"}}, \"marker\": {\"colorbar\": {\"outlinewidth\": 0, \"ticks\": \"\"}}, \"type\": \"scatter3d\"}], \"scattercarpet\": [{\"marker\": {\"colorbar\": {\"outlinewidth\": 0, \"ticks\": \"\"}}, \"type\": \"scattercarpet\"}], \"scattergeo\": [{\"marker\": {\"colorbar\": {\"outlinewidth\": 0, \"ticks\": \"\"}}, \"type\": \"scattergeo\"}], \"scattergl\": [{\"marker\": {\"line\": {\"color\": \"#283442\"}}, \"type\": \"scattergl\"}], \"scattermapbox\": [{\"marker\": {\"colorbar\": {\"outlinewidth\": 0, \"ticks\": \"\"}}, \"type\": \"scattermapbox\"}], \"scatterpolar\": [{\"marker\": {\"colorbar\": {\"outlinewidth\": 0, \"ticks\": \"\"}}, \"type\": \"scatterpolar\"}], \"scatterpolargl\": [{\"marker\": {\"colorbar\": {\"outlinewidth\": 0, \"ticks\": \"\"}}, \"type\": \"scatterpolargl\"}], \"scatterternary\": [{\"marker\": {\"colorbar\": {\"outlinewidth\": 0, \"ticks\": \"\"}}, \"type\": \"scatterternary\"}], \"surface\": [{\"colorbar\": {\"outlinewidth\": 0, \"ticks\": \"\"}, \"colorscale\": [[0.0, \"#0d0887\"], [0.1111111111111111, \"#46039f\"], [0.2222222222222222, \"#7201a8\"], [0.3333333333333333, \"#9c179e\"], [0.4444444444444444, \"#bd3786\"], [0.5555555555555556, \"#d8576b\"], [0.6666666666666666, \"#ed7953\"], [0.7777777777777778, \"#fb9f3a\"], [0.8888888888888888, \"#fdca26\"], [1.0, \"#f0f921\"]], \"type\": \"surface\"}], \"table\": [{\"cells\": {\"fill\": {\"color\": \"#506784\"}, \"line\": {\"color\": \"rgb(17,17,17)\"}}, \"header\": {\"fill\": {\"color\": \"#2a3f5f\"}, \"line\": {\"color\": \"rgb(17,17,17)\"}}, \"type\": \"table\"}]}, \"layout\": {\"annotationdefaults\": {\"arrowcolor\": \"#f2f5fa\", \"arrowhead\": 0, \"arrowwidth\": 1}, \"coloraxis\": {\"colorbar\": {\"outlinewidth\": 0, \"ticks\": \"\"}}, \"colorscale\": {\"diverging\": [[0, \"#8e0152\"], [0.1, \"#c51b7d\"], [0.2, \"#de77ae\"], [0.3, \"#f1b6da\"], [0.4, \"#fde0ef\"], [0.5, \"#f7f7f7\"], [0.6, \"#e6f5d0\"], [0.7, \"#b8e186\"], [0.8, \"#7fbc41\"], [0.9, \"#4d9221\"], [1, \"#276419\"]], \"sequential\": [[0.0, \"#0d0887\"], [0.1111111111111111, \"#46039f\"], [0.2222222222222222, \"#7201a8\"], [0.3333333333333333, \"#9c179e\"], [0.4444444444444444, \"#bd3786\"], [0.5555555555555556, \"#d8576b\"], [0.6666666666666666, \"#ed7953\"], [0.7777777777777778, \"#fb9f3a\"], [0.8888888888888888, \"#fdca26\"], [1.0, \"#f0f921\"]], \"sequentialminus\": [[0.0, \"#0d0887\"], [0.1111111111111111, \"#46039f\"], [0.2222222222222222, \"#7201a8\"], [0.3333333333333333, \"#9c179e\"], [0.4444444444444444, \"#bd3786\"], [0.5555555555555556, \"#d8576b\"], [0.6666666666666666, \"#ed7953\"], [0.7777777777777778, \"#fb9f3a\"], [0.8888888888888888, \"#fdca26\"], [1.0, \"#f0f921\"]]}, \"colorway\": [\"#636efa\", \"#EF553B\", \"#00cc96\", \"#ab63fa\", \"#FFA15A\", \"#19d3f3\", \"#FF6692\", \"#B6E880\", \"#FF97FF\", \"#FECB52\"], \"font\": {\"color\": \"#f2f5fa\"}, \"geo\": {\"bgcolor\": \"rgb(17,17,17)\", \"lakecolor\": \"rgb(17,17,17)\", \"landcolor\": \"rgb(17,17,17)\", \"showlakes\": true, \"showland\": true, \"subunitcolor\": \"#506784\"}, \"hoverlabel\": {\"align\": \"left\"}, \"hovermode\": \"closest\", \"mapbox\": {\"style\": \"dark\"}, \"paper_bgcolor\": \"rgb(17,17,17)\", \"plot_bgcolor\": \"rgb(17,17,17)\", \"polar\": {\"angularaxis\": {\"gridcolor\": \"#506784\", \"linecolor\": \"#506784\", \"ticks\": \"\"}, \"bgcolor\": \"rgb(17,17,17)\", \"radialaxis\": {\"gridcolor\": \"#506784\", \"linecolor\": \"#506784\", \"ticks\": \"\"}}, \"scene\": {\"xaxis\": {\"backgroundcolor\": \"rgb(17,17,17)\", \"gridcolor\": \"#506784\", \"gridwidth\": 2, \"linecolor\": \"#506784\", \"showbackground\": true, \"ticks\": \"\", \"zerolinecolor\": \"#C8D4E3\"}, \"yaxis\": {\"backgroundcolor\": \"rgb(17,17,17)\", \"gridcolor\": \"#506784\", \"gridwidth\": 2, \"linecolor\": \"#506784\", \"showbackground\": true, \"ticks\": \"\", \"zerolinecolor\": \"#C8D4E3\"}, \"zaxis\": {\"backgroundcolor\": \"rgb(17,17,17)\", \"gridcolor\": \"#506784\", \"gridwidth\": 2, \"linecolor\": \"#506784\", \"showbackground\": true, \"ticks\": \"\", \"zerolinecolor\": \"#C8D4E3\"}}, \"shapedefaults\": {\"line\": {\"color\": \"#f2f5fa\"}}, \"sliderdefaults\": {\"bgcolor\": \"#C8D4E3\", \"bordercolor\": \"rgb(17,17,17)\", \"borderwidth\": 1, \"tickwidth\": 0}, \"ternary\": {\"aaxis\": {\"gridcolor\": \"#506784\", \"linecolor\": \"#506784\", \"ticks\": \"\"}, \"baxis\": {\"gridcolor\": \"#506784\", \"linecolor\": \"#506784\", \"ticks\": \"\"}, \"bgcolor\": \"rgb(17,17,17)\", \"caxis\": {\"gridcolor\": \"#506784\", \"linecolor\": \"#506784\", \"ticks\": \"\"}}, \"title\": {\"x\": 0.05}, \"updatemenudefaults\": {\"bgcolor\": \"#506784\", \"borderwidth\": 0}, \"xaxis\": {\"automargin\": true, \"gridcolor\": \"#283442\", \"linecolor\": \"#506784\", \"ticks\": \"\", \"title\": {\"standoff\": 15}, \"zerolinecolor\": \"#283442\", \"zerolinewidth\": 2}, \"yaxis\": {\"automargin\": true, \"gridcolor\": \"#283442\", \"linecolor\": \"#506784\", \"ticks\": \"\", \"title\": {\"standoff\": 15}, \"zerolinecolor\": \"#283442\", \"zerolinewidth\": 2}}}, \"title\": {\"text\": \"Points Rate vs Real Cost\"}, \"xaxis\": {\"anchor\": \"y\", \"domain\": [0.0, 1.0], \"dtick\": 0.5, \"tick0\": 0, \"title\": {\"text\": \"Real Cost\"}}, \"yaxis\": {\"anchor\": \"x\", \"domain\": [0.0, 1.0], \"title\": {\"text\": \"Points Rate\"}}},\n",
       "                        {\"responsive\": true}\n",
       "                    ).then(function(){\n",
       "                            \n",
       "var gd = document.getElementById('0baa7fe2-a865-434f-b7ad-8c067fa067f1');\n",
       "var x = new MutationObserver(function (mutations, observer) {{\n",
       "        var display = window.getComputedStyle(gd).display;\n",
       "        if (!display || display === 'none') {{\n",
       "            console.log([gd, 'removed!']);\n",
       "            Plotly.purge(gd);\n",
       "            observer.disconnect();\n",
       "        }}\n",
       "}});\n",
       "\n",
       "// Listen for the removal of the full notebook cells\n",
       "var notebookContainer = gd.closest('#notebook-container');\n",
       "if (notebookContainer) {{\n",
       "    x.observe(notebookContainer, {childList: true});\n",
       "}}\n",
       "\n",
       "// Listen for the clearing of the current output cell\n",
       "var outputEl = gd.closest('.output');\n",
       "if (outputEl) {{\n",
       "    x.observe(outputEl, {childList: true});\n",
       "}}\n",
       "\n",
       "                        })\n",
       "                };\n",
       "                });\n",
       "            </script>\n",
       "        </div>"
      ]
     },
     "metadata": {},
     "output_type": "display_data"
    }
   ],
   "source": [
    "fig = px.scatter(GK, x=\"realCost\", y=\"PointRate\", \n",
    "                 template='plotly_dark',\n",
    "                 hover_name=\"second_name\", \n",
    "                 trendline=\"ols\",\n",
    "                 hover_data= {'PointRate':':.2f',\n",
    "                              'PointsWbp': True,\n",
    "                              'realCost':False,\n",
    "                              'PointRateFixed':':.2f'\n",
    "                             })\n",
    "fig.update_xaxes(tick0=0, dtick=0.5)\n",
    "fig.update_xaxes(title_text='Real Cost')\n",
    "fig.update_yaxes(title_text='Points Rate')\n",
    "fig.update_layout(title_text=\"Points Rate vs Real Cost\")\n",
    "fig.show()"
   ]
  },
  {
   "cell_type": "code",
   "execution_count": 17,
   "metadata": {},
   "outputs": [
    {
     "data": {
      "application/vnd.plotly.v1+json": {
       "config": {
        "plotlyServerURL": "https://plot.ly"
       },
       "data": [
        {
         "customdata": [
          [
           8.607021517553793,
           104,
           1,
           4.228010570026425
          ],
          [
           15.789473684210526,
           121,
           0.5,
           6.900584795321637
          ],
          [
           6.627680311890838,
           147,
           1.5,
           3.664717348927875
          ],
          [
           6.0606060606060606,
           90,
           1,
           1.6161616161616161
          ],
          [
           8.698412698412698,
           121,
           1,
           4.253968253968254
          ],
          [
           6.842105263157895,
           112,
           1,
           2.3976608187134505
          ],
          [
           6.081871345029239,
           146,
           1.5,
           3.1189083820662766
          ],
          [
           4.797483287455761,
           111,
           2,
           2.595359811246559
          ],
          [
           4.330836860957343,
           131,
           2,
           2.1165744057310323
          ],
          [
           5.57504873294347,
           135,
           1.5,
           2.612085769980507
          ],
          [
           6.584362139917696,
           144,
           1.5,
           3.6213991769547325
          ],
          [
           8.362573099415204,
           136,
           1,
           3.91812865497076
          ],
          [
           7.5675675675675675,
           113,
           1,
           3.123123123123123
          ],
          [
           16.50793650793651,
           96,
           0.5,
           7.619047619047619
          ],
          [
           7.227138643067847,
           85,
           1.5,
           4.277286135693215
          ],
          [
           7.841284837033538,
           78,
           1,
           3.4010392064241852
          ],
          [
           5.964912280701754,
           145,
           1.5,
           3.0019493177387915
          ]
         ],
         "hovertemplate": "<b>%{hovertext}</b><br><br>PointRateFixed=%{customdata[3]:.2f}<br>PointRate=%{customdata[0]:.2f}<br>PointsWbp=%{customdata[1]}<extra></extra>",
         "hovertext": [
          "Leno",
          "Ryan",
          "Pope",
          "Arrizabalaga",
          "Guaita",
          "Pickford",
          "Schmeichel",
          "Ramses Becker",
          "Santana de Moraes",
          "de Gea",
          "Henderson",
          "Dubravka",
          "Ramsdale",
          "McCarthy",
          "Lloris",
          "Fabianski",
          "dos Santos Patrício"
         ],
         "legendgroup": "",
         "marker": {
          "color": "#636efa",
          "symbol": "circle"
         },
         "mode": "markers",
         "name": "",
         "orientation": "v",
         "showlegend": false,
         "type": "scatter",
         "x": [
          1,
          0.5,
          1.5,
          1,
          1,
          1,
          1.5,
          2,
          2,
          1.5,
          1.5,
          1,
          1,
          0.5,
          1.5,
          1,
          1.5
         ],
         "xaxis": "x",
         "y": [
          4.228010570026425,
          6.900584795321637,
          3.664717348927875,
          1.6161616161616161,
          4.253968253968254,
          2.3976608187134505,
          3.1189083820662766,
          2.595359811246559,
          2.1165744057310323,
          2.612085769980507,
          3.6213991769547325,
          3.91812865497076,
          3.123123123123123,
          7.619047619047619,
          4.277286135693215,
          3.4010392064241852,
          3.0019493177387915
         ],
         "yaxis": "y"
        },
        {
         "hovertemplate": "<b>OLS trendline</b><br>PointRateFixed = -2.32037 * realCost + 6.54081<br>R<sup>2</sup>=0.424874<br><br>PointRateFixed=%{y:.2f} <b>(trend)</b><extra></extra>",
         "legendgroup": "",
         "marker": {
          "color": "#636efa",
          "symbol": "circle"
         },
         "mode": "lines",
         "name": "",
         "showlegend": false,
         "type": "scatter",
         "x": [
          0.5,
          0.5,
          1,
          1,
          1,
          1,
          1,
          1,
          1,
          1.5,
          1.5,
          1.5,
          1.5,
          1.5,
          1.5,
          2,
          2
         ],
         "xaxis": "x",
         "y": [
          5.3806229152529905,
          5.3806229152529905,
          4.2204395331248,
          4.2204395331248,
          4.2204395331248,
          4.2204395331248,
          4.2204395331248,
          4.2204395331248,
          4.2204395331248,
          3.060256150996609,
          3.060256150996609,
          3.060256150996609,
          3.060256150996609,
          3.060256150996609,
          3.060256150996609,
          1.9000727688684176,
          1.9000727688684176
         ],
         "yaxis": "y"
        }
       ],
       "layout": {
        "legend": {
         "tracegroupgap": 0
        },
        "margin": {
         "t": 60
        },
        "template": {
         "data": {
          "bar": [
           {
            "error_x": {
             "color": "#f2f5fa"
            },
            "error_y": {
             "color": "#f2f5fa"
            },
            "marker": {
             "line": {
              "color": "rgb(17,17,17)",
              "width": 0.5
             }
            },
            "type": "bar"
           }
          ],
          "barpolar": [
           {
            "marker": {
             "line": {
              "color": "rgb(17,17,17)",
              "width": 0.5
             }
            },
            "type": "barpolar"
           }
          ],
          "carpet": [
           {
            "aaxis": {
             "endlinecolor": "#A2B1C6",
             "gridcolor": "#506784",
             "linecolor": "#506784",
             "minorgridcolor": "#506784",
             "startlinecolor": "#A2B1C6"
            },
            "baxis": {
             "endlinecolor": "#A2B1C6",
             "gridcolor": "#506784",
             "linecolor": "#506784",
             "minorgridcolor": "#506784",
             "startlinecolor": "#A2B1C6"
            },
            "type": "carpet"
           }
          ],
          "choropleth": [
           {
            "colorbar": {
             "outlinewidth": 0,
             "ticks": ""
            },
            "type": "choropleth"
           }
          ],
          "contour": [
           {
            "colorbar": {
             "outlinewidth": 0,
             "ticks": ""
            },
            "colorscale": [
             [
              0,
              "#0d0887"
             ],
             [
              0.1111111111111111,
              "#46039f"
             ],
             [
              0.2222222222222222,
              "#7201a8"
             ],
             [
              0.3333333333333333,
              "#9c179e"
             ],
             [
              0.4444444444444444,
              "#bd3786"
             ],
             [
              0.5555555555555556,
              "#d8576b"
             ],
             [
              0.6666666666666666,
              "#ed7953"
             ],
             [
              0.7777777777777778,
              "#fb9f3a"
             ],
             [
              0.8888888888888888,
              "#fdca26"
             ],
             [
              1,
              "#f0f921"
             ]
            ],
            "type": "contour"
           }
          ],
          "contourcarpet": [
           {
            "colorbar": {
             "outlinewidth": 0,
             "ticks": ""
            },
            "type": "contourcarpet"
           }
          ],
          "heatmap": [
           {
            "colorbar": {
             "outlinewidth": 0,
             "ticks": ""
            },
            "colorscale": [
             [
              0,
              "#0d0887"
             ],
             [
              0.1111111111111111,
              "#46039f"
             ],
             [
              0.2222222222222222,
              "#7201a8"
             ],
             [
              0.3333333333333333,
              "#9c179e"
             ],
             [
              0.4444444444444444,
              "#bd3786"
             ],
             [
              0.5555555555555556,
              "#d8576b"
             ],
             [
              0.6666666666666666,
              "#ed7953"
             ],
             [
              0.7777777777777778,
              "#fb9f3a"
             ],
             [
              0.8888888888888888,
              "#fdca26"
             ],
             [
              1,
              "#f0f921"
             ]
            ],
            "type": "heatmap"
           }
          ],
          "heatmapgl": [
           {
            "colorbar": {
             "outlinewidth": 0,
             "ticks": ""
            },
            "colorscale": [
             [
              0,
              "#0d0887"
             ],
             [
              0.1111111111111111,
              "#46039f"
             ],
             [
              0.2222222222222222,
              "#7201a8"
             ],
             [
              0.3333333333333333,
              "#9c179e"
             ],
             [
              0.4444444444444444,
              "#bd3786"
             ],
             [
              0.5555555555555556,
              "#d8576b"
             ],
             [
              0.6666666666666666,
              "#ed7953"
             ],
             [
              0.7777777777777778,
              "#fb9f3a"
             ],
             [
              0.8888888888888888,
              "#fdca26"
             ],
             [
              1,
              "#f0f921"
             ]
            ],
            "type": "heatmapgl"
           }
          ],
          "histogram": [
           {
            "marker": {
             "colorbar": {
              "outlinewidth": 0,
              "ticks": ""
             }
            },
            "type": "histogram"
           }
          ],
          "histogram2d": [
           {
            "colorbar": {
             "outlinewidth": 0,
             "ticks": ""
            },
            "colorscale": [
             [
              0,
              "#0d0887"
             ],
             [
              0.1111111111111111,
              "#46039f"
             ],
             [
              0.2222222222222222,
              "#7201a8"
             ],
             [
              0.3333333333333333,
              "#9c179e"
             ],
             [
              0.4444444444444444,
              "#bd3786"
             ],
             [
              0.5555555555555556,
              "#d8576b"
             ],
             [
              0.6666666666666666,
              "#ed7953"
             ],
             [
              0.7777777777777778,
              "#fb9f3a"
             ],
             [
              0.8888888888888888,
              "#fdca26"
             ],
             [
              1,
              "#f0f921"
             ]
            ],
            "type": "histogram2d"
           }
          ],
          "histogram2dcontour": [
           {
            "colorbar": {
             "outlinewidth": 0,
             "ticks": ""
            },
            "colorscale": [
             [
              0,
              "#0d0887"
             ],
             [
              0.1111111111111111,
              "#46039f"
             ],
             [
              0.2222222222222222,
              "#7201a8"
             ],
             [
              0.3333333333333333,
              "#9c179e"
             ],
             [
              0.4444444444444444,
              "#bd3786"
             ],
             [
              0.5555555555555556,
              "#d8576b"
             ],
             [
              0.6666666666666666,
              "#ed7953"
             ],
             [
              0.7777777777777778,
              "#fb9f3a"
             ],
             [
              0.8888888888888888,
              "#fdca26"
             ],
             [
              1,
              "#f0f921"
             ]
            ],
            "type": "histogram2dcontour"
           }
          ],
          "mesh3d": [
           {
            "colorbar": {
             "outlinewidth": 0,
             "ticks": ""
            },
            "type": "mesh3d"
           }
          ],
          "parcoords": [
           {
            "line": {
             "colorbar": {
              "outlinewidth": 0,
              "ticks": ""
             }
            },
            "type": "parcoords"
           }
          ],
          "pie": [
           {
            "automargin": true,
            "type": "pie"
           }
          ],
          "scatter": [
           {
            "marker": {
             "line": {
              "color": "#283442"
             }
            },
            "type": "scatter"
           }
          ],
          "scatter3d": [
           {
            "line": {
             "colorbar": {
              "outlinewidth": 0,
              "ticks": ""
             }
            },
            "marker": {
             "colorbar": {
              "outlinewidth": 0,
              "ticks": ""
             }
            },
            "type": "scatter3d"
           }
          ],
          "scattercarpet": [
           {
            "marker": {
             "colorbar": {
              "outlinewidth": 0,
              "ticks": ""
             }
            },
            "type": "scattercarpet"
           }
          ],
          "scattergeo": [
           {
            "marker": {
             "colorbar": {
              "outlinewidth": 0,
              "ticks": ""
             }
            },
            "type": "scattergeo"
           }
          ],
          "scattergl": [
           {
            "marker": {
             "line": {
              "color": "#283442"
             }
            },
            "type": "scattergl"
           }
          ],
          "scattermapbox": [
           {
            "marker": {
             "colorbar": {
              "outlinewidth": 0,
              "ticks": ""
             }
            },
            "type": "scattermapbox"
           }
          ],
          "scatterpolar": [
           {
            "marker": {
             "colorbar": {
              "outlinewidth": 0,
              "ticks": ""
             }
            },
            "type": "scatterpolar"
           }
          ],
          "scatterpolargl": [
           {
            "marker": {
             "colorbar": {
              "outlinewidth": 0,
              "ticks": ""
             }
            },
            "type": "scatterpolargl"
           }
          ],
          "scatterternary": [
           {
            "marker": {
             "colorbar": {
              "outlinewidth": 0,
              "ticks": ""
             }
            },
            "type": "scatterternary"
           }
          ],
          "surface": [
           {
            "colorbar": {
             "outlinewidth": 0,
             "ticks": ""
            },
            "colorscale": [
             [
              0,
              "#0d0887"
             ],
             [
              0.1111111111111111,
              "#46039f"
             ],
             [
              0.2222222222222222,
              "#7201a8"
             ],
             [
              0.3333333333333333,
              "#9c179e"
             ],
             [
              0.4444444444444444,
              "#bd3786"
             ],
             [
              0.5555555555555556,
              "#d8576b"
             ],
             [
              0.6666666666666666,
              "#ed7953"
             ],
             [
              0.7777777777777778,
              "#fb9f3a"
             ],
             [
              0.8888888888888888,
              "#fdca26"
             ],
             [
              1,
              "#f0f921"
             ]
            ],
            "type": "surface"
           }
          ],
          "table": [
           {
            "cells": {
             "fill": {
              "color": "#506784"
             },
             "line": {
              "color": "rgb(17,17,17)"
             }
            },
            "header": {
             "fill": {
              "color": "#2a3f5f"
             },
             "line": {
              "color": "rgb(17,17,17)"
             }
            },
            "type": "table"
           }
          ]
         },
         "layout": {
          "annotationdefaults": {
           "arrowcolor": "#f2f5fa",
           "arrowhead": 0,
           "arrowwidth": 1
          },
          "coloraxis": {
           "colorbar": {
            "outlinewidth": 0,
            "ticks": ""
           }
          },
          "colorscale": {
           "diverging": [
            [
             0,
             "#8e0152"
            ],
            [
             0.1,
             "#c51b7d"
            ],
            [
             0.2,
             "#de77ae"
            ],
            [
             0.3,
             "#f1b6da"
            ],
            [
             0.4,
             "#fde0ef"
            ],
            [
             0.5,
             "#f7f7f7"
            ],
            [
             0.6,
             "#e6f5d0"
            ],
            [
             0.7,
             "#b8e186"
            ],
            [
             0.8,
             "#7fbc41"
            ],
            [
             0.9,
             "#4d9221"
            ],
            [
             1,
             "#276419"
            ]
           ],
           "sequential": [
            [
             0,
             "#0d0887"
            ],
            [
             0.1111111111111111,
             "#46039f"
            ],
            [
             0.2222222222222222,
             "#7201a8"
            ],
            [
             0.3333333333333333,
             "#9c179e"
            ],
            [
             0.4444444444444444,
             "#bd3786"
            ],
            [
             0.5555555555555556,
             "#d8576b"
            ],
            [
             0.6666666666666666,
             "#ed7953"
            ],
            [
             0.7777777777777778,
             "#fb9f3a"
            ],
            [
             0.8888888888888888,
             "#fdca26"
            ],
            [
             1,
             "#f0f921"
            ]
           ],
           "sequentialminus": [
            [
             0,
             "#0d0887"
            ],
            [
             0.1111111111111111,
             "#46039f"
            ],
            [
             0.2222222222222222,
             "#7201a8"
            ],
            [
             0.3333333333333333,
             "#9c179e"
            ],
            [
             0.4444444444444444,
             "#bd3786"
            ],
            [
             0.5555555555555556,
             "#d8576b"
            ],
            [
             0.6666666666666666,
             "#ed7953"
            ],
            [
             0.7777777777777778,
             "#fb9f3a"
            ],
            [
             0.8888888888888888,
             "#fdca26"
            ],
            [
             1,
             "#f0f921"
            ]
           ]
          },
          "colorway": [
           "#636efa",
           "#EF553B",
           "#00cc96",
           "#ab63fa",
           "#FFA15A",
           "#19d3f3",
           "#FF6692",
           "#B6E880",
           "#FF97FF",
           "#FECB52"
          ],
          "font": {
           "color": "#f2f5fa"
          },
          "geo": {
           "bgcolor": "rgb(17,17,17)",
           "lakecolor": "rgb(17,17,17)",
           "landcolor": "rgb(17,17,17)",
           "showlakes": true,
           "showland": true,
           "subunitcolor": "#506784"
          },
          "hoverlabel": {
           "align": "left"
          },
          "hovermode": "closest",
          "mapbox": {
           "style": "dark"
          },
          "paper_bgcolor": "rgb(17,17,17)",
          "plot_bgcolor": "rgb(17,17,17)",
          "polar": {
           "angularaxis": {
            "gridcolor": "#506784",
            "linecolor": "#506784",
            "ticks": ""
           },
           "bgcolor": "rgb(17,17,17)",
           "radialaxis": {
            "gridcolor": "#506784",
            "linecolor": "#506784",
            "ticks": ""
           }
          },
          "scene": {
           "xaxis": {
            "backgroundcolor": "rgb(17,17,17)",
            "gridcolor": "#506784",
            "gridwidth": 2,
            "linecolor": "#506784",
            "showbackground": true,
            "ticks": "",
            "zerolinecolor": "#C8D4E3"
           },
           "yaxis": {
            "backgroundcolor": "rgb(17,17,17)",
            "gridcolor": "#506784",
            "gridwidth": 2,
            "linecolor": "#506784",
            "showbackground": true,
            "ticks": "",
            "zerolinecolor": "#C8D4E3"
           },
           "zaxis": {
            "backgroundcolor": "rgb(17,17,17)",
            "gridcolor": "#506784",
            "gridwidth": 2,
            "linecolor": "#506784",
            "showbackground": true,
            "ticks": "",
            "zerolinecolor": "#C8D4E3"
           }
          },
          "shapedefaults": {
           "line": {
            "color": "#f2f5fa"
           }
          },
          "sliderdefaults": {
           "bgcolor": "#C8D4E3",
           "bordercolor": "rgb(17,17,17)",
           "borderwidth": 1,
           "tickwidth": 0
          },
          "ternary": {
           "aaxis": {
            "gridcolor": "#506784",
            "linecolor": "#506784",
            "ticks": ""
           },
           "baxis": {
            "gridcolor": "#506784",
            "linecolor": "#506784",
            "ticks": ""
           },
           "bgcolor": "rgb(17,17,17)",
           "caxis": {
            "gridcolor": "#506784",
            "linecolor": "#506784",
            "ticks": ""
           }
          },
          "title": {
           "x": 0.05
          },
          "updatemenudefaults": {
           "bgcolor": "#506784",
           "borderwidth": 0
          },
          "xaxis": {
           "automargin": true,
           "gridcolor": "#283442",
           "linecolor": "#506784",
           "ticks": "",
           "title": {
            "standoff": 15
           },
           "zerolinecolor": "#283442",
           "zerolinewidth": 2
          },
          "yaxis": {
           "automargin": true,
           "gridcolor": "#283442",
           "linecolor": "#506784",
           "ticks": "",
           "title": {
            "standoff": 15
           },
           "zerolinecolor": "#283442",
           "zerolinewidth": 2
          }
         }
        },
        "title": {
         "text": "Points Rate Fixed vs Real Cost"
        },
        "xaxis": {
         "anchor": "y",
         "domain": [
          0,
          1
         ],
         "dtick": 0.5,
         "tick0": 0,
         "title": {
          "text": "Real Cost"
         }
        },
        "yaxis": {
         "anchor": "x",
         "domain": [
          0,
          1
         ],
         "title": {
          "text": "Point Rate Fixed"
         }
        }
       }
      },
      "text/html": [
       "<div>\n",
       "        \n",
       "        \n",
       "            <div id=\"0d9e240e-feb6-4b0f-b378-4e72c0de2ab4\" class=\"plotly-graph-div\" style=\"height:525px; width:100%;\"></div>\n",
       "            <script type=\"text/javascript\">\n",
       "                require([\"plotly\"], function(Plotly) {\n",
       "                    window.PLOTLYENV=window.PLOTLYENV || {};\n",
       "                    \n",
       "                if (document.getElementById(\"0d9e240e-feb6-4b0f-b378-4e72c0de2ab4\")) {\n",
       "                    Plotly.newPlot(\n",
       "                        '0d9e240e-feb6-4b0f-b378-4e72c0de2ab4',\n",
       "                        [{\"customdata\": [[8.607021517553793, 104.0, 1.0, 4.228010570026425], [15.789473684210526, 121.0, 0.5, 6.900584795321637], [6.627680311890838, 147.0, 1.5, 3.664717348927875], [6.0606060606060606, 90.0, 1.0, 1.6161616161616161], [8.698412698412698, 121.0, 1.0, 4.253968253968254], [6.842105263157895, 112.0, 1.0, 2.3976608187134505], [6.081871345029239, 146.0, 1.5, 3.1189083820662766], [4.797483287455761, 111.0, 2.0, 2.595359811246559], [4.330836860957343, 131.0, 2.0, 2.1165744057310323], [5.57504873294347, 135.0, 1.5, 2.612085769980507], [6.584362139917696, 144.0, 1.5, 3.6213991769547325], [8.362573099415204, 136.0, 1.0, 3.91812865497076], [7.5675675675675675, 113.0, 1.0, 3.123123123123123], [16.50793650793651, 96.0, 0.5, 7.619047619047619], [7.227138643067847, 85.0, 1.5, 4.277286135693215], [7.841284837033538, 78.0, 1.0, 3.4010392064241852], [5.964912280701754, 145.0, 1.5, 3.0019493177387915]], \"hovertemplate\": \"<b>%{hovertext}</b><br><br>PointRateFixed=%{customdata[3]:.2f}<br>PointRate=%{customdata[0]:.2f}<br>PointsWbp=%{customdata[1]}<extra></extra>\", \"hovertext\": [\"Leno\", \"Ryan\", \"Pope\", \"Arrizabalaga\", \"Guaita\", \"Pickford\", \"Schmeichel\", \"Ramses Becker\", \"Santana de Moraes\", \"de Gea\", \"Henderson\", \"Dubravka\", \"Ramsdale\", \"McCarthy\", \"Lloris\", \"Fabianski\", \"dos Santos Patr\\u00edcio\"], \"legendgroup\": \"\", \"marker\": {\"color\": \"#636efa\", \"symbol\": \"circle\"}, \"mode\": \"markers\", \"name\": \"\", \"orientation\": \"v\", \"showlegend\": false, \"type\": \"scatter\", \"x\": [1.0, 0.5, 1.5, 1.0, 1.0, 1.0, 1.5, 2.0, 2.0, 1.5, 1.5, 1.0, 1.0, 0.5, 1.5, 1.0, 1.5], \"xaxis\": \"x\", \"y\": [4.228010570026425, 6.900584795321637, 3.664717348927875, 1.6161616161616161, 4.253968253968254, 2.3976608187134505, 3.1189083820662766, 2.595359811246559, 2.1165744057310323, 2.612085769980507, 3.6213991769547325, 3.91812865497076, 3.123123123123123, 7.619047619047619, 4.277286135693215, 3.4010392064241852, 3.0019493177387915], \"yaxis\": \"y\"}, {\"hovertemplate\": \"<b>OLS trendline</b><br>PointRateFixed = -2.32037 * realCost + 6.54081<br>R<sup>2</sup>=0.424874<br><br>PointRateFixed=%{y:.2f} <b>(trend)</b><extra></extra>\", \"legendgroup\": \"\", \"marker\": {\"color\": \"#636efa\", \"symbol\": \"circle\"}, \"mode\": \"lines\", \"name\": \"\", \"showlegend\": false, \"type\": \"scatter\", \"x\": [0.5, 0.5, 1.0, 1.0, 1.0, 1.0, 1.0, 1.0, 1.0, 1.5, 1.5, 1.5, 1.5, 1.5, 1.5, 2.0, 2.0], \"xaxis\": \"x\", \"y\": [5.3806229152529905, 5.3806229152529905, 4.2204395331248, 4.2204395331248, 4.2204395331248, 4.2204395331248, 4.2204395331248, 4.2204395331248, 4.2204395331248, 3.060256150996609, 3.060256150996609, 3.060256150996609, 3.060256150996609, 3.060256150996609, 3.060256150996609, 1.9000727688684176, 1.9000727688684176], \"yaxis\": \"y\"}],\n",
       "                        {\"legend\": {\"tracegroupgap\": 0}, \"margin\": {\"t\": 60}, \"template\": {\"data\": {\"bar\": [{\"error_x\": {\"color\": \"#f2f5fa\"}, \"error_y\": {\"color\": \"#f2f5fa\"}, \"marker\": {\"line\": {\"color\": \"rgb(17,17,17)\", \"width\": 0.5}}, \"type\": \"bar\"}], \"barpolar\": [{\"marker\": {\"line\": {\"color\": \"rgb(17,17,17)\", \"width\": 0.5}}, \"type\": \"barpolar\"}], \"carpet\": [{\"aaxis\": {\"endlinecolor\": \"#A2B1C6\", \"gridcolor\": \"#506784\", \"linecolor\": \"#506784\", \"minorgridcolor\": \"#506784\", \"startlinecolor\": \"#A2B1C6\"}, \"baxis\": {\"endlinecolor\": \"#A2B1C6\", \"gridcolor\": \"#506784\", \"linecolor\": \"#506784\", \"minorgridcolor\": \"#506784\", \"startlinecolor\": \"#A2B1C6\"}, \"type\": \"carpet\"}], \"choropleth\": [{\"colorbar\": {\"outlinewidth\": 0, \"ticks\": \"\"}, \"type\": \"choropleth\"}], \"contour\": [{\"colorbar\": {\"outlinewidth\": 0, \"ticks\": \"\"}, \"colorscale\": [[0.0, \"#0d0887\"], [0.1111111111111111, \"#46039f\"], [0.2222222222222222, \"#7201a8\"], [0.3333333333333333, \"#9c179e\"], [0.4444444444444444, \"#bd3786\"], [0.5555555555555556, \"#d8576b\"], [0.6666666666666666, \"#ed7953\"], [0.7777777777777778, \"#fb9f3a\"], [0.8888888888888888, \"#fdca26\"], [1.0, \"#f0f921\"]], \"type\": \"contour\"}], \"contourcarpet\": [{\"colorbar\": {\"outlinewidth\": 0, \"ticks\": \"\"}, \"type\": \"contourcarpet\"}], \"heatmap\": [{\"colorbar\": {\"outlinewidth\": 0, \"ticks\": \"\"}, \"colorscale\": [[0.0, \"#0d0887\"], [0.1111111111111111, \"#46039f\"], [0.2222222222222222, \"#7201a8\"], [0.3333333333333333, \"#9c179e\"], [0.4444444444444444, \"#bd3786\"], [0.5555555555555556, \"#d8576b\"], [0.6666666666666666, \"#ed7953\"], [0.7777777777777778, \"#fb9f3a\"], [0.8888888888888888, \"#fdca26\"], [1.0, \"#f0f921\"]], \"type\": \"heatmap\"}], \"heatmapgl\": [{\"colorbar\": {\"outlinewidth\": 0, \"ticks\": \"\"}, \"colorscale\": [[0.0, \"#0d0887\"], [0.1111111111111111, \"#46039f\"], [0.2222222222222222, \"#7201a8\"], [0.3333333333333333, \"#9c179e\"], [0.4444444444444444, \"#bd3786\"], [0.5555555555555556, \"#d8576b\"], [0.6666666666666666, \"#ed7953\"], [0.7777777777777778, \"#fb9f3a\"], [0.8888888888888888, \"#fdca26\"], [1.0, \"#f0f921\"]], \"type\": \"heatmapgl\"}], \"histogram\": [{\"marker\": {\"colorbar\": {\"outlinewidth\": 0, \"ticks\": \"\"}}, \"type\": \"histogram\"}], \"histogram2d\": [{\"colorbar\": {\"outlinewidth\": 0, \"ticks\": \"\"}, \"colorscale\": [[0.0, \"#0d0887\"], [0.1111111111111111, \"#46039f\"], [0.2222222222222222, \"#7201a8\"], [0.3333333333333333, \"#9c179e\"], [0.4444444444444444, \"#bd3786\"], [0.5555555555555556, \"#d8576b\"], [0.6666666666666666, \"#ed7953\"], [0.7777777777777778, \"#fb9f3a\"], [0.8888888888888888, \"#fdca26\"], [1.0, \"#f0f921\"]], \"type\": \"histogram2d\"}], \"histogram2dcontour\": [{\"colorbar\": {\"outlinewidth\": 0, \"ticks\": \"\"}, \"colorscale\": [[0.0, \"#0d0887\"], [0.1111111111111111, \"#46039f\"], [0.2222222222222222, \"#7201a8\"], [0.3333333333333333, \"#9c179e\"], [0.4444444444444444, \"#bd3786\"], [0.5555555555555556, \"#d8576b\"], [0.6666666666666666, \"#ed7953\"], [0.7777777777777778, \"#fb9f3a\"], [0.8888888888888888, \"#fdca26\"], [1.0, \"#f0f921\"]], \"type\": \"histogram2dcontour\"}], \"mesh3d\": [{\"colorbar\": {\"outlinewidth\": 0, \"ticks\": \"\"}, \"type\": \"mesh3d\"}], \"parcoords\": [{\"line\": {\"colorbar\": {\"outlinewidth\": 0, \"ticks\": \"\"}}, \"type\": \"parcoords\"}], \"pie\": [{\"automargin\": true, \"type\": \"pie\"}], \"scatter\": [{\"marker\": {\"line\": {\"color\": \"#283442\"}}, \"type\": \"scatter\"}], \"scatter3d\": [{\"line\": {\"colorbar\": {\"outlinewidth\": 0, \"ticks\": \"\"}}, \"marker\": {\"colorbar\": {\"outlinewidth\": 0, \"ticks\": \"\"}}, \"type\": \"scatter3d\"}], \"scattercarpet\": [{\"marker\": {\"colorbar\": {\"outlinewidth\": 0, \"ticks\": \"\"}}, \"type\": \"scattercarpet\"}], \"scattergeo\": [{\"marker\": {\"colorbar\": {\"outlinewidth\": 0, \"ticks\": \"\"}}, \"type\": \"scattergeo\"}], \"scattergl\": [{\"marker\": {\"line\": {\"color\": \"#283442\"}}, \"type\": \"scattergl\"}], \"scattermapbox\": [{\"marker\": {\"colorbar\": {\"outlinewidth\": 0, \"ticks\": \"\"}}, \"type\": \"scattermapbox\"}], \"scatterpolar\": [{\"marker\": {\"colorbar\": {\"outlinewidth\": 0, \"ticks\": \"\"}}, \"type\": \"scatterpolar\"}], \"scatterpolargl\": [{\"marker\": {\"colorbar\": {\"outlinewidth\": 0, \"ticks\": \"\"}}, \"type\": \"scatterpolargl\"}], \"scatterternary\": [{\"marker\": {\"colorbar\": {\"outlinewidth\": 0, \"ticks\": \"\"}}, \"type\": \"scatterternary\"}], \"surface\": [{\"colorbar\": {\"outlinewidth\": 0, \"ticks\": \"\"}, \"colorscale\": [[0.0, \"#0d0887\"], [0.1111111111111111, \"#46039f\"], [0.2222222222222222, \"#7201a8\"], [0.3333333333333333, \"#9c179e\"], [0.4444444444444444, \"#bd3786\"], [0.5555555555555556, \"#d8576b\"], [0.6666666666666666, \"#ed7953\"], [0.7777777777777778, \"#fb9f3a\"], [0.8888888888888888, \"#fdca26\"], [1.0, \"#f0f921\"]], \"type\": \"surface\"}], \"table\": [{\"cells\": {\"fill\": {\"color\": \"#506784\"}, \"line\": {\"color\": \"rgb(17,17,17)\"}}, \"header\": {\"fill\": {\"color\": \"#2a3f5f\"}, \"line\": {\"color\": \"rgb(17,17,17)\"}}, \"type\": \"table\"}]}, \"layout\": {\"annotationdefaults\": {\"arrowcolor\": \"#f2f5fa\", \"arrowhead\": 0, \"arrowwidth\": 1}, \"coloraxis\": {\"colorbar\": {\"outlinewidth\": 0, \"ticks\": \"\"}}, \"colorscale\": {\"diverging\": [[0, \"#8e0152\"], [0.1, \"#c51b7d\"], [0.2, \"#de77ae\"], [0.3, \"#f1b6da\"], [0.4, \"#fde0ef\"], [0.5, \"#f7f7f7\"], [0.6, \"#e6f5d0\"], [0.7, \"#b8e186\"], [0.8, \"#7fbc41\"], [0.9, \"#4d9221\"], [1, \"#276419\"]], \"sequential\": [[0.0, \"#0d0887\"], [0.1111111111111111, \"#46039f\"], [0.2222222222222222, \"#7201a8\"], [0.3333333333333333, \"#9c179e\"], [0.4444444444444444, \"#bd3786\"], [0.5555555555555556, \"#d8576b\"], [0.6666666666666666, \"#ed7953\"], [0.7777777777777778, \"#fb9f3a\"], [0.8888888888888888, \"#fdca26\"], [1.0, \"#f0f921\"]], \"sequentialminus\": [[0.0, \"#0d0887\"], [0.1111111111111111, \"#46039f\"], [0.2222222222222222, \"#7201a8\"], [0.3333333333333333, \"#9c179e\"], [0.4444444444444444, \"#bd3786\"], [0.5555555555555556, \"#d8576b\"], [0.6666666666666666, \"#ed7953\"], [0.7777777777777778, \"#fb9f3a\"], [0.8888888888888888, \"#fdca26\"], [1.0, \"#f0f921\"]]}, \"colorway\": [\"#636efa\", \"#EF553B\", \"#00cc96\", \"#ab63fa\", \"#FFA15A\", \"#19d3f3\", \"#FF6692\", \"#B6E880\", \"#FF97FF\", \"#FECB52\"], \"font\": {\"color\": \"#f2f5fa\"}, \"geo\": {\"bgcolor\": \"rgb(17,17,17)\", \"lakecolor\": \"rgb(17,17,17)\", \"landcolor\": \"rgb(17,17,17)\", \"showlakes\": true, \"showland\": true, \"subunitcolor\": \"#506784\"}, \"hoverlabel\": {\"align\": \"left\"}, \"hovermode\": \"closest\", \"mapbox\": {\"style\": \"dark\"}, \"paper_bgcolor\": \"rgb(17,17,17)\", \"plot_bgcolor\": \"rgb(17,17,17)\", \"polar\": {\"angularaxis\": {\"gridcolor\": \"#506784\", \"linecolor\": \"#506784\", \"ticks\": \"\"}, \"bgcolor\": \"rgb(17,17,17)\", \"radialaxis\": {\"gridcolor\": \"#506784\", \"linecolor\": \"#506784\", \"ticks\": \"\"}}, \"scene\": {\"xaxis\": {\"backgroundcolor\": \"rgb(17,17,17)\", \"gridcolor\": \"#506784\", \"gridwidth\": 2, \"linecolor\": \"#506784\", \"showbackground\": true, \"ticks\": \"\", \"zerolinecolor\": \"#C8D4E3\"}, \"yaxis\": {\"backgroundcolor\": \"rgb(17,17,17)\", \"gridcolor\": \"#506784\", \"gridwidth\": 2, \"linecolor\": \"#506784\", \"showbackground\": true, \"ticks\": \"\", \"zerolinecolor\": \"#C8D4E3\"}, \"zaxis\": {\"backgroundcolor\": \"rgb(17,17,17)\", \"gridcolor\": \"#506784\", \"gridwidth\": 2, \"linecolor\": \"#506784\", \"showbackground\": true, \"ticks\": \"\", \"zerolinecolor\": \"#C8D4E3\"}}, \"shapedefaults\": {\"line\": {\"color\": \"#f2f5fa\"}}, \"sliderdefaults\": {\"bgcolor\": \"#C8D4E3\", \"bordercolor\": \"rgb(17,17,17)\", \"borderwidth\": 1, \"tickwidth\": 0}, \"ternary\": {\"aaxis\": {\"gridcolor\": \"#506784\", \"linecolor\": \"#506784\", \"ticks\": \"\"}, \"baxis\": {\"gridcolor\": \"#506784\", \"linecolor\": \"#506784\", \"ticks\": \"\"}, \"bgcolor\": \"rgb(17,17,17)\", \"caxis\": {\"gridcolor\": \"#506784\", \"linecolor\": \"#506784\", \"ticks\": \"\"}}, \"title\": {\"x\": 0.05}, \"updatemenudefaults\": {\"bgcolor\": \"#506784\", \"borderwidth\": 0}, \"xaxis\": {\"automargin\": true, \"gridcolor\": \"#283442\", \"linecolor\": \"#506784\", \"ticks\": \"\", \"title\": {\"standoff\": 15}, \"zerolinecolor\": \"#283442\", \"zerolinewidth\": 2}, \"yaxis\": {\"automargin\": true, \"gridcolor\": \"#283442\", \"linecolor\": \"#506784\", \"ticks\": \"\", \"title\": {\"standoff\": 15}, \"zerolinecolor\": \"#283442\", \"zerolinewidth\": 2}}}, \"title\": {\"text\": \"Points Rate Fixed vs Real Cost\"}, \"xaxis\": {\"anchor\": \"y\", \"domain\": [0.0, 1.0], \"dtick\": 0.5, \"tick0\": 0, \"title\": {\"text\": \"Real Cost\"}}, \"yaxis\": {\"anchor\": \"x\", \"domain\": [0.0, 1.0], \"title\": {\"text\": \"Point Rate Fixed\"}}},\n",
       "                        {\"responsive\": true}\n",
       "                    ).then(function(){\n",
       "                            \n",
       "var gd = document.getElementById('0d9e240e-feb6-4b0f-b378-4e72c0de2ab4');\n",
       "var x = new MutationObserver(function (mutations, observer) {{\n",
       "        var display = window.getComputedStyle(gd).display;\n",
       "        if (!display || display === 'none') {{\n",
       "            console.log([gd, 'removed!']);\n",
       "            Plotly.purge(gd);\n",
       "            observer.disconnect();\n",
       "        }}\n",
       "}});\n",
       "\n",
       "// Listen for the removal of the full notebook cells\n",
       "var notebookContainer = gd.closest('#notebook-container');\n",
       "if (notebookContainer) {{\n",
       "    x.observe(notebookContainer, {childList: true});\n",
       "}}\n",
       "\n",
       "// Listen for the clearing of the current output cell\n",
       "var outputEl = gd.closest('.output');\n",
       "if (outputEl) {{\n",
       "    x.observe(outputEl, {childList: true});\n",
       "}}\n",
       "\n",
       "                        })\n",
       "                };\n",
       "                });\n",
       "            </script>\n",
       "        </div>"
      ]
     },
     "metadata": {},
     "output_type": "display_data"
    }
   ],
   "source": [
    "fig = px.scatter(GK, x=\"realCost\", y=\"PointRateFixed\", \n",
    "                 template='plotly_dark',\n",
    "                 hover_name=\"second_name\", \n",
    "                 trendline=\"ols\",\n",
    "                 hover_data= {'PointRate':':.2f',\n",
    "                              'PointsWbp': True,\n",
    "                              'realCost':False,\n",
    "                              'PointRateFixed':':.2f'\n",
    "                             })\n",
    "fig.update_xaxes(tick0=0, dtick=0.5)\n",
    "fig.update_xaxes(title_text='Real Cost')\n",
    "fig.update_yaxes(title_text='Point Rate Fixed')\n",
    "fig.update_layout(title_text=\"Points Rate Fixed vs Real Cost\")\n",
    "fig.show()"
   ]
  },
  {
   "cell_type": "code",
   "execution_count": 59,
   "metadata": {},
   "outputs": [
    {
     "data": {
      "application/vnd.plotly.v1+json": {
       "config": {
        "plotlyServerURL": "https://plot.ly"
       },
       "data": [
        {
         "customdata": [
          [
           8.607021517553793,
           104,
           1,
           4.228010570026425
          ],
          [
           15.789473684210526,
           121,
           0.5,
           6.900584795321637
          ],
          [
           6.627680311890838,
           147,
           1.5,
           3.664717348927875
          ],
          [
           6.0606060606060606,
           90,
           1,
           1.6161616161616161
          ],
          [
           8.698412698412698,
           121,
           1,
           4.253968253968254
          ],
          [
           6.842105263157895,
           112,
           1,
           2.3976608187134505
          ],
          [
           6.081871345029239,
           146,
           1.5,
           3.1189083820662766
          ],
          [
           4.797483287455761,
           111,
           2,
           2.595359811246559
          ],
          [
           4.330836860957343,
           131,
           2,
           2.1165744057310323
          ],
          [
           5.57504873294347,
           135,
           1.5,
           2.612085769980507
          ],
          [
           6.584362139917696,
           144,
           1.5,
           3.6213991769547325
          ],
          [
           8.362573099415204,
           136,
           1,
           3.91812865497076
          ],
          [
           7.5675675675675675,
           113,
           1,
           3.123123123123123
          ],
          [
           16.50793650793651,
           96,
           0.5,
           7.619047619047619
          ],
          [
           7.227138643067847,
           85,
           1.5,
           4.277286135693215
          ],
          [
           7.841284837033538,
           78,
           1,
           3.4010392064241852
          ],
          [
           5.964912280701754,
           145,
           1.5,
           3.0019493177387915
          ]
         ],
         "hovertemplate": "<b>%{hovertext}</b><br><br>PointRateFixed=%{customdata[3]:.2f}<br>PointRate=%{customdata[0]:.2f}<br>PointsWbp=%{customdata[1]}<extra></extra>",
         "hovertext": [
          "Leno",
          "Ryan",
          "Pope",
          "Arrizabalaga",
          "Guaita",
          "Pickford",
          "Schmeichel",
          "Ramses Becker",
          "Santana de Moraes",
          "de Gea",
          "Henderson",
          "Dubravka",
          "Ramsdale",
          "McCarthy",
          "Lloris",
          "Fabianski",
          "dos Santos Patrício"
         ],
         "legendgroup": "",
         "marker": {
          "color": "#636efa",
          "symbol": "circle"
         },
         "mode": "markers",
         "name": "",
         "orientation": "v",
         "showlegend": false,
         "type": "scatter",
         "x": [
          1,
          0.5,
          1.5,
          1,
          1,
          1,
          1.5,
          2,
          2,
          1.5,
          1.5,
          1,
          1,
          0.5,
          1.5,
          1,
          1.5
         ],
         "xaxis": "x",
         "y": [
          4.228010570026425,
          6.900584795321637,
          3.664717348927875,
          1.6161616161616161,
          4.253968253968254,
          2.3976608187134505,
          3.1189083820662766,
          2.595359811246559,
          2.1165744057310323,
          2.612085769980507,
          3.6213991769547325,
          3.91812865497076,
          3.123123123123123,
          7.619047619047619,
          4.277286135693215,
          3.4010392064241852,
          3.0019493177387915
         ],
         "yaxis": "y"
        },
        {
         "customdata": [
          [
           4.461848819271389,
           84,
           1.5,
           1.518927257624303
          ],
          [
           7.855763039278815,
           58,
           1,
           3.477141017385705
          ],
          [
           6.202618883528601,
           81,
           1,
           1.791867677463818
          ],
          [
           13.967699694456568,
           70,
           0.5,
           5.237887385421214
          ],
          [
           12.757605495583906,
           61,
           0.5,
           3.9254170755642788
          ],
          [
           12.168792934249264,
           58,
           0.5,
           3.336604514229637
          ],
          [
           11.94859326154915,
           83,
           0.5,
           3.195554011809656
          ],
          [
           7.925696594427245,
           111,
           1,
           3.5294117647058822
          ],
          [
           13.10782241014799,
           59,
           0.5,
           4.2283298097251585
          ],
          [
           13.193403298350825,
           81,
           0.5,
           4.3478260869565215
          ],
          [
           5.57504873294347,
           129,
           1.5,
           2.612085769980507
          ],
          [
           16.50793650793651,
           72,
           0.5,
           7.619047619047619
          ],
          [
           16.417910447761194,
           67,
           0.5,
           7.67590618336887
          ],
          [
           7.638888888888889,
           104,
           1,
           3.1944444444444446
          ],
          [
           17.28395061728395,
           79,
           0.5,
           8.436213991769547
          ],
          [
           4.026014245896563,
           114,
           2,
           1.8271910808299783
          ],
          [
           6.997900629811057,
           89,
           2,
           4.828551434569629
          ],
          [
           7.368421052631579,
           58,
           1,
           2.9239766081871346
          ],
          [
           5.292360221937686,
           60,
           1,
           0.8536064874093043
          ],
          [
           8.079470198675496,
           56,
           1,
           3.7086092715231787
          ],
          [
           6.402695871946083,
           106,
           1.5,
           3.4821679303566415
          ],
          [
           12.921089063221043,
           66,
           0.5,
           4.060913705583756
          ],
          [
           12.941176470588236,
           69,
           0.5,
           4.201680672268908
          ],
          [
           16.548157724628314,
           60,
           0.5,
           7.756948933419522
          ],
          [
           5.797101449275362,
           97,
           1.5,
           2.8719585161547667
          ],
          [
           3.9590894094358298,
           104,
           2,
           1.7485978225008247
          ],
          [
           7.042253521126761,
           81,
           1,
           2.6604068857589986
          ],
          [
           4.5594037702761945,
           70,
           1.5,
           1.6367090457401725
          ],
          [
           6.920077972709552,
           65,
           1,
           2.53411306042885
          ],
          [
           5.04334121355398,
           116,
           1.5,
           2.0882584712371948
          ],
          [
           4.880952380952381,
           112,
           2,
           2.6587301587301586
          ],
          [
           5.270092226613966,
           108,
           1.5,
           2.3276240667545016
          ],
          [
           4.16374269005848,
           164,
           2.5,
           2.3859649122807016
          ],
          [
           3.878709953926926,
           161,
           3,
           2.4000857173470482
          ],
          [
           3.7819098644815634,
           186,
           3.5,
           2.521273242987709
          ],
          [
           6.203101550775387,
           86,
           1.5,
           3.2683008170752044
          ],
          [
           9.590643274853802,
           76,
           1,
           5.146198830409356
          ],
          [
           4.765886287625418,
           107,
           2,
           2.5501672240802677
          ],
          [
           4.963112005365526,
           71,
           2,
           2.749832327297116
          ],
          [
           4.20828339326142,
           73,
           1.5,
           1.278465840990811
          ],
          [
           5.748175182481752,
           63,
           2,
           3.5583941605839415
          ],
          [
           4.795321637426901,
           118,
           1.5,
           1.8323586744639375
          ],
          [
           7.745664739884393,
           65,
           1,
           3.352601156069364
          ],
          [
           7.503234152652005,
           107,
           1,
           3.1047865459249677
          ],
          [
           5.515743756786102,
           111,
           1.5,
           2.56243213897937
          ],
          [
           7.795185326709973,
           89,
           1,
           3.3626289644631258
          ],
          [
           14.065510597302504,
           70,
           0.5,
           5.202312138728324
          ],
          [
           16.28052598622417,
           61,
           0.5,
           7.514088916718848
          ],
          [
           7.5879086983343615,
           117,
           1,
           3.1462060456508327
          ],
          [
           5.660189337319382,
           134,
           1.5,
           2.7105132037867463
          ],
          [
           5.5360623781676415,
           135,
           1.5,
           2.573099415204678
          ],
          [
           8.346407279573267,
           124,
           1,
           3.9535613429557577
          ],
          [
           7.615780445969126,
           105,
           1,
           3.224699828473413
          ],
          [
           5.470459518599562,
           75,
           1,
           1.0940919037199124
          ],
          [
           6.935944512443901,
           77,
           1,
           2.5295797633618933
          ],
          [
           10.991167811579981,
           79,
           0.5,
           2.2244030094864247
          ],
          [
           4.373802277082628,
           91,
           1.5,
           1.4429038439860218
          ],
          [
           6.125725577374336,
           109,
           1.5,
           3.2110658268494503
          ],
          [
           3.5102152749211575,
           60,
           1.5,
           0.5484711367064308
          ],
          [
           5.8885754583921015,
           152,
           2,
           3.6671368124118477
          ],
          [
           5.8147882268485285,
           81,
           1,
           1.4357501794687724
          ],
          [
           5.793912724605794,
           74,
           1,
           1.3934726806013935
          ],
          [
           13.243847874720357,
           67,
           0.5,
           4.47427293064877
          ],
          [
           10.994575045207956,
           73,
           0.5,
           2.1699819168173597
          ],
          [
           6.531986531986532,
           87,
           1.5,
           3.569023569023569
          ],
          [
           6.900584795321637,
           111,
           1,
           2.456140350877193
          ],
          [
           7.621161672216056,
           95,
           1,
           3.1816500184979652
          ],
          [
           5.684575389948007,
           117,
           1.5,
           2.726747544771808
          ]
         ],
         "hovertemplate": "<b>%{hovertext}</b><br><br>PointRateFixed=%{customdata[3]:.2f}<br>PointRate=%{customdata[0]:.2f}<br>PointsWbp=%{customdata[1]}<extra></extra>",
         "hovertext": [
          "Luiz Moreira Marinho",
          "Soares",
          "Mings",
          "Targett",
          "Konsa Ngoyo",
          "Guilbert",
          "Burn",
          "Dunk",
          "Montoya",
          "Webster",
          "Tarkowski",
          "Bardsley",
          "Pieters",
          "Mee",
          "Taylor",
          "Azpilicueta",
          "Alonso",
          "Rüdiger",
          "Zouma",
          "James",
          "Chilwell",
          "Cahill",
          "Ward",
          "Kelly",
          "van Aanholt",
          "Digne",
          "Keane",
          "Mina",
          "Holgate",
          "Evans",
          "Barbosa Pereira",
          "Söyüncü",
          "van Dijk",
          "Robertson",
          "Alexander-Arnold",
          "Gomez",
          "Otamendi",
          "Walker",
          "Mendy",
          "Aké",
          "Laporte",
          "Maguire",
          "Shaw",
          "Lindelöf",
          "Wan-Bissaka",
          "Fernández",
          "Lascelles",
          "Manquillo",
          "Basham",
          "Stevens",
          "Baldock",
          "Egan",
          "O'Connell",
          "Bertrand",
          "Stephens",
          "Bednarek",
          "Alderweireld",
          "Aurier",
          "Sánchez",
          "Doherty",
          "Ogbonna",
          "Cresswell",
          "Fredericks",
          "Diop",
          "Boly",
          "Coady",
          "Saïss",
          "Castro Otto"
         ],
         "legendgroup": "",
         "marker": {
          "color": "#636efa",
          "symbol": "circle"
         },
         "mode": "markers",
         "name": "",
         "orientation": "v",
         "showlegend": false,
         "type": "scatter",
         "x": [
          1.5,
          1,
          1,
          0.5,
          0.5,
          0.5,
          0.5,
          1,
          0.5,
          0.5,
          1.5,
          0.5,
          0.5,
          1,
          0.5,
          2,
          2,
          1,
          1,
          1,
          1.5,
          0.5,
          0.5,
          0.5,
          1.5,
          2,
          1,
          1.5,
          1,
          1.5,
          2,
          1.5,
          2.5,
          3,
          3.5,
          1.5,
          1,
          2,
          2,
          1.5,
          2,
          1.5,
          1,
          1,
          1.5,
          1,
          0.5,
          0.5,
          1,
          1.5,
          1.5,
          1,
          1,
          1,
          1,
          0.5,
          1.5,
          1.5,
          1.5,
          2,
          1,
          1,
          0.5,
          0.5,
          1.5,
          1,
          1,
          1.5
         ],
         "xaxis": "x2",
         "y": [
          1.518927257624303,
          3.477141017385705,
          1.791867677463818,
          5.237887385421214,
          3.9254170755642788,
          3.336604514229637,
          3.195554011809656,
          3.5294117647058822,
          4.2283298097251585,
          4.3478260869565215,
          2.612085769980507,
          7.619047619047619,
          7.67590618336887,
          3.1944444444444446,
          8.436213991769547,
          1.8271910808299783,
          4.828551434569629,
          2.9239766081871346,
          0.8536064874093043,
          3.7086092715231787,
          3.4821679303566415,
          4.060913705583756,
          4.201680672268908,
          7.756948933419522,
          2.8719585161547667,
          1.7485978225008247,
          2.6604068857589986,
          1.6367090457401725,
          2.53411306042885,
          2.0882584712371948,
          2.6587301587301586,
          2.3276240667545016,
          2.3859649122807016,
          2.4000857173470482,
          2.521273242987709,
          3.2683008170752044,
          5.146198830409356,
          2.5501672240802677,
          2.749832327297116,
          1.278465840990811,
          3.5583941605839415,
          1.8323586744639375,
          3.352601156069364,
          3.1047865459249677,
          2.56243213897937,
          3.3626289644631258,
          5.202312138728324,
          7.514088916718848,
          3.1462060456508327,
          2.7105132037867463,
          2.573099415204678,
          3.9535613429557577,
          3.224699828473413,
          1.0940919037199124,
          2.5295797633618933,
          2.2244030094864247,
          1.4429038439860218,
          3.2110658268494503,
          0.5484711367064308,
          3.6671368124118477,
          1.4357501794687724,
          1.3934726806013935,
          4.47427293064877,
          2.1699819168173597,
          3.569023569023569,
          2.456140350877193,
          3.1816500184979652,
          2.726747544771808
         ],
         "yaxis": "y2"
        }
       ],
       "layout": {
        "template": {
         "data": {
          "bar": [
           {
            "error_x": {
             "color": "#2a3f5f"
            },
            "error_y": {
             "color": "#2a3f5f"
            },
            "marker": {
             "line": {
              "color": "#E5ECF6",
              "width": 0.5
             }
            },
            "type": "bar"
           }
          ],
          "barpolar": [
           {
            "marker": {
             "line": {
              "color": "#E5ECF6",
              "width": 0.5
             }
            },
            "type": "barpolar"
           }
          ],
          "carpet": [
           {
            "aaxis": {
             "endlinecolor": "#2a3f5f",
             "gridcolor": "white",
             "linecolor": "white",
             "minorgridcolor": "white",
             "startlinecolor": "#2a3f5f"
            },
            "baxis": {
             "endlinecolor": "#2a3f5f",
             "gridcolor": "white",
             "linecolor": "white",
             "minorgridcolor": "white",
             "startlinecolor": "#2a3f5f"
            },
            "type": "carpet"
           }
          ],
          "choropleth": [
           {
            "colorbar": {
             "outlinewidth": 0,
             "ticks": ""
            },
            "type": "choropleth"
           }
          ],
          "contour": [
           {
            "colorbar": {
             "outlinewidth": 0,
             "ticks": ""
            },
            "colorscale": [
             [
              0,
              "#0d0887"
             ],
             [
              0.1111111111111111,
              "#46039f"
             ],
             [
              0.2222222222222222,
              "#7201a8"
             ],
             [
              0.3333333333333333,
              "#9c179e"
             ],
             [
              0.4444444444444444,
              "#bd3786"
             ],
             [
              0.5555555555555556,
              "#d8576b"
             ],
             [
              0.6666666666666666,
              "#ed7953"
             ],
             [
              0.7777777777777778,
              "#fb9f3a"
             ],
             [
              0.8888888888888888,
              "#fdca26"
             ],
             [
              1,
              "#f0f921"
             ]
            ],
            "type": "contour"
           }
          ],
          "contourcarpet": [
           {
            "colorbar": {
             "outlinewidth": 0,
             "ticks": ""
            },
            "type": "contourcarpet"
           }
          ],
          "heatmap": [
           {
            "colorbar": {
             "outlinewidth": 0,
             "ticks": ""
            },
            "colorscale": [
             [
              0,
              "#0d0887"
             ],
             [
              0.1111111111111111,
              "#46039f"
             ],
             [
              0.2222222222222222,
              "#7201a8"
             ],
             [
              0.3333333333333333,
              "#9c179e"
             ],
             [
              0.4444444444444444,
              "#bd3786"
             ],
             [
              0.5555555555555556,
              "#d8576b"
             ],
             [
              0.6666666666666666,
              "#ed7953"
             ],
             [
              0.7777777777777778,
              "#fb9f3a"
             ],
             [
              0.8888888888888888,
              "#fdca26"
             ],
             [
              1,
              "#f0f921"
             ]
            ],
            "type": "heatmap"
           }
          ],
          "heatmapgl": [
           {
            "colorbar": {
             "outlinewidth": 0,
             "ticks": ""
            },
            "colorscale": [
             [
              0,
              "#0d0887"
             ],
             [
              0.1111111111111111,
              "#46039f"
             ],
             [
              0.2222222222222222,
              "#7201a8"
             ],
             [
              0.3333333333333333,
              "#9c179e"
             ],
             [
              0.4444444444444444,
              "#bd3786"
             ],
             [
              0.5555555555555556,
              "#d8576b"
             ],
             [
              0.6666666666666666,
              "#ed7953"
             ],
             [
              0.7777777777777778,
              "#fb9f3a"
             ],
             [
              0.8888888888888888,
              "#fdca26"
             ],
             [
              1,
              "#f0f921"
             ]
            ],
            "type": "heatmapgl"
           }
          ],
          "histogram": [
           {
            "marker": {
             "colorbar": {
              "outlinewidth": 0,
              "ticks": ""
             }
            },
            "type": "histogram"
           }
          ],
          "histogram2d": [
           {
            "colorbar": {
             "outlinewidth": 0,
             "ticks": ""
            },
            "colorscale": [
             [
              0,
              "#0d0887"
             ],
             [
              0.1111111111111111,
              "#46039f"
             ],
             [
              0.2222222222222222,
              "#7201a8"
             ],
             [
              0.3333333333333333,
              "#9c179e"
             ],
             [
              0.4444444444444444,
              "#bd3786"
             ],
             [
              0.5555555555555556,
              "#d8576b"
             ],
             [
              0.6666666666666666,
              "#ed7953"
             ],
             [
              0.7777777777777778,
              "#fb9f3a"
             ],
             [
              0.8888888888888888,
              "#fdca26"
             ],
             [
              1,
              "#f0f921"
             ]
            ],
            "type": "histogram2d"
           }
          ],
          "histogram2dcontour": [
           {
            "colorbar": {
             "outlinewidth": 0,
             "ticks": ""
            },
            "colorscale": [
             [
              0,
              "#0d0887"
             ],
             [
              0.1111111111111111,
              "#46039f"
             ],
             [
              0.2222222222222222,
              "#7201a8"
             ],
             [
              0.3333333333333333,
              "#9c179e"
             ],
             [
              0.4444444444444444,
              "#bd3786"
             ],
             [
              0.5555555555555556,
              "#d8576b"
             ],
             [
              0.6666666666666666,
              "#ed7953"
             ],
             [
              0.7777777777777778,
              "#fb9f3a"
             ],
             [
              0.8888888888888888,
              "#fdca26"
             ],
             [
              1,
              "#f0f921"
             ]
            ],
            "type": "histogram2dcontour"
           }
          ],
          "mesh3d": [
           {
            "colorbar": {
             "outlinewidth": 0,
             "ticks": ""
            },
            "type": "mesh3d"
           }
          ],
          "parcoords": [
           {
            "line": {
             "colorbar": {
              "outlinewidth": 0,
              "ticks": ""
             }
            },
            "type": "parcoords"
           }
          ],
          "pie": [
           {
            "automargin": true,
            "type": "pie"
           }
          ],
          "scatter": [
           {
            "marker": {
             "colorbar": {
              "outlinewidth": 0,
              "ticks": ""
             }
            },
            "type": "scatter"
           }
          ],
          "scatter3d": [
           {
            "line": {
             "colorbar": {
              "outlinewidth": 0,
              "ticks": ""
             }
            },
            "marker": {
             "colorbar": {
              "outlinewidth": 0,
              "ticks": ""
             }
            },
            "type": "scatter3d"
           }
          ],
          "scattercarpet": [
           {
            "marker": {
             "colorbar": {
              "outlinewidth": 0,
              "ticks": ""
             }
            },
            "type": "scattercarpet"
           }
          ],
          "scattergeo": [
           {
            "marker": {
             "colorbar": {
              "outlinewidth": 0,
              "ticks": ""
             }
            },
            "type": "scattergeo"
           }
          ],
          "scattergl": [
           {
            "marker": {
             "colorbar": {
              "outlinewidth": 0,
              "ticks": ""
             }
            },
            "type": "scattergl"
           }
          ],
          "scattermapbox": [
           {
            "marker": {
             "colorbar": {
              "outlinewidth": 0,
              "ticks": ""
             }
            },
            "type": "scattermapbox"
           }
          ],
          "scatterpolar": [
           {
            "marker": {
             "colorbar": {
              "outlinewidth": 0,
              "ticks": ""
             }
            },
            "type": "scatterpolar"
           }
          ],
          "scatterpolargl": [
           {
            "marker": {
             "colorbar": {
              "outlinewidth": 0,
              "ticks": ""
             }
            },
            "type": "scatterpolargl"
           }
          ],
          "scatterternary": [
           {
            "marker": {
             "colorbar": {
              "outlinewidth": 0,
              "ticks": ""
             }
            },
            "type": "scatterternary"
           }
          ],
          "surface": [
           {
            "colorbar": {
             "outlinewidth": 0,
             "ticks": ""
            },
            "colorscale": [
             [
              0,
              "#0d0887"
             ],
             [
              0.1111111111111111,
              "#46039f"
             ],
             [
              0.2222222222222222,
              "#7201a8"
             ],
             [
              0.3333333333333333,
              "#9c179e"
             ],
             [
              0.4444444444444444,
              "#bd3786"
             ],
             [
              0.5555555555555556,
              "#d8576b"
             ],
             [
              0.6666666666666666,
              "#ed7953"
             ],
             [
              0.7777777777777778,
              "#fb9f3a"
             ],
             [
              0.8888888888888888,
              "#fdca26"
             ],
             [
              1,
              "#f0f921"
             ]
            ],
            "type": "surface"
           }
          ],
          "table": [
           {
            "cells": {
             "fill": {
              "color": "#EBF0F8"
             },
             "line": {
              "color": "white"
             }
            },
            "header": {
             "fill": {
              "color": "#C8D4E3"
             },
             "line": {
              "color": "white"
             }
            },
            "type": "table"
           }
          ]
         },
         "layout": {
          "annotationdefaults": {
           "arrowcolor": "#2a3f5f",
           "arrowhead": 0,
           "arrowwidth": 1
          },
          "coloraxis": {
           "colorbar": {
            "outlinewidth": 0,
            "ticks": ""
           }
          },
          "colorscale": {
           "diverging": [
            [
             0,
             "#8e0152"
            ],
            [
             0.1,
             "#c51b7d"
            ],
            [
             0.2,
             "#de77ae"
            ],
            [
             0.3,
             "#f1b6da"
            ],
            [
             0.4,
             "#fde0ef"
            ],
            [
             0.5,
             "#f7f7f7"
            ],
            [
             0.6,
             "#e6f5d0"
            ],
            [
             0.7,
             "#b8e186"
            ],
            [
             0.8,
             "#7fbc41"
            ],
            [
             0.9,
             "#4d9221"
            ],
            [
             1,
             "#276419"
            ]
           ],
           "sequential": [
            [
             0,
             "#0d0887"
            ],
            [
             0.1111111111111111,
             "#46039f"
            ],
            [
             0.2222222222222222,
             "#7201a8"
            ],
            [
             0.3333333333333333,
             "#9c179e"
            ],
            [
             0.4444444444444444,
             "#bd3786"
            ],
            [
             0.5555555555555556,
             "#d8576b"
            ],
            [
             0.6666666666666666,
             "#ed7953"
            ],
            [
             0.7777777777777778,
             "#fb9f3a"
            ],
            [
             0.8888888888888888,
             "#fdca26"
            ],
            [
             1,
             "#f0f921"
            ]
           ],
           "sequentialminus": [
            [
             0,
             "#0d0887"
            ],
            [
             0.1111111111111111,
             "#46039f"
            ],
            [
             0.2222222222222222,
             "#7201a8"
            ],
            [
             0.3333333333333333,
             "#9c179e"
            ],
            [
             0.4444444444444444,
             "#bd3786"
            ],
            [
             0.5555555555555556,
             "#d8576b"
            ],
            [
             0.6666666666666666,
             "#ed7953"
            ],
            [
             0.7777777777777778,
             "#fb9f3a"
            ],
            [
             0.8888888888888888,
             "#fdca26"
            ],
            [
             1,
             "#f0f921"
            ]
           ]
          },
          "colorway": [
           "#636efa",
           "#EF553B",
           "#00cc96",
           "#ab63fa",
           "#FFA15A",
           "#19d3f3",
           "#FF6692",
           "#B6E880",
           "#FF97FF",
           "#FECB52"
          ],
          "font": {
           "color": "#2a3f5f"
          },
          "geo": {
           "bgcolor": "white",
           "lakecolor": "white",
           "landcolor": "#E5ECF6",
           "showlakes": true,
           "showland": true,
           "subunitcolor": "white"
          },
          "hoverlabel": {
           "align": "left"
          },
          "hovermode": "closest",
          "mapbox": {
           "style": "light"
          },
          "paper_bgcolor": "white",
          "plot_bgcolor": "#E5ECF6",
          "polar": {
           "angularaxis": {
            "gridcolor": "white",
            "linecolor": "white",
            "ticks": ""
           },
           "bgcolor": "#E5ECF6",
           "radialaxis": {
            "gridcolor": "white",
            "linecolor": "white",
            "ticks": ""
           }
          },
          "scene": {
           "xaxis": {
            "backgroundcolor": "#E5ECF6",
            "gridcolor": "white",
            "gridwidth": 2,
            "linecolor": "white",
            "showbackground": true,
            "ticks": "",
            "zerolinecolor": "white"
           },
           "yaxis": {
            "backgroundcolor": "#E5ECF6",
            "gridcolor": "white",
            "gridwidth": 2,
            "linecolor": "white",
            "showbackground": true,
            "ticks": "",
            "zerolinecolor": "white"
           },
           "zaxis": {
            "backgroundcolor": "#E5ECF6",
            "gridcolor": "white",
            "gridwidth": 2,
            "linecolor": "white",
            "showbackground": true,
            "ticks": "",
            "zerolinecolor": "white"
           }
          },
          "shapedefaults": {
           "line": {
            "color": "#2a3f5f"
           }
          },
          "ternary": {
           "aaxis": {
            "gridcolor": "white",
            "linecolor": "white",
            "ticks": ""
           },
           "baxis": {
            "gridcolor": "white",
            "linecolor": "white",
            "ticks": ""
           },
           "bgcolor": "#E5ECF6",
           "caxis": {
            "gridcolor": "white",
            "linecolor": "white",
            "ticks": ""
           }
          },
          "title": {
           "x": 0.05
          },
          "xaxis": {
           "automargin": true,
           "gridcolor": "white",
           "linecolor": "white",
           "ticks": "",
           "title": {
            "standoff": 15
           },
           "zerolinecolor": "white",
           "zerolinewidth": 2
          },
          "yaxis": {
           "automargin": true,
           "gridcolor": "white",
           "linecolor": "white",
           "ticks": "",
           "title": {
            "standoff": 15
           },
           "zerolinecolor": "white",
           "zerolinewidth": 2
          }
         }
        },
        "xaxis": {
         "anchor": "y",
         "domain": [
          0,
          1
         ]
        },
        "xaxis2": {
         "anchor": "y2",
         "domain": [
          0,
          1
         ]
        },
        "yaxis": {
         "anchor": "x",
         "domain": [
          0.575,
          1
         ]
        },
        "yaxis2": {
         "anchor": "x2",
         "domain": [
          0,
          0.425
         ]
        }
       }
      },
      "text/html": [
       "<div>\n",
       "        \n",
       "        \n",
       "            <div id=\"fcbcb492-4597-446b-bcdd-d6b01675c567\" class=\"plotly-graph-div\" style=\"height:525px; width:100%;\"></div>\n",
       "            <script type=\"text/javascript\">\n",
       "                require([\"plotly\"], function(Plotly) {\n",
       "                    window.PLOTLYENV=window.PLOTLYENV || {};\n",
       "                    \n",
       "                if (document.getElementById(\"fcbcb492-4597-446b-bcdd-d6b01675c567\")) {\n",
       "                    Plotly.newPlot(\n",
       "                        'fcbcb492-4597-446b-bcdd-d6b01675c567',\n",
       "                        [{\"customdata\": [[8.607021517553793, 104.0, 1.0, 4.228010570026425], [15.789473684210526, 121.0, 0.5, 6.900584795321637], [6.627680311890838, 147.0, 1.5, 3.664717348927875], [6.0606060606060606, 90.0, 1.0, 1.6161616161616161], [8.698412698412698, 121.0, 1.0, 4.253968253968254], [6.842105263157895, 112.0, 1.0, 2.3976608187134505], [6.081871345029239, 146.0, 1.5, 3.1189083820662766], [4.797483287455761, 111.0, 2.0, 2.595359811246559], [4.330836860957343, 131.0, 2.0, 2.1165744057310323], [5.57504873294347, 135.0, 1.5, 2.612085769980507], [6.584362139917696, 144.0, 1.5, 3.6213991769547325], [8.362573099415204, 136.0, 1.0, 3.91812865497076], [7.5675675675675675, 113.0, 1.0, 3.123123123123123], [16.50793650793651, 96.0, 0.5, 7.619047619047619], [7.227138643067847, 85.0, 1.5, 4.277286135693215], [7.841284837033538, 78.0, 1.0, 3.4010392064241852], [5.964912280701754, 145.0, 1.5, 3.0019493177387915]], \"hovertemplate\": \"<b>%{hovertext}</b><br><br>PointRateFixed=%{customdata[3]:.2f}<br>PointRate=%{customdata[0]:.2f}<br>PointsWbp=%{customdata[1]}<extra></extra>\", \"hovertext\": [\"Leno\", \"Ryan\", \"Pope\", \"Arrizabalaga\", \"Guaita\", \"Pickford\", \"Schmeichel\", \"Ramses Becker\", \"Santana de Moraes\", \"de Gea\", \"Henderson\", \"Dubravka\", \"Ramsdale\", \"McCarthy\", \"Lloris\", \"Fabianski\", \"dos Santos Patr\\u00edcio\"], \"legendgroup\": \"\", \"marker\": {\"color\": \"#636efa\", \"symbol\": \"circle\"}, \"mode\": \"markers\", \"name\": \"\", \"orientation\": \"v\", \"showlegend\": false, \"type\": \"scatter\", \"x\": [1.0, 0.5, 1.5, 1.0, 1.0, 1.0, 1.5, 2.0, 2.0, 1.5, 1.5, 1.0, 1.0, 0.5, 1.5, 1.0, 1.5], \"xaxis\": \"x\", \"y\": [4.228010570026425, 6.900584795321637, 3.664717348927875, 1.6161616161616161, 4.253968253968254, 2.3976608187134505, 3.1189083820662766, 2.595359811246559, 2.1165744057310323, 2.612085769980507, 3.6213991769547325, 3.91812865497076, 3.123123123123123, 7.619047619047619, 4.277286135693215, 3.4010392064241852, 3.0019493177387915], \"yaxis\": \"y\"}, {\"customdata\": [[4.461848819271389, 84.0, 1.5, 1.518927257624303], [7.855763039278815, 58.0, 1.0, 3.477141017385705], [6.202618883528601, 81.0, 1.0, 1.791867677463818], [13.967699694456568, 70.0, 0.5, 5.237887385421214], [12.757605495583906, 61.0, 0.5, 3.9254170755642788], [12.168792934249264, 58.0, 0.5, 3.336604514229637], [11.94859326154915, 83.0, 0.5, 3.195554011809656], [7.925696594427245, 111.0, 1.0, 3.5294117647058822], [13.10782241014799, 59.0, 0.5, 4.2283298097251585], [13.193403298350825, 81.0, 0.5, 4.3478260869565215], [5.57504873294347, 129.0, 1.5, 2.612085769980507], [16.50793650793651, 72.0, 0.5, 7.619047619047619], [16.417910447761194, 67.0, 0.5, 7.67590618336887], [7.638888888888889, 104.0, 1.0, 3.1944444444444446], [17.28395061728395, 79.0, 0.5, 8.436213991769547], [4.026014245896563, 114.0, 2.0, 1.8271910808299783], [6.997900629811057, 89.0, 2.0, 4.828551434569629], [7.368421052631579, 58.0, 1.0, 2.9239766081871346], [5.292360221937686, 60.0, 1.0, 0.8536064874093043], [8.079470198675496, 56.0, 1.0, 3.7086092715231787], [6.402695871946083, 106.0, 1.5, 3.4821679303566415], [12.921089063221043, 66.0, 0.5, 4.060913705583756], [12.941176470588236, 69.0, 0.5, 4.201680672268908], [16.548157724628314, 60.0, 0.5, 7.756948933419522], [5.797101449275362, 97.0, 1.5, 2.8719585161547667], [3.9590894094358298, 104.0, 2.0, 1.7485978225008247], [7.042253521126761, 81.0, 1.0, 2.6604068857589986], [4.5594037702761945, 70.0, 1.5, 1.6367090457401725], [6.920077972709552, 65.0, 1.0, 2.53411306042885], [5.04334121355398, 116.0, 1.5, 2.0882584712371948], [4.880952380952381, 112.0, 2.0, 2.6587301587301586], [5.270092226613966, 108.0, 1.5, 2.3276240667545016], [4.16374269005848, 164.0, 2.5, 2.3859649122807016], [3.878709953926926, 161.0, 3.0, 2.4000857173470482], [3.7819098644815634, 186.0, 3.5, 2.521273242987709], [6.203101550775387, 86.0, 1.5, 3.2683008170752044], [9.590643274853802, 76.0, 1.0, 5.146198830409356], [4.765886287625418, 107.0, 2.0, 2.5501672240802677], [4.963112005365526, 71.0, 2.0, 2.749832327297116], [4.20828339326142, 73.0, 1.5, 1.278465840990811], [5.748175182481752, 63.0, 2.0, 3.5583941605839415], [4.795321637426901, 118.0, 1.5, 1.8323586744639375], [7.745664739884393, 65.0, 1.0, 3.352601156069364], [7.503234152652005, 107.0, 1.0, 3.1047865459249677], [5.515743756786102, 111.0, 1.5, 2.56243213897937], [7.795185326709973, 89.0, 1.0, 3.3626289644631258], [14.065510597302504, 70.0, 0.5, 5.202312138728324], [16.28052598622417, 61.0, 0.5, 7.514088916718848], [7.5879086983343615, 117.0, 1.0, 3.1462060456508327], [5.660189337319382, 134.0, 1.5, 2.7105132037867463], [5.5360623781676415, 135.0, 1.5, 2.573099415204678], [8.346407279573267, 124.0, 1.0, 3.9535613429557577], [7.615780445969126, 105.0, 1.0, 3.224699828473413], [5.470459518599562, 75.0, 1.0, 1.0940919037199124], [6.935944512443901, 77.0, 1.0, 2.5295797633618933], [10.991167811579981, 79.0, 0.5, 2.2244030094864247], [4.373802277082628, 91.0, 1.5, 1.4429038439860218], [6.125725577374336, 109.0, 1.5, 3.2110658268494503], [3.5102152749211575, 60.0, 1.5, 0.5484711367064308], [5.8885754583921015, 152.0, 2.0, 3.6671368124118477], [5.8147882268485285, 81.0, 1.0, 1.4357501794687724], [5.793912724605794, 74.0, 1.0, 1.3934726806013935], [13.243847874720357, 67.0, 0.5, 4.47427293064877], [10.994575045207956, 73.0, 0.5, 2.1699819168173597], [6.531986531986532, 87.0, 1.5, 3.569023569023569], [6.900584795321637, 111.0, 1.0, 2.456140350877193], [7.621161672216056, 95.0, 1.0, 3.1816500184979652], [5.684575389948007, 117.0, 1.5, 2.726747544771808]], \"hovertemplate\": \"<b>%{hovertext}</b><br><br>PointRateFixed=%{customdata[3]:.2f}<br>PointRate=%{customdata[0]:.2f}<br>PointsWbp=%{customdata[1]}<extra></extra>\", \"hovertext\": [\"Luiz Moreira Marinho\", \"Soares\", \"Mings\", \"Targett\", \"Konsa Ngoyo\", \"Guilbert\", \"Burn\", \"Dunk\", \"Montoya\", \"Webster\", \"Tarkowski\", \"Bardsley\", \"Pieters\", \"Mee\", \"Taylor\", \"Azpilicueta\", \"Alonso\", \"R\\u00fcdiger\", \"Zouma\", \"James\", \"Chilwell\", \"Cahill\", \"Ward\", \"Kelly\", \"van Aanholt\", \"Digne\", \"Keane\", \"Mina\", \"Holgate\", \"Evans\", \"Barbosa Pereira\", \"S\\u00f6y\\u00fcnc\\u00fc\", \"van Dijk\", \"Robertson\", \"Alexander-Arnold\", \"Gomez\", \"Otamendi\", \"Walker\", \"Mendy\", \"Ak\\u00e9\", \"Laporte\", \"Maguire\", \"Shaw\", \"Lindel\\u00f6f\", \"Wan-Bissaka\", \"Fern\\u00e1ndez\", \"Lascelles\", \"Manquillo\", \"Basham\", \"Stevens\", \"Baldock\", \"Egan\", \"O'Connell\", \"Bertrand\", \"Stephens\", \"Bednarek\", \"Alderweireld\", \"Aurier\", \"S\\u00e1nchez\", \"Doherty\", \"Ogbonna\", \"Cresswell\", \"Fredericks\", \"Diop\", \"Boly\", \"Coady\", \"Sa\\u00efss\", \"Castro Otto\"], \"legendgroup\": \"\", \"marker\": {\"color\": \"#636efa\", \"symbol\": \"circle\"}, \"mode\": \"markers\", \"name\": \"\", \"orientation\": \"v\", \"showlegend\": false, \"type\": \"scatter\", \"x\": [1.5, 1.0, 1.0, 0.5, 0.5, 0.5, 0.5, 1.0, 0.5, 0.5, 1.5, 0.5, 0.5, 1.0, 0.5, 2.0, 2.0, 1.0, 1.0, 1.0, 1.5, 0.5, 0.5, 0.5, 1.5, 2.0, 1.0, 1.5, 1.0, 1.5, 2.0, 1.5, 2.5, 3.0, 3.5, 1.5, 1.0, 2.0, 2.0, 1.5, 2.0, 1.5, 1.0, 1.0, 1.5, 1.0, 0.5, 0.5, 1.0, 1.5, 1.5, 1.0, 1.0, 1.0, 1.0, 0.5, 1.5, 1.5, 1.5, 2.0, 1.0, 1.0, 0.5, 0.5, 1.5, 1.0, 1.0, 1.5], \"xaxis\": \"x2\", \"y\": [1.518927257624303, 3.477141017385705, 1.791867677463818, 5.237887385421214, 3.9254170755642788, 3.336604514229637, 3.195554011809656, 3.5294117647058822, 4.2283298097251585, 4.3478260869565215, 2.612085769980507, 7.619047619047619, 7.67590618336887, 3.1944444444444446, 8.436213991769547, 1.8271910808299783, 4.828551434569629, 2.9239766081871346, 0.8536064874093043, 3.7086092715231787, 3.4821679303566415, 4.060913705583756, 4.201680672268908, 7.756948933419522, 2.8719585161547667, 1.7485978225008247, 2.6604068857589986, 1.6367090457401725, 2.53411306042885, 2.0882584712371948, 2.6587301587301586, 2.3276240667545016, 2.3859649122807016, 2.4000857173470482, 2.521273242987709, 3.2683008170752044, 5.146198830409356, 2.5501672240802677, 2.749832327297116, 1.278465840990811, 3.5583941605839415, 1.8323586744639375, 3.352601156069364, 3.1047865459249677, 2.56243213897937, 3.3626289644631258, 5.202312138728324, 7.514088916718848, 3.1462060456508327, 2.7105132037867463, 2.573099415204678, 3.9535613429557577, 3.224699828473413, 1.0940919037199124, 2.5295797633618933, 2.2244030094864247, 1.4429038439860218, 3.2110658268494503, 0.5484711367064308, 3.6671368124118477, 1.4357501794687724, 1.3934726806013935, 4.47427293064877, 2.1699819168173597, 3.569023569023569, 2.456140350877193, 3.1816500184979652, 2.726747544771808], \"yaxis\": \"y2\"}],\n",
       "                        {\"template\": {\"data\": {\"bar\": [{\"error_x\": {\"color\": \"#2a3f5f\"}, \"error_y\": {\"color\": \"#2a3f5f\"}, \"marker\": {\"line\": {\"color\": \"#E5ECF6\", \"width\": 0.5}}, \"type\": \"bar\"}], \"barpolar\": [{\"marker\": {\"line\": {\"color\": \"#E5ECF6\", \"width\": 0.5}}, \"type\": \"barpolar\"}], \"carpet\": [{\"aaxis\": {\"endlinecolor\": \"#2a3f5f\", \"gridcolor\": \"white\", \"linecolor\": \"white\", \"minorgridcolor\": \"white\", \"startlinecolor\": \"#2a3f5f\"}, \"baxis\": {\"endlinecolor\": \"#2a3f5f\", \"gridcolor\": \"white\", \"linecolor\": \"white\", \"minorgridcolor\": \"white\", \"startlinecolor\": \"#2a3f5f\"}, \"type\": \"carpet\"}], \"choropleth\": [{\"colorbar\": {\"outlinewidth\": 0, \"ticks\": \"\"}, \"type\": \"choropleth\"}], \"contour\": [{\"colorbar\": {\"outlinewidth\": 0, \"ticks\": \"\"}, \"colorscale\": [[0.0, \"#0d0887\"], [0.1111111111111111, \"#46039f\"], [0.2222222222222222, \"#7201a8\"], [0.3333333333333333, \"#9c179e\"], [0.4444444444444444, \"#bd3786\"], [0.5555555555555556, \"#d8576b\"], [0.6666666666666666, \"#ed7953\"], [0.7777777777777778, \"#fb9f3a\"], [0.8888888888888888, \"#fdca26\"], [1.0, \"#f0f921\"]], \"type\": \"contour\"}], \"contourcarpet\": [{\"colorbar\": {\"outlinewidth\": 0, \"ticks\": \"\"}, \"type\": \"contourcarpet\"}], \"heatmap\": [{\"colorbar\": {\"outlinewidth\": 0, \"ticks\": \"\"}, \"colorscale\": [[0.0, \"#0d0887\"], [0.1111111111111111, \"#46039f\"], [0.2222222222222222, \"#7201a8\"], [0.3333333333333333, \"#9c179e\"], [0.4444444444444444, \"#bd3786\"], [0.5555555555555556, \"#d8576b\"], [0.6666666666666666, \"#ed7953\"], [0.7777777777777778, \"#fb9f3a\"], [0.8888888888888888, \"#fdca26\"], [1.0, \"#f0f921\"]], \"type\": \"heatmap\"}], \"heatmapgl\": [{\"colorbar\": {\"outlinewidth\": 0, \"ticks\": \"\"}, \"colorscale\": [[0.0, \"#0d0887\"], [0.1111111111111111, \"#46039f\"], [0.2222222222222222, \"#7201a8\"], [0.3333333333333333, \"#9c179e\"], [0.4444444444444444, \"#bd3786\"], [0.5555555555555556, \"#d8576b\"], [0.6666666666666666, \"#ed7953\"], [0.7777777777777778, \"#fb9f3a\"], [0.8888888888888888, \"#fdca26\"], [1.0, \"#f0f921\"]], \"type\": \"heatmapgl\"}], \"histogram\": [{\"marker\": {\"colorbar\": {\"outlinewidth\": 0, \"ticks\": \"\"}}, \"type\": \"histogram\"}], \"histogram2d\": [{\"colorbar\": {\"outlinewidth\": 0, \"ticks\": \"\"}, \"colorscale\": [[0.0, \"#0d0887\"], [0.1111111111111111, \"#46039f\"], [0.2222222222222222, \"#7201a8\"], [0.3333333333333333, \"#9c179e\"], [0.4444444444444444, \"#bd3786\"], [0.5555555555555556, \"#d8576b\"], [0.6666666666666666, \"#ed7953\"], [0.7777777777777778, \"#fb9f3a\"], [0.8888888888888888, \"#fdca26\"], [1.0, \"#f0f921\"]], \"type\": \"histogram2d\"}], \"histogram2dcontour\": [{\"colorbar\": {\"outlinewidth\": 0, \"ticks\": \"\"}, \"colorscale\": [[0.0, \"#0d0887\"], [0.1111111111111111, \"#46039f\"], [0.2222222222222222, \"#7201a8\"], [0.3333333333333333, \"#9c179e\"], [0.4444444444444444, \"#bd3786\"], [0.5555555555555556, \"#d8576b\"], [0.6666666666666666, \"#ed7953\"], [0.7777777777777778, \"#fb9f3a\"], [0.8888888888888888, \"#fdca26\"], [1.0, \"#f0f921\"]], \"type\": \"histogram2dcontour\"}], \"mesh3d\": [{\"colorbar\": {\"outlinewidth\": 0, \"ticks\": \"\"}, \"type\": \"mesh3d\"}], \"parcoords\": [{\"line\": {\"colorbar\": {\"outlinewidth\": 0, \"ticks\": \"\"}}, \"type\": \"parcoords\"}], \"pie\": [{\"automargin\": true, \"type\": \"pie\"}], \"scatter\": [{\"marker\": {\"colorbar\": {\"outlinewidth\": 0, \"ticks\": \"\"}}, \"type\": \"scatter\"}], \"scatter3d\": [{\"line\": {\"colorbar\": {\"outlinewidth\": 0, \"ticks\": \"\"}}, \"marker\": {\"colorbar\": {\"outlinewidth\": 0, \"ticks\": \"\"}}, \"type\": \"scatter3d\"}], \"scattercarpet\": [{\"marker\": {\"colorbar\": {\"outlinewidth\": 0, \"ticks\": \"\"}}, \"type\": \"scattercarpet\"}], \"scattergeo\": [{\"marker\": {\"colorbar\": {\"outlinewidth\": 0, \"ticks\": \"\"}}, \"type\": \"scattergeo\"}], \"scattergl\": [{\"marker\": {\"colorbar\": {\"outlinewidth\": 0, \"ticks\": \"\"}}, \"type\": \"scattergl\"}], \"scattermapbox\": [{\"marker\": {\"colorbar\": {\"outlinewidth\": 0, \"ticks\": \"\"}}, \"type\": \"scattermapbox\"}], \"scatterpolar\": [{\"marker\": {\"colorbar\": {\"outlinewidth\": 0, \"ticks\": \"\"}}, \"type\": \"scatterpolar\"}], \"scatterpolargl\": [{\"marker\": {\"colorbar\": {\"outlinewidth\": 0, \"ticks\": \"\"}}, \"type\": \"scatterpolargl\"}], \"scatterternary\": [{\"marker\": {\"colorbar\": {\"outlinewidth\": 0, \"ticks\": \"\"}}, \"type\": \"scatterternary\"}], \"surface\": [{\"colorbar\": {\"outlinewidth\": 0, \"ticks\": \"\"}, \"colorscale\": [[0.0, \"#0d0887\"], [0.1111111111111111, \"#46039f\"], [0.2222222222222222, \"#7201a8\"], [0.3333333333333333, \"#9c179e\"], [0.4444444444444444, \"#bd3786\"], [0.5555555555555556, \"#d8576b\"], [0.6666666666666666, \"#ed7953\"], [0.7777777777777778, \"#fb9f3a\"], [0.8888888888888888, \"#fdca26\"], [1.0, \"#f0f921\"]], \"type\": \"surface\"}], \"table\": [{\"cells\": {\"fill\": {\"color\": \"#EBF0F8\"}, \"line\": {\"color\": \"white\"}}, \"header\": {\"fill\": {\"color\": \"#C8D4E3\"}, \"line\": {\"color\": \"white\"}}, \"type\": \"table\"}]}, \"layout\": {\"annotationdefaults\": {\"arrowcolor\": \"#2a3f5f\", \"arrowhead\": 0, \"arrowwidth\": 1}, \"coloraxis\": {\"colorbar\": {\"outlinewidth\": 0, \"ticks\": \"\"}}, \"colorscale\": {\"diverging\": [[0, \"#8e0152\"], [0.1, \"#c51b7d\"], [0.2, \"#de77ae\"], [0.3, \"#f1b6da\"], [0.4, \"#fde0ef\"], [0.5, \"#f7f7f7\"], [0.6, \"#e6f5d0\"], [0.7, \"#b8e186\"], [0.8, \"#7fbc41\"], [0.9, \"#4d9221\"], [1, \"#276419\"]], \"sequential\": [[0.0, \"#0d0887\"], [0.1111111111111111, \"#46039f\"], [0.2222222222222222, \"#7201a8\"], [0.3333333333333333, \"#9c179e\"], [0.4444444444444444, \"#bd3786\"], [0.5555555555555556, \"#d8576b\"], [0.6666666666666666, \"#ed7953\"], [0.7777777777777778, \"#fb9f3a\"], [0.8888888888888888, \"#fdca26\"], [1.0, \"#f0f921\"]], \"sequentialminus\": [[0.0, \"#0d0887\"], [0.1111111111111111, \"#46039f\"], [0.2222222222222222, \"#7201a8\"], [0.3333333333333333, \"#9c179e\"], [0.4444444444444444, \"#bd3786\"], [0.5555555555555556, \"#d8576b\"], [0.6666666666666666, \"#ed7953\"], [0.7777777777777778, \"#fb9f3a\"], [0.8888888888888888, \"#fdca26\"], [1.0, \"#f0f921\"]]}, \"colorway\": [\"#636efa\", \"#EF553B\", \"#00cc96\", \"#ab63fa\", \"#FFA15A\", \"#19d3f3\", \"#FF6692\", \"#B6E880\", \"#FF97FF\", \"#FECB52\"], \"font\": {\"color\": \"#2a3f5f\"}, \"geo\": {\"bgcolor\": \"white\", \"lakecolor\": \"white\", \"landcolor\": \"#E5ECF6\", \"showlakes\": true, \"showland\": true, \"subunitcolor\": \"white\"}, \"hoverlabel\": {\"align\": \"left\"}, \"hovermode\": \"closest\", \"mapbox\": {\"style\": \"light\"}, \"paper_bgcolor\": \"white\", \"plot_bgcolor\": \"#E5ECF6\", \"polar\": {\"angularaxis\": {\"gridcolor\": \"white\", \"linecolor\": \"white\", \"ticks\": \"\"}, \"bgcolor\": \"#E5ECF6\", \"radialaxis\": {\"gridcolor\": \"white\", \"linecolor\": \"white\", \"ticks\": \"\"}}, \"scene\": {\"xaxis\": {\"backgroundcolor\": \"#E5ECF6\", \"gridcolor\": \"white\", \"gridwidth\": 2, \"linecolor\": \"white\", \"showbackground\": true, \"ticks\": \"\", \"zerolinecolor\": \"white\"}, \"yaxis\": {\"backgroundcolor\": \"#E5ECF6\", \"gridcolor\": \"white\", \"gridwidth\": 2, \"linecolor\": \"white\", \"showbackground\": true, \"ticks\": \"\", \"zerolinecolor\": \"white\"}, \"zaxis\": {\"backgroundcolor\": \"#E5ECF6\", \"gridcolor\": \"white\", \"gridwidth\": 2, \"linecolor\": \"white\", \"showbackground\": true, \"ticks\": \"\", \"zerolinecolor\": \"white\"}}, \"shapedefaults\": {\"line\": {\"color\": \"#2a3f5f\"}}, \"ternary\": {\"aaxis\": {\"gridcolor\": \"white\", \"linecolor\": \"white\", \"ticks\": \"\"}, \"baxis\": {\"gridcolor\": \"white\", \"linecolor\": \"white\", \"ticks\": \"\"}, \"bgcolor\": \"#E5ECF6\", \"caxis\": {\"gridcolor\": \"white\", \"linecolor\": \"white\", \"ticks\": \"\"}}, \"title\": {\"x\": 0.05}, \"xaxis\": {\"automargin\": true, \"gridcolor\": \"white\", \"linecolor\": \"white\", \"ticks\": \"\", \"title\": {\"standoff\": 15}, \"zerolinecolor\": \"white\", \"zerolinewidth\": 2}, \"yaxis\": {\"automargin\": true, \"gridcolor\": \"white\", \"linecolor\": \"white\", \"ticks\": \"\", \"title\": {\"standoff\": 15}, \"zerolinecolor\": \"white\", \"zerolinewidth\": 2}}}, \"xaxis\": {\"anchor\": \"y\", \"domain\": [0.0, 1.0]}, \"xaxis2\": {\"anchor\": \"y2\", \"domain\": [0.0, 1.0]}, \"yaxis\": {\"anchor\": \"x\", \"domain\": [0.575, 1.0]}, \"yaxis2\": {\"anchor\": \"x2\", \"domain\": [0.0, 0.425]}},\n",
       "                        {\"responsive\": true}\n",
       "                    ).then(function(){\n",
       "                            \n",
       "var gd = document.getElementById('fcbcb492-4597-446b-bcdd-d6b01675c567');\n",
       "var x = new MutationObserver(function (mutations, observer) {{\n",
       "        var display = window.getComputedStyle(gd).display;\n",
       "        if (!display || display === 'none') {{\n",
       "            console.log([gd, 'removed!']);\n",
       "            Plotly.purge(gd);\n",
       "            observer.disconnect();\n",
       "        }}\n",
       "}});\n",
       "\n",
       "// Listen for the removal of the full notebook cells\n",
       "var notebookContainer = gd.closest('#notebook-container');\n",
       "if (notebookContainer) {{\n",
       "    x.observe(notebookContainer, {childList: true});\n",
       "}}\n",
       "\n",
       "// Listen for the clearing of the current output cell\n",
       "var outputEl = gd.closest('.output');\n",
       "if (outputEl) {{\n",
       "    x.observe(outputEl, {childList: true});\n",
       "}}\n",
       "\n",
       "                        })\n",
       "                };\n",
       "                });\n",
       "            </script>\n",
       "        </div>"
      ]
     },
     "metadata": {},
     "output_type": "display_data"
    }
   ],
   "source": [
    "fig1 = px.scatter(GK, x=\"realCost\", y=\"PointRateFixed\", \n",
    "                 template='plotly_dark',\n",
    "                 hover_name=\"second_name\", \n",
    "                 trendline=\"ols\",\n",
    "                 hover_data= {'PointRate':':.2f',\n",
    "                              'PointsWbp': True,\n",
    "                              'realCost':False,\n",
    "                              'PointRateFixed':':.2f'\n",
    "                             })\n",
    "fig2 = px.scatter(DEF, x=\"realCost\", y=\"PointRateFixed\", \n",
    "                 template='plotly_dark',\n",
    "                 hover_name=\"second_name\", \n",
    "                 trendline=\"ols\",\n",
    "                 hover_data= {'PointRate':':.2f',\n",
    "                              'PointsWbp': True,\n",
    "                              'realCost':False,\n",
    "                              'PointRateFixed':':.2f'\n",
    "                             })\n",
    "trace1 = fig1['data'][0]\n",
    "trace2 = fig2['data'][0]\n",
    "\n",
    "fig = make_subplots(rows=2, cols=1, shared_xaxes=False)\n",
    "fig.add_trace(trace1, row=1, col=1)\n",
    "fig.add_trace(trace2, row=2, col=1)"
   ]
  },
  {
   "cell_type": "code",
   "execution_count": 58,
   "metadata": {},
   "outputs": [
    {
     "data": {
      "application/vnd.plotly.v1+json": {
       "config": {
        "plotlyServerURL": "https://plot.ly"
       },
       "data": [
        {
         "mode": "markers",
         "text": [
          "Leno",
          "Ryan",
          "Pope",
          "Arrizabalaga",
          "Guaita",
          "Pickford",
          "Schmeichel",
          "Ramses Becker",
          "Santana de Moraes",
          "de Gea",
          "Henderson",
          "Dubravka",
          "Ramsdale",
          "McCarthy",
          "Lloris",
          "Fabianski",
          "dos Santos Patrício"
         ],
         "type": "scatter",
         "x": [
          1,
          0.5,
          1.5,
          1,
          1,
          1,
          1.5,
          2,
          2,
          1.5,
          1.5,
          1,
          1,
          0.5,
          1.5,
          1,
          1.5
         ],
         "xaxis": "x",
         "y": [
          4.228010570026425,
          6.900584795321637,
          3.664717348927875,
          1.6161616161616161,
          4.253968253968254,
          2.3976608187134505,
          3.1189083820662766,
          2.595359811246559,
          2.1165744057310323,
          2.612085769980507,
          3.6213991769547325,
          3.91812865497076,
          3.123123123123123,
          7.619047619047619,
          4.277286135693215,
          3.4010392064241852,
          3.0019493177387915
         ],
         "yaxis": "y"
        },
        {
         "mode": "markers",
         "text": [
          "Luiz Moreira Marinho",
          "Soares",
          "Mings",
          "Targett",
          "Konsa Ngoyo",
          "Guilbert",
          "Burn",
          "Dunk",
          "Montoya",
          "Webster",
          "Tarkowski",
          "Bardsley",
          "Pieters",
          "Mee",
          "Taylor",
          "Azpilicueta",
          "Alonso",
          "Rüdiger",
          "Zouma",
          "James",
          "Chilwell",
          "Cahill",
          "Ward",
          "Kelly",
          "van Aanholt",
          "Digne",
          "Keane",
          "Mina",
          "Holgate",
          "Evans",
          "Barbosa Pereira",
          "Söyüncü",
          "van Dijk",
          "Robertson",
          "Alexander-Arnold",
          "Gomez",
          "Otamendi",
          "Walker",
          "Mendy",
          "Aké",
          "Laporte",
          "Maguire",
          "Shaw",
          "Lindelöf",
          "Wan-Bissaka",
          "Fernández",
          "Lascelles",
          "Manquillo",
          "Basham",
          "Stevens",
          "Baldock",
          "Egan",
          "O'Connell",
          "Bertrand",
          "Stephens",
          "Bednarek",
          "Alderweireld",
          "Aurier",
          "Sánchez",
          "Doherty",
          "Ogbonna",
          "Cresswell",
          "Fredericks",
          "Diop",
          "Boly",
          "Coady",
          "Saïss",
          "Castro Otto"
         ],
         "type": "scatter",
         "x": [
          1.5,
          1,
          1,
          0.5,
          0.5,
          0.5,
          0.5,
          1,
          0.5,
          0.5,
          1.5,
          0.5,
          0.5,
          1,
          0.5,
          2,
          2,
          1,
          1,
          1,
          1.5,
          0.5,
          0.5,
          0.5,
          1.5,
          2,
          1,
          1.5,
          1,
          1.5,
          2,
          1.5,
          2.5,
          3,
          3.5,
          1.5,
          1,
          2,
          2,
          1.5,
          2,
          1.5,
          1,
          1,
          1.5,
          1,
          0.5,
          0.5,
          1,
          1.5,
          1.5,
          1,
          1,
          1,
          1,
          0.5,
          1.5,
          1.5,
          1.5,
          2,
          1,
          1,
          0.5,
          0.5,
          1.5,
          1,
          1,
          1.5
         ],
         "xaxis": "x2",
         "y": [
          1.518927257624303,
          3.477141017385705,
          1.791867677463818,
          5.237887385421214,
          3.9254170755642788,
          3.336604514229637,
          3.195554011809656,
          3.5294117647058822,
          4.2283298097251585,
          4.3478260869565215,
          2.612085769980507,
          7.619047619047619,
          7.67590618336887,
          3.1944444444444446,
          8.436213991769547,
          1.8271910808299783,
          4.828551434569629,
          2.9239766081871346,
          0.8536064874093043,
          3.7086092715231787,
          3.4821679303566415,
          4.060913705583756,
          4.201680672268908,
          7.756948933419522,
          2.8719585161547667,
          1.7485978225008247,
          2.6604068857589986,
          1.6367090457401725,
          2.53411306042885,
          2.0882584712371948,
          2.6587301587301586,
          2.3276240667545016,
          2.3859649122807016,
          2.4000857173470482,
          2.521273242987709,
          3.2683008170752044,
          5.146198830409356,
          2.5501672240802677,
          2.749832327297116,
          1.278465840990811,
          3.5583941605839415,
          1.8323586744639375,
          3.352601156069364,
          3.1047865459249677,
          2.56243213897937,
          3.3626289644631258,
          5.202312138728324,
          7.514088916718848,
          3.1462060456508327,
          2.7105132037867463,
          2.573099415204678,
          3.9535613429557577,
          3.224699828473413,
          1.0940919037199124,
          2.5295797633618933,
          2.2244030094864247,
          1.4429038439860218,
          3.2110658268494503,
          0.5484711367064308,
          3.6671368124118477,
          1.4357501794687724,
          1.3934726806013935,
          4.47427293064877,
          2.1699819168173597,
          3.569023569023569,
          2.456140350877193,
          3.1816500184979652,
          2.726747544771808
         ],
         "yaxis": "y2"
        },
        {
         "mode": "markers",
         "text": [
          "Aubameyang",
          "Xhaka",
          "Pépé",
          "Saka",
          "Borges Da Silva",
          "Hourihane",
          "Grealish",
          "McGinn",
          "Ibrahim Hassan",
          "El Ghazi",
          "Soares de Paulo",
          "Stephens",
          "Groß",
          "Pröpper",
          "Mooy",
          "Trossard",
          "Cork",
          "Westwood",
          "McNeil",
          "Frello Filho",
          "Barkley",
          "Kovacic",
          "Pulisic",
          "Mount",
          "McArthur",
          "Kouyaté",
          "Milivojevic",
          "Zaha",
          "Walcott",
          "Sigurdsson",
          "Anício Caldeira Duarte",
          "Tielemans",
          "Pérez",
          "Maddison",
          "Barnes",
          "Ndidi",
          "Wijnaldum",
          "Henderson",
          "Oxlade-Chamberlain",
          "Mané",
          "Tavares",
          "Salah",
          "Wilson",
          "Gündogan",
          "De Bruyne",
          "Mahrez",
          "Sterling",
          "Veiga de Carvalho e Silva",
          "Foden",
          "Hernandez",
          "Borges Fernandes",
          "Pereira",
          "Rashford",
          "McTominay",
          "James",
          "Greenwood",
          "Shelvey",
          "Ritchie",
          "Hayden",
          "Saint-Maximin",
          "Almirón",
          "Hendrick",
          "Fleck",
          "Norwood",
          "Lundstram",
          "Redmond",
          "Armstrong",
          "Ward-Prowse",
          "Sissoko",
          "Lamela",
          "Son",
          "Rodrigues Moura da Silva",
          "Alli",
          "Højbjerg",
          "Noble",
          "Snodgrass",
          "Yarmolenko",
          "Pereira Gomes",
          "Rice",
          "Fornals",
          "Santos Moutinho",
          "Dendoncker",
          "Traoré",
          "da Silva Neves",
          "Jota"
         ],
         "type": "scatter",
         "x": [
          7.5,
          1,
          3.5,
          1,
          3.5,
          1.5,
          2.5,
          1,
          1,
          1.5,
          0.5,
          0,
          1.5,
          0.5,
          0.5,
          1.5,
          0.5,
          1,
          1.5,
          0.5,
          1.5,
          1,
          4,
          2.5,
          1,
          0.5,
          1.5,
          2.5,
          1.5,
          2.5,
          1.5,
          2,
          2,
          2.5,
          2.5,
          0.5,
          1,
          1,
          2,
          7.5,
          1,
          7.5,
          1,
          1,
          7,
          4,
          7,
          3,
          2,
          1,
          6,
          0.5,
          5,
          0.5,
          2,
          3,
          1,
          0.5,
          0.5,
          1,
          1.5,
          0.5,
          1.5,
          0.5,
          1,
          2,
          1,
          1.5,
          0.5,
          1.5,
          4.5,
          2.5,
          3.5,
          0.5,
          0.5,
          1.5,
          1.5,
          2,
          0.5,
          2,
          1,
          0.5,
          2,
          1,
          2
         ],
         "xaxis": "x3",
         "y": [
          1.1564625850340136,
          1.237432327919567,
          1.7678927858568576,
          3.7800687285223367,
          2.444260941370768,
          4.36871996505024,
          1.9300958861738324,
          2.8546712802768166,
          5.681818181818182,
          3.1280547409579667,
          5.0691244239631335,
          null,
          2.754513307277126,
          2.264685067232838,
          6.541606541606542,
          3.992015968063872,
          1.836266258607498,
          3.0476190476190474,
          1.9566736547868624,
          6.734006734006734,
          4.505327245053272,
          2.2276029055690074,
          2.591729761211415,
          2.0663176265270504,
          1.552895503073439,
          4.595879556259905,
          1.3811420982735725,
          1.171088746569076,
          3.6429872495446265,
          1.2211350293542074,
          4.623062779091148,
          1.9482819695359546,
          4.2542542542542545,
          2.042682926829268,
          3.3542168674698796,
          3.8936727817296894,
          2.863961813842482,
          5.998209489704566,
          2.983050847457627,
          1.554341226472374,
          2.9908345393150024,
          1.5746208174134537,
          6.719609040928527,
          2.0874751491053676,
          1.935483870967742,
          3.43846949327818,
          1.5735302042355985,
          2.375061850569025,
          5.63063063063063,
          2.9838709677419355,
          2.555461948890761,
          7.577807848443843,
          1.7996219281663517,
          7.932011331444759,
          1.972818939061815,
          3.837298541826554,
          5.476864966949953,
          13.71951219512195,
          4.324324324324325,
          5.483870967741935,
          1.8543046357615893,
          5.181347150259067,
          2.43870112657389,
          3.8847523470378764,
          7.3409461663947795,
          1.6648570394498734,
          7.151230949589683,
          1.5984405458089668,
          2.4479804161566707,
          4.322527015793849,
          2.044659671778316,
          1.825503355704698,
          2.353852109949671,
          2.036363636363636,
          6.878504672897196,
          4.787234042553192,
          6.659870880054366,
          2.2103148024112524,
          3.391812865497076,
          2.076603599446239,
          2.8341384863123995,
          5.448028673835125,
          2.8087726048480186,
          1.965280052407468,
          2.4143985952589992
         ],
         "yaxis": "y3"
        },
        {
         "mode": "markers",
         "text": [
          "Lacazette",
          "Moraes",
          "Maupay",
          "Connolly",
          "Rodriguez",
          "Barnes",
          "Wood",
          "Giroud",
          "Abraham",
          "Ayew",
          "Calvert-Lewin",
          "de Andrade",
          "Vardy",
          "Iheanacho",
          "Firmino",
          "Origi",
          "Agüero",
          "de Jesus",
          "Martial",
          "Apolinário de Lira",
          "McGoldrick",
          "McBurnie",
          "Mousset",
          "Long",
          "Ings",
          "Adams",
          "Kane",
          "Antonio",
          "Haller",
          "Jiménez"
         ],
         "type": "scatter",
         "x": [
          4,
          1.5,
          2,
          1,
          1.5,
          1.5,
          2,
          2.5,
          3,
          1.5,
          2.5,
          3.5,
          5.5,
          1.5,
          5,
          1,
          6,
          5,
          4.5,
          1.5,
          1,
          1.5,
          1.5,
          1,
          4,
          1.5,
          6,
          2,
          2,
          4
         ],
         "xaxis": "x4",
         "y": [
          2.062131762185324,
          2.0950243172465393,
          2.5334781035106766,
          5.44,
          3.7296037296037294,
          3.0617283950617282,
          3.3661740558292284,
          3.805668016194332,
          3.1429434874584468,
          2.6683608640406606,
          2.075543685616177,
          1.8054909260120986,
          1.7150395778364116,
          6.0160895417978315,
          1.1926298157453936,
          14.30615164520744,
          2.3004370830457788,
          2.0218037661050543,
          2.4042328042328043,
          0.9459795867562858,
          2.7624309392265194,
          2.5336500395882817,
          6.214227309893704,
          4.617604617604617,
          2.4285714285714284,
          6.575342465753424,
          1.300875837197321,
          4.074702886247878,
          2.3019034971226207,
          1.8821351434742364
         ],
         "yaxis": "y4"
        }
       ],
       "layout": {
        "annotations": [
         {
          "font": {
           "size": 16
          },
          "showarrow": false,
          "text": "GK",
          "x": 0.5,
          "xanchor": "center",
          "xref": "paper",
          "y": 1,
          "yanchor": "bottom",
          "yref": "paper"
         },
         {
          "font": {
           "size": 16
          },
          "showarrow": false,
          "text": "DEF",
          "x": 0.5,
          "xanchor": "center",
          "xref": "paper",
          "y": 0.8233333333333334,
          "yanchor": "bottom",
          "yref": "paper"
         },
         {
          "font": {
           "size": 16
          },
          "showarrow": false,
          "text": "MID",
          "x": 0.5,
          "xanchor": "center",
          "xref": "paper",
          "y": 0.5683333333333334,
          "yanchor": "bottom",
          "yref": "paper"
         },
         {
          "font": {
           "size": 16
          },
          "showarrow": false,
          "text": "FWD",
          "x": 0.5,
          "xanchor": "center",
          "xref": "paper",
          "y": 0.235,
          "yanchor": "bottom",
          "yref": "paper"
         }
        ],
        "height": 1200,
        "showlegend": false,
        "template": {
         "data": {
          "bar": [
           {
            "error_x": {
             "color": "#2a3f5f"
            },
            "error_y": {
             "color": "#2a3f5f"
            },
            "marker": {
             "line": {
              "color": "#E5ECF6",
              "width": 0.5
             }
            },
            "type": "bar"
           }
          ],
          "barpolar": [
           {
            "marker": {
             "line": {
              "color": "#E5ECF6",
              "width": 0.5
             }
            },
            "type": "barpolar"
           }
          ],
          "carpet": [
           {
            "aaxis": {
             "endlinecolor": "#2a3f5f",
             "gridcolor": "white",
             "linecolor": "white",
             "minorgridcolor": "white",
             "startlinecolor": "#2a3f5f"
            },
            "baxis": {
             "endlinecolor": "#2a3f5f",
             "gridcolor": "white",
             "linecolor": "white",
             "minorgridcolor": "white",
             "startlinecolor": "#2a3f5f"
            },
            "type": "carpet"
           }
          ],
          "choropleth": [
           {
            "colorbar": {
             "outlinewidth": 0,
             "ticks": ""
            },
            "type": "choropleth"
           }
          ],
          "contour": [
           {
            "colorbar": {
             "outlinewidth": 0,
             "ticks": ""
            },
            "colorscale": [
             [
              0,
              "#0d0887"
             ],
             [
              0.1111111111111111,
              "#46039f"
             ],
             [
              0.2222222222222222,
              "#7201a8"
             ],
             [
              0.3333333333333333,
              "#9c179e"
             ],
             [
              0.4444444444444444,
              "#bd3786"
             ],
             [
              0.5555555555555556,
              "#d8576b"
             ],
             [
              0.6666666666666666,
              "#ed7953"
             ],
             [
              0.7777777777777778,
              "#fb9f3a"
             ],
             [
              0.8888888888888888,
              "#fdca26"
             ],
             [
              1,
              "#f0f921"
             ]
            ],
            "type": "contour"
           }
          ],
          "contourcarpet": [
           {
            "colorbar": {
             "outlinewidth": 0,
             "ticks": ""
            },
            "type": "contourcarpet"
           }
          ],
          "heatmap": [
           {
            "colorbar": {
             "outlinewidth": 0,
             "ticks": ""
            },
            "colorscale": [
             [
              0,
              "#0d0887"
             ],
             [
              0.1111111111111111,
              "#46039f"
             ],
             [
              0.2222222222222222,
              "#7201a8"
             ],
             [
              0.3333333333333333,
              "#9c179e"
             ],
             [
              0.4444444444444444,
              "#bd3786"
             ],
             [
              0.5555555555555556,
              "#d8576b"
             ],
             [
              0.6666666666666666,
              "#ed7953"
             ],
             [
              0.7777777777777778,
              "#fb9f3a"
             ],
             [
              0.8888888888888888,
              "#fdca26"
             ],
             [
              1,
              "#f0f921"
             ]
            ],
            "type": "heatmap"
           }
          ],
          "heatmapgl": [
           {
            "colorbar": {
             "outlinewidth": 0,
             "ticks": ""
            },
            "colorscale": [
             [
              0,
              "#0d0887"
             ],
             [
              0.1111111111111111,
              "#46039f"
             ],
             [
              0.2222222222222222,
              "#7201a8"
             ],
             [
              0.3333333333333333,
              "#9c179e"
             ],
             [
              0.4444444444444444,
              "#bd3786"
             ],
             [
              0.5555555555555556,
              "#d8576b"
             ],
             [
              0.6666666666666666,
              "#ed7953"
             ],
             [
              0.7777777777777778,
              "#fb9f3a"
             ],
             [
              0.8888888888888888,
              "#fdca26"
             ],
             [
              1,
              "#f0f921"
             ]
            ],
            "type": "heatmapgl"
           }
          ],
          "histogram": [
           {
            "marker": {
             "colorbar": {
              "outlinewidth": 0,
              "ticks": ""
             }
            },
            "type": "histogram"
           }
          ],
          "histogram2d": [
           {
            "colorbar": {
             "outlinewidth": 0,
             "ticks": ""
            },
            "colorscale": [
             [
              0,
              "#0d0887"
             ],
             [
              0.1111111111111111,
              "#46039f"
             ],
             [
              0.2222222222222222,
              "#7201a8"
             ],
             [
              0.3333333333333333,
              "#9c179e"
             ],
             [
              0.4444444444444444,
              "#bd3786"
             ],
             [
              0.5555555555555556,
              "#d8576b"
             ],
             [
              0.6666666666666666,
              "#ed7953"
             ],
             [
              0.7777777777777778,
              "#fb9f3a"
             ],
             [
              0.8888888888888888,
              "#fdca26"
             ],
             [
              1,
              "#f0f921"
             ]
            ],
            "type": "histogram2d"
           }
          ],
          "histogram2dcontour": [
           {
            "colorbar": {
             "outlinewidth": 0,
             "ticks": ""
            },
            "colorscale": [
             [
              0,
              "#0d0887"
             ],
             [
              0.1111111111111111,
              "#46039f"
             ],
             [
              0.2222222222222222,
              "#7201a8"
             ],
             [
              0.3333333333333333,
              "#9c179e"
             ],
             [
              0.4444444444444444,
              "#bd3786"
             ],
             [
              0.5555555555555556,
              "#d8576b"
             ],
             [
              0.6666666666666666,
              "#ed7953"
             ],
             [
              0.7777777777777778,
              "#fb9f3a"
             ],
             [
              0.8888888888888888,
              "#fdca26"
             ],
             [
              1,
              "#f0f921"
             ]
            ],
            "type": "histogram2dcontour"
           }
          ],
          "mesh3d": [
           {
            "colorbar": {
             "outlinewidth": 0,
             "ticks": ""
            },
            "type": "mesh3d"
           }
          ],
          "parcoords": [
           {
            "line": {
             "colorbar": {
              "outlinewidth": 0,
              "ticks": ""
             }
            },
            "type": "parcoords"
           }
          ],
          "pie": [
           {
            "automargin": true,
            "type": "pie"
           }
          ],
          "scatter": [
           {
            "marker": {
             "colorbar": {
              "outlinewidth": 0,
              "ticks": ""
             }
            },
            "type": "scatter"
           }
          ],
          "scatter3d": [
           {
            "line": {
             "colorbar": {
              "outlinewidth": 0,
              "ticks": ""
             }
            },
            "marker": {
             "colorbar": {
              "outlinewidth": 0,
              "ticks": ""
             }
            },
            "type": "scatter3d"
           }
          ],
          "scattercarpet": [
           {
            "marker": {
             "colorbar": {
              "outlinewidth": 0,
              "ticks": ""
             }
            },
            "type": "scattercarpet"
           }
          ],
          "scattergeo": [
           {
            "marker": {
             "colorbar": {
              "outlinewidth": 0,
              "ticks": ""
             }
            },
            "type": "scattergeo"
           }
          ],
          "scattergl": [
           {
            "marker": {
             "colorbar": {
              "outlinewidth": 0,
              "ticks": ""
             }
            },
            "type": "scattergl"
           }
          ],
          "scattermapbox": [
           {
            "marker": {
             "colorbar": {
              "outlinewidth": 0,
              "ticks": ""
             }
            },
            "type": "scattermapbox"
           }
          ],
          "scatterpolar": [
           {
            "marker": {
             "colorbar": {
              "outlinewidth": 0,
              "ticks": ""
             }
            },
            "type": "scatterpolar"
           }
          ],
          "scatterpolargl": [
           {
            "marker": {
             "colorbar": {
              "outlinewidth": 0,
              "ticks": ""
             }
            },
            "type": "scatterpolargl"
           }
          ],
          "scatterternary": [
           {
            "marker": {
             "colorbar": {
              "outlinewidth": 0,
              "ticks": ""
             }
            },
            "type": "scatterternary"
           }
          ],
          "surface": [
           {
            "colorbar": {
             "outlinewidth": 0,
             "ticks": ""
            },
            "colorscale": [
             [
              0,
              "#0d0887"
             ],
             [
              0.1111111111111111,
              "#46039f"
             ],
             [
              0.2222222222222222,
              "#7201a8"
             ],
             [
              0.3333333333333333,
              "#9c179e"
             ],
             [
              0.4444444444444444,
              "#bd3786"
             ],
             [
              0.5555555555555556,
              "#d8576b"
             ],
             [
              0.6666666666666666,
              "#ed7953"
             ],
             [
              0.7777777777777778,
              "#fb9f3a"
             ],
             [
              0.8888888888888888,
              "#fdca26"
             ],
             [
              1,
              "#f0f921"
             ]
            ],
            "type": "surface"
           }
          ],
          "table": [
           {
            "cells": {
             "fill": {
              "color": "#EBF0F8"
             },
             "line": {
              "color": "white"
             }
            },
            "header": {
             "fill": {
              "color": "#C8D4E3"
             },
             "line": {
              "color": "white"
             }
            },
            "type": "table"
           }
          ]
         },
         "layout": {
          "annotationdefaults": {
           "arrowcolor": "#2a3f5f",
           "arrowhead": 0,
           "arrowwidth": 1
          },
          "coloraxis": {
           "colorbar": {
            "outlinewidth": 0,
            "ticks": ""
           }
          },
          "colorscale": {
           "diverging": [
            [
             0,
             "#8e0152"
            ],
            [
             0.1,
             "#c51b7d"
            ],
            [
             0.2,
             "#de77ae"
            ],
            [
             0.3,
             "#f1b6da"
            ],
            [
             0.4,
             "#fde0ef"
            ],
            [
             0.5,
             "#f7f7f7"
            ],
            [
             0.6,
             "#e6f5d0"
            ],
            [
             0.7,
             "#b8e186"
            ],
            [
             0.8,
             "#7fbc41"
            ],
            [
             0.9,
             "#4d9221"
            ],
            [
             1,
             "#276419"
            ]
           ],
           "sequential": [
            [
             0,
             "#0d0887"
            ],
            [
             0.1111111111111111,
             "#46039f"
            ],
            [
             0.2222222222222222,
             "#7201a8"
            ],
            [
             0.3333333333333333,
             "#9c179e"
            ],
            [
             0.4444444444444444,
             "#bd3786"
            ],
            [
             0.5555555555555556,
             "#d8576b"
            ],
            [
             0.6666666666666666,
             "#ed7953"
            ],
            [
             0.7777777777777778,
             "#fb9f3a"
            ],
            [
             0.8888888888888888,
             "#fdca26"
            ],
            [
             1,
             "#f0f921"
            ]
           ],
           "sequentialminus": [
            [
             0,
             "#0d0887"
            ],
            [
             0.1111111111111111,
             "#46039f"
            ],
            [
             0.2222222222222222,
             "#7201a8"
            ],
            [
             0.3333333333333333,
             "#9c179e"
            ],
            [
             0.4444444444444444,
             "#bd3786"
            ],
            [
             0.5555555555555556,
             "#d8576b"
            ],
            [
             0.6666666666666666,
             "#ed7953"
            ],
            [
             0.7777777777777778,
             "#fb9f3a"
            ],
            [
             0.8888888888888888,
             "#fdca26"
            ],
            [
             1,
             "#f0f921"
            ]
           ]
          },
          "colorway": [
           "#636efa",
           "#EF553B",
           "#00cc96",
           "#ab63fa",
           "#FFA15A",
           "#19d3f3",
           "#FF6692",
           "#B6E880",
           "#FF97FF",
           "#FECB52"
          ],
          "font": {
           "color": "#2a3f5f"
          },
          "geo": {
           "bgcolor": "white",
           "lakecolor": "white",
           "landcolor": "#E5ECF6",
           "showlakes": true,
           "showland": true,
           "subunitcolor": "white"
          },
          "hoverlabel": {
           "align": "left"
          },
          "hovermode": "closest",
          "mapbox": {
           "style": "light"
          },
          "paper_bgcolor": "white",
          "plot_bgcolor": "#E5ECF6",
          "polar": {
           "angularaxis": {
            "gridcolor": "white",
            "linecolor": "white",
            "ticks": ""
           },
           "bgcolor": "#E5ECF6",
           "radialaxis": {
            "gridcolor": "white",
            "linecolor": "white",
            "ticks": ""
           }
          },
          "scene": {
           "xaxis": {
            "backgroundcolor": "#E5ECF6",
            "gridcolor": "white",
            "gridwidth": 2,
            "linecolor": "white",
            "showbackground": true,
            "ticks": "",
            "zerolinecolor": "white"
           },
           "yaxis": {
            "backgroundcolor": "#E5ECF6",
            "gridcolor": "white",
            "gridwidth": 2,
            "linecolor": "white",
            "showbackground": true,
            "ticks": "",
            "zerolinecolor": "white"
           },
           "zaxis": {
            "backgroundcolor": "#E5ECF6",
            "gridcolor": "white",
            "gridwidth": 2,
            "linecolor": "white",
            "showbackground": true,
            "ticks": "",
            "zerolinecolor": "white"
           }
          },
          "shapedefaults": {
           "line": {
            "color": "#2a3f5f"
           }
          },
          "ternary": {
           "aaxis": {
            "gridcolor": "white",
            "linecolor": "white",
            "ticks": ""
           },
           "baxis": {
            "gridcolor": "white",
            "linecolor": "white",
            "ticks": ""
           },
           "bgcolor": "#E5ECF6",
           "caxis": {
            "gridcolor": "white",
            "linecolor": "white",
            "ticks": ""
           }
          },
          "title": {
           "x": 0.05
          },
          "xaxis": {
           "automargin": true,
           "gridcolor": "white",
           "linecolor": "white",
           "ticks": "",
           "title": {
            "standoff": 15
           },
           "zerolinecolor": "white",
           "zerolinewidth": 2
          },
          "yaxis": {
           "automargin": true,
           "gridcolor": "white",
           "linecolor": "white",
           "ticks": "",
           "title": {
            "standoff": 15
           },
           "zerolinecolor": "white",
           "zerolinewidth": 2
          }
         }
        },
        "title": {
         "text": "Points Rate Fixed"
        },
        "width": 1000,
        "xaxis": {
         "anchor": "y",
         "domain": [
          0,
          1
         ],
         "dtick": 0.5,
         "matches": "x4",
         "showticklabels": false,
         "tick0": 0
        },
        "xaxis2": {
         "anchor": "y2",
         "domain": [
          0,
          1
         ],
         "dtick": 0.5,
         "matches": "x4",
         "showticklabels": false,
         "tick0": 0
        },
        "xaxis3": {
         "anchor": "y3",
         "domain": [
          0,
          1
         ],
         "dtick": 0.5,
         "matches": "x4",
         "showticklabels": false,
         "tick0": 0
        },
        "xaxis4": {
         "anchor": "y4",
         "domain": [
          0,
          1
         ],
         "dtick": 0.5,
         "tick0": 0
        },
        "yaxis": {
         "anchor": "x",
         "domain": [
          0.8433333333333333,
          1
         ]
        },
        "yaxis2": {
         "anchor": "x2",
         "domain": [
          0.5883333333333334,
          0.8233333333333334
         ]
        },
        "yaxis3": {
         "anchor": "x3",
         "domain": [
          0.255,
          0.5683333333333334
         ]
        },
        "yaxis4": {
         "anchor": "x4",
         "domain": [
          0,
          0.235
         ]
        }
       }
      },
      "text/html": [
       "<div>\n",
       "        \n",
       "        \n",
       "            <div id=\"3bd5ca6a-4b5e-4fa9-a6f0-f8ec3ec5419b\" class=\"plotly-graph-div\" style=\"height:1200px; width:1000px;\"></div>\n",
       "            <script type=\"text/javascript\">\n",
       "                require([\"plotly\"], function(Plotly) {\n",
       "                    window.PLOTLYENV=window.PLOTLYENV || {};\n",
       "                    \n",
       "                if (document.getElementById(\"3bd5ca6a-4b5e-4fa9-a6f0-f8ec3ec5419b\")) {\n",
       "                    Plotly.newPlot(\n",
       "                        '3bd5ca6a-4b5e-4fa9-a6f0-f8ec3ec5419b',\n",
       "                        [{\"mode\": \"markers\", \"text\": [\"Leno\", \"Ryan\", \"Pope\", \"Arrizabalaga\", \"Guaita\", \"Pickford\", \"Schmeichel\", \"Ramses Becker\", \"Santana de Moraes\", \"de Gea\", \"Henderson\", \"Dubravka\", \"Ramsdale\", \"McCarthy\", \"Lloris\", \"Fabianski\", \"dos Santos Patr\\u00edcio\"], \"type\": \"scatter\", \"x\": [1.0, 0.5, 1.5, 1.0, 1.0, 1.0, 1.5, 2.0, 2.0, 1.5, 1.5, 1.0, 1.0, 0.5, 1.5, 1.0, 1.5], \"xaxis\": \"x\", \"y\": [4.228010570026425, 6.900584795321637, 3.664717348927875, 1.6161616161616161, 4.253968253968254, 2.3976608187134505, 3.1189083820662766, 2.595359811246559, 2.1165744057310323, 2.612085769980507, 3.6213991769547325, 3.91812865497076, 3.123123123123123, 7.619047619047619, 4.277286135693215, 3.4010392064241852, 3.0019493177387915], \"yaxis\": \"y\"}, {\"mode\": \"markers\", \"text\": [\"Luiz Moreira Marinho\", \"Soares\", \"Mings\", \"Targett\", \"Konsa Ngoyo\", \"Guilbert\", \"Burn\", \"Dunk\", \"Montoya\", \"Webster\", \"Tarkowski\", \"Bardsley\", \"Pieters\", \"Mee\", \"Taylor\", \"Azpilicueta\", \"Alonso\", \"R\\u00fcdiger\", \"Zouma\", \"James\", \"Chilwell\", \"Cahill\", \"Ward\", \"Kelly\", \"van Aanholt\", \"Digne\", \"Keane\", \"Mina\", \"Holgate\", \"Evans\", \"Barbosa Pereira\", \"S\\u00f6y\\u00fcnc\\u00fc\", \"van Dijk\", \"Robertson\", \"Alexander-Arnold\", \"Gomez\", \"Otamendi\", \"Walker\", \"Mendy\", \"Ak\\u00e9\", \"Laporte\", \"Maguire\", \"Shaw\", \"Lindel\\u00f6f\", \"Wan-Bissaka\", \"Fern\\u00e1ndez\", \"Lascelles\", \"Manquillo\", \"Basham\", \"Stevens\", \"Baldock\", \"Egan\", \"O'Connell\", \"Bertrand\", \"Stephens\", \"Bednarek\", \"Alderweireld\", \"Aurier\", \"S\\u00e1nchez\", \"Doherty\", \"Ogbonna\", \"Cresswell\", \"Fredericks\", \"Diop\", \"Boly\", \"Coady\", \"Sa\\u00efss\", \"Castro Otto\"], \"type\": \"scatter\", \"x\": [1.5, 1.0, 1.0, 0.5, 0.5, 0.5, 0.5, 1.0, 0.5, 0.5, 1.5, 0.5, 0.5, 1.0, 0.5, 2.0, 2.0, 1.0, 1.0, 1.0, 1.5, 0.5, 0.5, 0.5, 1.5, 2.0, 1.0, 1.5, 1.0, 1.5, 2.0, 1.5, 2.5, 3.0, 3.5, 1.5, 1.0, 2.0, 2.0, 1.5, 2.0, 1.5, 1.0, 1.0, 1.5, 1.0, 0.5, 0.5, 1.0, 1.5, 1.5, 1.0, 1.0, 1.0, 1.0, 0.5, 1.5, 1.5, 1.5, 2.0, 1.0, 1.0, 0.5, 0.5, 1.5, 1.0, 1.0, 1.5], \"xaxis\": \"x2\", \"y\": [1.518927257624303, 3.477141017385705, 1.791867677463818, 5.237887385421214, 3.9254170755642788, 3.336604514229637, 3.195554011809656, 3.5294117647058822, 4.2283298097251585, 4.3478260869565215, 2.612085769980507, 7.619047619047619, 7.67590618336887, 3.1944444444444446, 8.436213991769547, 1.8271910808299783, 4.828551434569629, 2.9239766081871346, 0.8536064874093043, 3.7086092715231787, 3.4821679303566415, 4.060913705583756, 4.201680672268908, 7.756948933419522, 2.8719585161547667, 1.7485978225008247, 2.6604068857589986, 1.6367090457401725, 2.53411306042885, 2.0882584712371948, 2.6587301587301586, 2.3276240667545016, 2.3859649122807016, 2.4000857173470482, 2.521273242987709, 3.2683008170752044, 5.146198830409356, 2.5501672240802677, 2.749832327297116, 1.278465840990811, 3.5583941605839415, 1.8323586744639375, 3.352601156069364, 3.1047865459249677, 2.56243213897937, 3.3626289644631258, 5.202312138728324, 7.514088916718848, 3.1462060456508327, 2.7105132037867463, 2.573099415204678, 3.9535613429557577, 3.224699828473413, 1.0940919037199124, 2.5295797633618933, 2.2244030094864247, 1.4429038439860218, 3.2110658268494503, 0.5484711367064308, 3.6671368124118477, 1.4357501794687724, 1.3934726806013935, 4.47427293064877, 2.1699819168173597, 3.569023569023569, 2.456140350877193, 3.1816500184979652, 2.726747544771808], \"yaxis\": \"y2\"}, {\"mode\": \"markers\", \"text\": [\"Aubameyang\", \"Xhaka\", \"P\\u00e9p\\u00e9\", \"Saka\", \"Borges Da Silva\", \"Hourihane\", \"Grealish\", \"McGinn\", \"Ibrahim Hassan\", \"El Ghazi\", \"Soares de Paulo\", \"Stephens\", \"Gro\\u00df\", \"Pr\\u00f6pper\", \"Mooy\", \"Trossard\", \"Cork\", \"Westwood\", \"McNeil\", \"Frello Filho\", \"Barkley\", \"Kovacic\", \"Pulisic\", \"Mount\", \"McArthur\", \"Kouyat\\u00e9\", \"Milivojevic\", \"Zaha\", \"Walcott\", \"Sigurdsson\", \"An\\u00edcio Caldeira Duarte\", \"Tielemans\", \"P\\u00e9rez\", \"Maddison\", \"Barnes\", \"Ndidi\", \"Wijnaldum\", \"Henderson\", \"Oxlade-Chamberlain\", \"Man\\u00e9\", \"Tavares\", \"Salah\", \"Wilson\", \"G\\u00fcndogan\", \"De Bruyne\", \"Mahrez\", \"Sterling\", \"Veiga de Carvalho e Silva\", \"Foden\", \"Hernandez\", \"Borges Fernandes\", \"Pereira\", \"Rashford\", \"McTominay\", \"James\", \"Greenwood\", \"Shelvey\", \"Ritchie\", \"Hayden\", \"Saint-Maximin\", \"Almir\\u00f3n\", \"Hendrick\", \"Fleck\", \"Norwood\", \"Lundstram\", \"Redmond\", \"Armstrong\", \"Ward-Prowse\", \"Sissoko\", \"Lamela\", \"Son\", \"Rodrigues Moura da Silva\", \"Alli\", \"H\\u00f8jbjerg\", \"Noble\", \"Snodgrass\", \"Yarmolenko\", \"Pereira Gomes\", \"Rice\", \"Fornals\", \"Santos Moutinho\", \"Dendoncker\", \"Traor\\u00e9\", \"da Silva Neves\", \"Jota\"], \"type\": \"scatter\", \"x\": [7.5, 1.0, 3.5, 1.0, 3.5, 1.5, 2.5, 1.0, 1.0, 1.5, 0.5, 0.0, 1.5, 0.5, 0.5, 1.5, 0.5, 1.0, 1.5, 0.5, 1.5, 1.0, 4.0, 2.5, 1.0, 0.5, 1.5, 2.5, 1.5, 2.5, 1.5, 2.0, 2.0, 2.5, 2.5, 0.5, 1.0, 1.0, 2.0, 7.5, 1.0, 7.5, 1.0, 1.0, 7.0, 4.0, 7.0, 3.0, 2.0, 1.0, 6.0, 0.5, 5.0, 0.5, 2.0, 3.0, 1.0, 0.5, 0.5, 1.0, 1.5, 0.5, 1.5, 0.5, 1.0, 2.0, 1.0, 1.5, 0.5, 1.5, 4.5, 2.5, 3.5, 0.5, 0.5, 1.5, 1.5, 2.0, 0.5, 2.0, 1.0, 0.5, 2.0, 1.0, 2.0], \"xaxis\": \"x3\", \"y\": [1.1564625850340136, 1.237432327919567, 1.7678927858568576, 3.7800687285223367, 2.444260941370768, 4.36871996505024, 1.9300958861738324, 2.8546712802768166, 5.681818181818182, 3.1280547409579667, 5.0691244239631335, null, 2.754513307277126, 2.264685067232838, 6.541606541606542, 3.992015968063872, 1.836266258607498, 3.0476190476190474, 1.9566736547868624, 6.734006734006734, 4.505327245053272, 2.2276029055690074, 2.591729761211415, 2.0663176265270504, 1.552895503073439, 4.595879556259905, 1.3811420982735725, 1.171088746569076, 3.6429872495446265, 1.2211350293542074, 4.623062779091148, 1.9482819695359546, 4.2542542542542545, 2.042682926829268, 3.3542168674698796, 3.8936727817296894, 2.863961813842482, 5.998209489704566, 2.983050847457627, 1.554341226472374, 2.9908345393150024, 1.5746208174134537, 6.719609040928527, 2.0874751491053676, 1.935483870967742, 3.43846949327818, 1.5735302042355985, 2.375061850569025, 5.63063063063063, 2.9838709677419355, 2.555461948890761, 7.577807848443843, 1.7996219281663517, 7.932011331444759, 1.972818939061815, 3.837298541826554, 5.476864966949953, 13.71951219512195, 4.324324324324325, 5.483870967741935, 1.8543046357615893, 5.181347150259067, 2.43870112657389, 3.8847523470378764, 7.3409461663947795, 1.6648570394498734, 7.151230949589683, 1.5984405458089668, 2.4479804161566707, 4.322527015793849, 2.044659671778316, 1.825503355704698, 2.353852109949671, 2.036363636363636, 6.878504672897196, 4.787234042553192, 6.659870880054366, 2.2103148024112524, 3.391812865497076, 2.076603599446239, 2.8341384863123995, 5.448028673835125, 2.8087726048480186, 1.965280052407468, 2.4143985952589992], \"yaxis\": \"y3\"}, {\"mode\": \"markers\", \"text\": [\"Lacazette\", \"Moraes\", \"Maupay\", \"Connolly\", \"Rodriguez\", \"Barnes\", \"Wood\", \"Giroud\", \"Abraham\", \"Ayew\", \"Calvert-Lewin\", \"de Andrade\", \"Vardy\", \"Iheanacho\", \"Firmino\", \"Origi\", \"Ag\\u00fcero\", \"de Jesus\", \"Martial\", \"Apolin\\u00e1rio de Lira\", \"McGoldrick\", \"McBurnie\", \"Mousset\", \"Long\", \"Ings\", \"Adams\", \"Kane\", \"Antonio\", \"Haller\", \"Jim\\u00e9nez\"], \"type\": \"scatter\", \"x\": [4.0, 1.5, 2.0, 1.0, 1.5, 1.5, 2.0, 2.5, 3.0, 1.5, 2.5, 3.5, 5.5, 1.5, 5.0, 1.0, 6.0, 5.0, 4.5, 1.5, 1.0, 1.5, 1.5, 1.0, 4.0, 1.5, 6.0, 2.0, 2.0, 4.0], \"xaxis\": \"x4\", \"y\": [2.062131762185324, 2.0950243172465393, 2.5334781035106766, 5.44, 3.7296037296037294, 3.0617283950617282, 3.3661740558292284, 3.805668016194332, 3.1429434874584468, 2.6683608640406606, 2.075543685616177, 1.8054909260120986, 1.7150395778364116, 6.0160895417978315, 1.1926298157453936, 14.30615164520744, 2.3004370830457788, 2.0218037661050543, 2.4042328042328043, 0.9459795867562858, 2.7624309392265194, 2.5336500395882817, 6.214227309893704, 4.617604617604617, 2.4285714285714284, 6.575342465753424, 1.300875837197321, 4.074702886247878, 2.3019034971226207, 1.8821351434742364], \"yaxis\": \"y4\"}],\n",
       "                        {\"annotations\": [{\"font\": {\"size\": 16}, \"showarrow\": false, \"text\": \"GK\", \"x\": 0.5, \"xanchor\": \"center\", \"xref\": \"paper\", \"y\": 1.0, \"yanchor\": \"bottom\", \"yref\": \"paper\"}, {\"font\": {\"size\": 16}, \"showarrow\": false, \"text\": \"DEF\", \"x\": 0.5, \"xanchor\": \"center\", \"xref\": \"paper\", \"y\": 0.8233333333333334, \"yanchor\": \"bottom\", \"yref\": \"paper\"}, {\"font\": {\"size\": 16}, \"showarrow\": false, \"text\": \"MID\", \"x\": 0.5, \"xanchor\": \"center\", \"xref\": \"paper\", \"y\": 0.5683333333333334, \"yanchor\": \"bottom\", \"yref\": \"paper\"}, {\"font\": {\"size\": 16}, \"showarrow\": false, \"text\": \"FWD\", \"x\": 0.5, \"xanchor\": \"center\", \"xref\": \"paper\", \"y\": 0.235, \"yanchor\": \"bottom\", \"yref\": \"paper\"}], \"height\": 1200, \"showlegend\": false, \"template\": {\"data\": {\"bar\": [{\"error_x\": {\"color\": \"#2a3f5f\"}, \"error_y\": {\"color\": \"#2a3f5f\"}, \"marker\": {\"line\": {\"color\": \"#E5ECF6\", \"width\": 0.5}}, \"type\": \"bar\"}], \"barpolar\": [{\"marker\": {\"line\": {\"color\": \"#E5ECF6\", \"width\": 0.5}}, \"type\": \"barpolar\"}], \"carpet\": [{\"aaxis\": {\"endlinecolor\": \"#2a3f5f\", \"gridcolor\": \"white\", \"linecolor\": \"white\", \"minorgridcolor\": \"white\", \"startlinecolor\": \"#2a3f5f\"}, \"baxis\": {\"endlinecolor\": \"#2a3f5f\", \"gridcolor\": \"white\", \"linecolor\": \"white\", \"minorgridcolor\": \"white\", \"startlinecolor\": \"#2a3f5f\"}, \"type\": \"carpet\"}], \"choropleth\": [{\"colorbar\": {\"outlinewidth\": 0, \"ticks\": \"\"}, \"type\": \"choropleth\"}], \"contour\": [{\"colorbar\": {\"outlinewidth\": 0, \"ticks\": \"\"}, \"colorscale\": [[0.0, \"#0d0887\"], [0.1111111111111111, \"#46039f\"], [0.2222222222222222, \"#7201a8\"], [0.3333333333333333, \"#9c179e\"], [0.4444444444444444, \"#bd3786\"], [0.5555555555555556, \"#d8576b\"], [0.6666666666666666, \"#ed7953\"], [0.7777777777777778, \"#fb9f3a\"], [0.8888888888888888, \"#fdca26\"], [1.0, \"#f0f921\"]], \"type\": \"contour\"}], \"contourcarpet\": [{\"colorbar\": {\"outlinewidth\": 0, \"ticks\": \"\"}, \"type\": \"contourcarpet\"}], \"heatmap\": [{\"colorbar\": {\"outlinewidth\": 0, \"ticks\": \"\"}, \"colorscale\": [[0.0, \"#0d0887\"], [0.1111111111111111, \"#46039f\"], [0.2222222222222222, \"#7201a8\"], [0.3333333333333333, \"#9c179e\"], [0.4444444444444444, \"#bd3786\"], [0.5555555555555556, \"#d8576b\"], [0.6666666666666666, \"#ed7953\"], [0.7777777777777778, \"#fb9f3a\"], [0.8888888888888888, \"#fdca26\"], [1.0, \"#f0f921\"]], \"type\": \"heatmap\"}], \"heatmapgl\": [{\"colorbar\": {\"outlinewidth\": 0, \"ticks\": \"\"}, \"colorscale\": [[0.0, \"#0d0887\"], [0.1111111111111111, \"#46039f\"], [0.2222222222222222, \"#7201a8\"], [0.3333333333333333, \"#9c179e\"], [0.4444444444444444, \"#bd3786\"], [0.5555555555555556, \"#d8576b\"], [0.6666666666666666, \"#ed7953\"], [0.7777777777777778, \"#fb9f3a\"], [0.8888888888888888, \"#fdca26\"], [1.0, \"#f0f921\"]], \"type\": \"heatmapgl\"}], \"histogram\": [{\"marker\": {\"colorbar\": {\"outlinewidth\": 0, \"ticks\": \"\"}}, \"type\": \"histogram\"}], \"histogram2d\": [{\"colorbar\": {\"outlinewidth\": 0, \"ticks\": \"\"}, \"colorscale\": [[0.0, \"#0d0887\"], [0.1111111111111111, \"#46039f\"], [0.2222222222222222, \"#7201a8\"], [0.3333333333333333, \"#9c179e\"], [0.4444444444444444, \"#bd3786\"], [0.5555555555555556, \"#d8576b\"], [0.6666666666666666, \"#ed7953\"], [0.7777777777777778, \"#fb9f3a\"], [0.8888888888888888, \"#fdca26\"], [1.0, \"#f0f921\"]], \"type\": \"histogram2d\"}], \"histogram2dcontour\": [{\"colorbar\": {\"outlinewidth\": 0, \"ticks\": \"\"}, \"colorscale\": [[0.0, \"#0d0887\"], [0.1111111111111111, \"#46039f\"], [0.2222222222222222, \"#7201a8\"], [0.3333333333333333, \"#9c179e\"], [0.4444444444444444, \"#bd3786\"], [0.5555555555555556, \"#d8576b\"], [0.6666666666666666, \"#ed7953\"], [0.7777777777777778, \"#fb9f3a\"], [0.8888888888888888, \"#fdca26\"], [1.0, \"#f0f921\"]], \"type\": \"histogram2dcontour\"}], \"mesh3d\": [{\"colorbar\": {\"outlinewidth\": 0, \"ticks\": \"\"}, \"type\": \"mesh3d\"}], \"parcoords\": [{\"line\": {\"colorbar\": {\"outlinewidth\": 0, \"ticks\": \"\"}}, \"type\": \"parcoords\"}], \"pie\": [{\"automargin\": true, \"type\": \"pie\"}], \"scatter\": [{\"marker\": {\"colorbar\": {\"outlinewidth\": 0, \"ticks\": \"\"}}, \"type\": \"scatter\"}], \"scatter3d\": [{\"line\": {\"colorbar\": {\"outlinewidth\": 0, \"ticks\": \"\"}}, \"marker\": {\"colorbar\": {\"outlinewidth\": 0, \"ticks\": \"\"}}, \"type\": \"scatter3d\"}], \"scattercarpet\": [{\"marker\": {\"colorbar\": {\"outlinewidth\": 0, \"ticks\": \"\"}}, \"type\": \"scattercarpet\"}], \"scattergeo\": [{\"marker\": {\"colorbar\": {\"outlinewidth\": 0, \"ticks\": \"\"}}, \"type\": \"scattergeo\"}], \"scattergl\": [{\"marker\": {\"colorbar\": {\"outlinewidth\": 0, \"ticks\": \"\"}}, \"type\": \"scattergl\"}], \"scattermapbox\": [{\"marker\": {\"colorbar\": {\"outlinewidth\": 0, \"ticks\": \"\"}}, \"type\": \"scattermapbox\"}], \"scatterpolar\": [{\"marker\": {\"colorbar\": {\"outlinewidth\": 0, \"ticks\": \"\"}}, \"type\": \"scatterpolar\"}], \"scatterpolargl\": [{\"marker\": {\"colorbar\": {\"outlinewidth\": 0, \"ticks\": \"\"}}, \"type\": \"scatterpolargl\"}], \"scatterternary\": [{\"marker\": {\"colorbar\": {\"outlinewidth\": 0, \"ticks\": \"\"}}, \"type\": \"scatterternary\"}], \"surface\": [{\"colorbar\": {\"outlinewidth\": 0, \"ticks\": \"\"}, \"colorscale\": [[0.0, \"#0d0887\"], [0.1111111111111111, \"#46039f\"], [0.2222222222222222, \"#7201a8\"], [0.3333333333333333, \"#9c179e\"], [0.4444444444444444, \"#bd3786\"], [0.5555555555555556, \"#d8576b\"], [0.6666666666666666, \"#ed7953\"], [0.7777777777777778, \"#fb9f3a\"], [0.8888888888888888, \"#fdca26\"], [1.0, \"#f0f921\"]], \"type\": \"surface\"}], \"table\": [{\"cells\": {\"fill\": {\"color\": \"#EBF0F8\"}, \"line\": {\"color\": \"white\"}}, \"header\": {\"fill\": {\"color\": \"#C8D4E3\"}, \"line\": {\"color\": \"white\"}}, \"type\": \"table\"}]}, \"layout\": {\"annotationdefaults\": {\"arrowcolor\": \"#2a3f5f\", \"arrowhead\": 0, \"arrowwidth\": 1}, \"coloraxis\": {\"colorbar\": {\"outlinewidth\": 0, \"ticks\": \"\"}}, \"colorscale\": {\"diverging\": [[0, \"#8e0152\"], [0.1, \"#c51b7d\"], [0.2, \"#de77ae\"], [0.3, \"#f1b6da\"], [0.4, \"#fde0ef\"], [0.5, \"#f7f7f7\"], [0.6, \"#e6f5d0\"], [0.7, \"#b8e186\"], [0.8, \"#7fbc41\"], [0.9, \"#4d9221\"], [1, \"#276419\"]], \"sequential\": [[0.0, \"#0d0887\"], [0.1111111111111111, \"#46039f\"], [0.2222222222222222, \"#7201a8\"], [0.3333333333333333, \"#9c179e\"], [0.4444444444444444, \"#bd3786\"], [0.5555555555555556, \"#d8576b\"], [0.6666666666666666, \"#ed7953\"], [0.7777777777777778, \"#fb9f3a\"], [0.8888888888888888, \"#fdca26\"], [1.0, \"#f0f921\"]], \"sequentialminus\": [[0.0, \"#0d0887\"], [0.1111111111111111, \"#46039f\"], [0.2222222222222222, \"#7201a8\"], [0.3333333333333333, \"#9c179e\"], [0.4444444444444444, \"#bd3786\"], [0.5555555555555556, \"#d8576b\"], [0.6666666666666666, \"#ed7953\"], [0.7777777777777778, \"#fb9f3a\"], [0.8888888888888888, \"#fdca26\"], [1.0, \"#f0f921\"]]}, \"colorway\": [\"#636efa\", \"#EF553B\", \"#00cc96\", \"#ab63fa\", \"#FFA15A\", \"#19d3f3\", \"#FF6692\", \"#B6E880\", \"#FF97FF\", \"#FECB52\"], \"font\": {\"color\": \"#2a3f5f\"}, \"geo\": {\"bgcolor\": \"white\", \"lakecolor\": \"white\", \"landcolor\": \"#E5ECF6\", \"showlakes\": true, \"showland\": true, \"subunitcolor\": \"white\"}, \"hoverlabel\": {\"align\": \"left\"}, \"hovermode\": \"closest\", \"mapbox\": {\"style\": \"light\"}, \"paper_bgcolor\": \"white\", \"plot_bgcolor\": \"#E5ECF6\", \"polar\": {\"angularaxis\": {\"gridcolor\": \"white\", \"linecolor\": \"white\", \"ticks\": \"\"}, \"bgcolor\": \"#E5ECF6\", \"radialaxis\": {\"gridcolor\": \"white\", \"linecolor\": \"white\", \"ticks\": \"\"}}, \"scene\": {\"xaxis\": {\"backgroundcolor\": \"#E5ECF6\", \"gridcolor\": \"white\", \"gridwidth\": 2, \"linecolor\": \"white\", \"showbackground\": true, \"ticks\": \"\", \"zerolinecolor\": \"white\"}, \"yaxis\": {\"backgroundcolor\": \"#E5ECF6\", \"gridcolor\": \"white\", \"gridwidth\": 2, \"linecolor\": \"white\", \"showbackground\": true, \"ticks\": \"\", \"zerolinecolor\": \"white\"}, \"zaxis\": {\"backgroundcolor\": \"#E5ECF6\", \"gridcolor\": \"white\", \"gridwidth\": 2, \"linecolor\": \"white\", \"showbackground\": true, \"ticks\": \"\", \"zerolinecolor\": \"white\"}}, \"shapedefaults\": {\"line\": {\"color\": \"#2a3f5f\"}}, \"ternary\": {\"aaxis\": {\"gridcolor\": \"white\", \"linecolor\": \"white\", \"ticks\": \"\"}, \"baxis\": {\"gridcolor\": \"white\", \"linecolor\": \"white\", \"ticks\": \"\"}, \"bgcolor\": \"#E5ECF6\", \"caxis\": {\"gridcolor\": \"white\", \"linecolor\": \"white\", \"ticks\": \"\"}}, \"title\": {\"x\": 0.05}, \"xaxis\": {\"automargin\": true, \"gridcolor\": \"white\", \"linecolor\": \"white\", \"ticks\": \"\", \"title\": {\"standoff\": 15}, \"zerolinecolor\": \"white\", \"zerolinewidth\": 2}, \"yaxis\": {\"automargin\": true, \"gridcolor\": \"white\", \"linecolor\": \"white\", \"ticks\": \"\", \"title\": {\"standoff\": 15}, \"zerolinecolor\": \"white\", \"zerolinewidth\": 2}}}, \"title\": {\"text\": \"Points Rate Fixed\"}, \"width\": 1000, \"xaxis\": {\"anchor\": \"y\", \"domain\": [0.0, 1.0], \"dtick\": 0.5, \"matches\": \"x4\", \"showticklabels\": false, \"tick0\": 0}, \"xaxis2\": {\"anchor\": \"y2\", \"domain\": [0.0, 1.0], \"dtick\": 0.5, \"matches\": \"x4\", \"showticklabels\": false, \"tick0\": 0}, \"xaxis3\": {\"anchor\": \"y3\", \"domain\": [0.0, 1.0], \"dtick\": 0.5, \"matches\": \"x4\", \"showticklabels\": false, \"tick0\": 0}, \"xaxis4\": {\"anchor\": \"y4\", \"domain\": [0.0, 1.0], \"dtick\": 0.5, \"tick0\": 0}, \"yaxis\": {\"anchor\": \"x\", \"domain\": [0.8433333333333333, 1.0]}, \"yaxis2\": {\"anchor\": \"x2\", \"domain\": [0.5883333333333334, 0.8233333333333334]}, \"yaxis3\": {\"anchor\": \"x3\", \"domain\": [0.255, 0.5683333333333334]}, \"yaxis4\": {\"anchor\": \"x4\", \"domain\": [0.0, 0.235]}},\n",
       "                        {\"responsive\": true}\n",
       "                    ).then(function(){\n",
       "                            \n",
       "var gd = document.getElementById('3bd5ca6a-4b5e-4fa9-a6f0-f8ec3ec5419b');\n",
       "var x = new MutationObserver(function (mutations, observer) {{\n",
       "        var display = window.getComputedStyle(gd).display;\n",
       "        if (!display || display === 'none') {{\n",
       "            console.log([gd, 'removed!']);\n",
       "            Plotly.purge(gd);\n",
       "            observer.disconnect();\n",
       "        }}\n",
       "}});\n",
       "\n",
       "// Listen for the removal of the full notebook cells\n",
       "var notebookContainer = gd.closest('#notebook-container');\n",
       "if (notebookContainer) {{\n",
       "    x.observe(notebookContainer, {childList: true});\n",
       "}}\n",
       "\n",
       "// Listen for the clearing of the current output cell\n",
       "var outputEl = gd.closest('.output');\n",
       "if (outputEl) {{\n",
       "    x.observe(outputEl, {childList: true});\n",
       "}}\n",
       "\n",
       "                        })\n",
       "                };\n",
       "                });\n",
       "            </script>\n",
       "        </div>"
      ]
     },
     "metadata": {},
     "output_type": "display_data"
    }
   ],
   "source": [
    "from plotly.subplots import make_subplots\n",
    "import plotly.graph_objects as go\n",
    "\n",
    "fig = make_subplots(rows=4, cols=1,subplot_titles=(\"GK\", \"DEF\", \"MID\", \"FWD\"),\n",
    "                   row_heights=[0.2,0.3,0.4,0.3],\n",
    "                   shared_xaxes=True,\n",
    "                   vertical_spacing=0.02,\n",
    "                   #specs = [[{'template':'plotly_dark'}],[{'template':'plotly_dark'}],[{'template':'plotly_dark'}],[{'template':'plotly_dark'}]]\n",
    "                   )\n",
    "fig.add_trace(\n",
    "    go.Scatter(x=GK[\"realCost\"], y=GK[\"PointRateFixed\"],mode='markers',text=GK['second_name']),\n",
    "    row=1, col=1\n",
    ")\n",
    "\n",
    "fig.add_trace(\n",
    "    go.Scatter(x=DEF[\"realCost\"], y=DEF[\"PointRateFixed\"],mode='markers',text=DEF['second_name']),\n",
    "    row=2, col=1\n",
    ")\n",
    "\n",
    "fig.add_trace(\n",
    "    go.Scatter(x=MID[\"realCost\"], y=MID[\"PointRateFixed\"],mode='markers',text=MID['second_name']),\n",
    "    row=3, col=1\n",
    ")\n",
    "\n",
    "fig.add_trace(\n",
    "    go.Scatter(x=FWD[\"realCost\"], y=FWD[\"PointRateFixed\"],mode='markers',text=FWD['second_name']),\n",
    "    row=4, col=1\n",
    ")\n",
    "\n",
    "fig.update_xaxes(tick0=0, dtick=0.5)\n",
    "\n",
    "fig.update_layout(height=1200, width=1000, title_text=\"Points Rate Fixed\",showlegend=False)\n",
    "fig.show()\n"
   ]
  },
  {
   "cell_type": "code",
   "execution_count": null,
   "metadata": {},
   "outputs": [],
   "source": []
  }
 ],
 "metadata": {
  "kernelspec": {
   "display_name": "Python 3",
   "language": "python",
   "name": "python3"
  },
  "language_info": {
   "codemirror_mode": {
    "name": "ipython",
    "version": 3
   },
   "file_extension": ".py",
   "mimetype": "text/x-python",
   "name": "python",
   "nbconvert_exporter": "python",
   "pygments_lexer": "ipython3",
   "version": "3.8.3"
  }
 },
 "nbformat": 4,
 "nbformat_minor": 4
}
